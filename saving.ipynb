{
 "cells": [
  {
   "cell_type": "code",
   "execution_count": null,
   "metadata": {},
   "outputs": [],
   "source": []
  },
  {
   "cell_type": "markdown",
   "metadata": {},
   "source": [
    "# Load dataset"
   ]
  },
  {
   "cell_type": "code",
   "execution_count": 1,
   "metadata": {},
   "outputs": [],
   "source": [
    "%matplotlib inline\n",
    "import matplotlib.pyplot as plt\n",
    "import numpy as np\n",
    "import torch\n",
    "import torch.nn.functional as F\n",
    "from torch.utils.data import Dataset\n",
    "from torch.utils.data import DataLoader\n",
    "import cv2"
   ]
  },
  {
   "cell_type": "code",
   "execution_count": 2,
   "metadata": {},
   "outputs": [
    {
     "name": "stdout",
     "output_type": "stream",
     "text": [
      "======\n",
      "Loading NuScenes tables for version v1.0-mini...\n",
      "23 category,\n",
      "8 attribute,\n",
      "4 visibility,\n",
      "911 instance,\n",
      "12 sensor,\n",
      "120 calibrated_sensor,\n",
      "31206 ego_pose,\n",
      "8 log,\n",
      "10 scene,\n",
      "404 sample,\n",
      "31206 sample_data,\n",
      "18538 sample_annotation,\n",
      "4 map,\n",
      "Done loading in 0.375 seconds.\n",
      "======\n",
      "Reverse indexing ...\n",
      "Done reverse indexing in 0.1 seconds.\n",
      "======\n",
      "num_samples: 404\n"
     ]
    }
   ],
   "source": [
    "from rasterization_q10.generator_dev import NusLoaderQ10\n",
    "\n",
    "DATAROOT='/datasets/nuscene/v1.0-mini'\n",
    "\n",
    "sampling_time = 3\n",
    "agent_time = 0 # zero for static mask, non-zero for overlap\n",
    "\n",
    "layer_names = ['drivable_area', 'road_segment', 'road_block',\n",
    "               'lane', 'ped_crossing', 'walkway', 'stop_line',\n",
    "               'carpark_area', 'road_divider', 'lane_divider']\n",
    "colors = [(255, 255, 255), (100, 255, 255), (255, 100, 255),\n",
    "          (255, 255, 100), (100, 100, 255), (100, 255, 100), (255, 100, 100),\n",
    "          (100, 100, 100), (50, 100, 50), (200, 50, 50),]\n",
    "\n",
    "dataset = NusLoaderQ10(\n",
    "    root=DATAROOT, \n",
    "    sampling_time=sampling_time, \n",
    "    agent_time=agent_time, \n",
    "    layer_names=layer_names, \n",
    "    colors=colors,\n",
    "    resolution=0.1,\n",
    "    meters_ahead=25,\n",
    "    meters_behind=25,\n",
    "    meters_left=25,\n",
    "    meters_right=25)\n",
    "\n",
    "print(\"num_samples: {}\".format(len(dataset)))"
   ]
  },
  {
   "cell_type": "code",
   "execution_count": 3,
   "metadata": {},
   "outputs": [
    {
     "name": "stdout",
     "output_type": "stream",
     "text": [
      "(11, 500, 500, 3)\n",
      "(500, 500, 3)\n",
      "(500, 500, 3)\n",
      "14\n",
      "5\n"
     ]
    },
    {
     "name": "stderr",
     "output_type": "stream",
     "text": [
      "/home/q10/.pyenv/versions/intelpro/lib/python3.7/site-packages/numpy/core/_asarray.py:83: VisibleDeprecationWarning: Creating an ndarray from ragged nested sequences (which is a list-or-tuple of lists-or-tuples-or ndarrays with different lengths or shapes) is deprecated. If you meant to do this, you must specify 'dtype=object' when creating the ndarray\n",
      "  return array(a, dtype, copy=False, order=order)\n"
     ]
    }
   ],
   "source": [
    "dataset.thres_min = -1\n",
    "dataset.thres_max = 99999\n",
    "\n",
    "map_masks, map_img, agent_mask, xy_local, \\\n",
    "virtual_mask, virtual_xy_local, idx = dataset[190] # 100th sample\n",
    "\n",
    "agent_past = xy_local[0]\n",
    "agent_future = xy_local[1]\n",
    "agent_translation = xy_local[2]\n",
    "\n",
    "virtual_past = virtual_xy_local[0]\n",
    "virtual_future = virtual_xy_local[1]\n",
    "virtual_translation = virtual_xy_local[2]\n",
    "\n",
    "print(map_masks.shape)\n",
    "print(agent_mask.shape)\n",
    "print(virtual_mask.shape)\n",
    "\n",
    "print(len(agent_past))\n",
    "print(len(virtual_past))"
   ]
  },
  {
   "cell_type": "code",
   "execution_count": 4,
   "metadata": {},
   "outputs": [],
   "source": [
    "def draw_paths(ax, local_paths):\n",
    "    past = local_paths[0]\n",
    "    future = local_paths[1]\n",
    "    for i in range(len(past)):\n",
    "        if len(past[i]) != 0:\n",
    "            ax.plot(past[i][-6:, 0], past[i][-6:, 1], \n",
    "                    color='salmon', linewidth=6, alpha=0.5)\n",
    "        if len(future[i]) != 0:\n",
    "            ax.plot(future[i][:6, 0], future[i][:6, 1], \n",
    "                    color='steelblue', linewidth=6, alpha=0.5)"
   ]
  },
  {
   "cell_type": "code",
   "execution_count": 5,
   "metadata": {},
   "outputs": [
    {
     "data": {
      "image/png": "[encoded data removed]",
      "text/plain": [
       "<Figure size 1440x360 with 11 Axes>"
      ]
     },
     "metadata": {},
     "output_type": "display_data"
    }
   ],
   "source": [
    "N = map_masks.shape[0]\n",
    "fig, ax = plt.subplots(1,N, figsize=(20,5))\n",
    "for i in range(N):\n",
    "    ax[i].imshow(map_masks[i])\n",
    "plt.show()"
   ]
  },
  {
   "cell_type": "code",
   "execution_count": 6,
   "metadata": {},
   "outputs": [],
   "source": [
    "from nuscenes.prediction.input_representation.combinators import Rasterizer\n",
    "combinator = Rasterizer()\n",
    "\n",
    "def show_samples():\n",
    "    agents_combined = combinator.combine(\n",
    "        np.append(map_masks[[0,5,8,9]], agent_mask[np.newaxis,...], axis=0))\n",
    "    virtual_agents_combined = combinator.combine(\n",
    "        np.append(map_masks[[0,5,8,9]], virtual_mask[np.newaxis,...], axis=0))\n",
    "\n",
    "    fig, ax = plt.subplots(1,2, figsize=(10,5))\n",
    "\n",
    "    ax[0].set_title(\"original\")\n",
    "    ax[0].imshow(agents_combined, extent=[-25,25,-25,25])\n",
    "    if len(xy_local[0]) != 0:\n",
    "        draw_paths(ax[0], xy_local)\n",
    "        ax[0].scatter(agent_translation[:,0], agent_translation[:,1], c='r')\n",
    "    ax[0].set_xlim(-25, 25)\n",
    "    ax[0].set_ylim(-25, 25)\n",
    "\n",
    "    ax[1].set_title(\"generated\")\n",
    "    ax[1].imshow(virtual_agents_combined, extent=[-25,25,-25,25])\n",
    "    if len(virtual_xy_local[0]) != 0:\n",
    "        draw_paths(ax[1], virtual_xy_local)\n",
    "        ax[1].scatter(virtual_translation[:,0], virtual_translation[:,1], c='r')\n",
    "    ax[1].set_xlim(-25, 25)\n",
    "    ax[1].set_ylim(-25, 25)\n",
    "\n",
    "    plt.show()"
   ]
  },
  {
   "cell_type": "code",
   "execution_count": 7,
   "metadata": {},
   "outputs": [],
   "source": [
    "def load_data(idx, thres_min, thres_max):\n",
    "    global dataset, map_masks, map_img, agent_mask, xy_local,\\\n",
    "    virtual_mask, virtual_xy_local,\\\n",
    "    agent_past, agent_future, agent_translation,\\\n",
    "    virtual_past, virtual_future, virtual_translation\n",
    "    \n",
    "    dataset.thres_min = thres_min\n",
    "    dataset.thres_max = thres_max\n",
    "    \n",
    "    map_masks, map_img, agent_mask, xy_local, \\\n",
    "    virtual_mask, virtual_xy_local, idx = dataset[idx]\n",
    "    \n",
    "    agent_past = xy_local[0]\n",
    "    agent_future = xy_local[1]\n",
    "    agent_translation = xy_local[2] \n",
    "    virtual_past = virtual_xy_local[0]\n",
    "    virtual_future = virtual_xy_local[1]\n",
    "    virtual_translation = virtual_xy_local[2]"
   ]
  },
  {
   "cell_type": "code",
   "execution_count": 8,
   "metadata": {},
   "outputs": [
    {
     "data": {
      "image/png": "[encoded data removed]",
      "text/plain": [
       "<Figure size 720x360 with 2 Axes>"
      ]
     },
     "metadata": {},
     "output_type": "display_data"
    }
   ],
   "source": [
    "load_data(220, -1, 99999)\n",
    "show_samples()"
   ]
  },
  {
   "cell_type": "code",
   "execution_count": 9,
   "metadata": {},
   "outputs": [
    {
     "data": {
      "text/plain": [
       "<matplotlib.image.AxesImage at 0x7f7568092ed0>"
      ]
     },
     "execution_count": 9,
     "metadata": {},
     "output_type": "execute_result"
    },
    {
     "data": {
      "image/png": "[encoded data removed]",
      "text/plain": [
       "<Figure size 432x288 with 1 Axes>"
      ]
     },
     "metadata": {},
     "output_type": "display_data"
    }
   ],
   "source": [
    "plt.imshow(map_img)"
   ]
  },
  {
   "cell_type": "markdown",
   "metadata": {},
   "source": [
    "# Save data"
   ]
  },
  {
   "cell_type": "markdown",
   "metadata": {},
   "source": [
    "scene_images.shape,  \n",
    "log_prior.shape,  \n",
    "agent_masks.shape,   \n",
    "num_src_trajs.shape,  \n",
    "src_trajs.shape,  \n",
    "src_lens.shape,  \n",
    "src_len_idx.shape,   \n",
    "num_tgt_trajs.shape,  \n",
    "tgt_trajs.shape,  \n",
    "tgt_lens.shape,  \n",
    "tgt_len_idx.shape,   \n",
    "tgt_two_mask.shape,  \n",
    "tgt_three_mask.shape,   \n",
    "decode_start_vel.shape,  \n",
    "decode_start_pos.shape,  \n",
    "scene_id.shape   "
   ]
  },
  {
   "cell_type": "code",
   "execution_count": 12,
   "metadata": {},
   "outputs": [],
   "source": [
    "from torchvision import transforms\n",
    "import torch.nn.functional as F\n",
    "\n",
    "p_transform = transforms.Compose([\n",
    "    transforms.ToTensor(),\n",
    "    transforms.Normalize([23.0582], [27.3226]),\n",
    "    transforms.Lambda(lambda x: F.log_softmax(x.reshape(-1), dim=0).reshape(x.shape[1:]))\n",
    "])\n",
    "\n",
    "img_transform = transforms.Compose([\n",
    "    transforms.ToTensor(),\n",
    "    transforms.Normalize([23.0582], [27.3226])\n",
    "])\n",
    "\n",
    "def generateDistanceMaskFromColorMap(src, scene_size=(64, 64)):\n",
    "    img = cv2.resize(src, scene_size)\n",
    "    raw_image = cv2.cvtColor(img, cv2.COLOR_BGR2GRAY)\n",
    "    ret, thresh = cv2.threshold(raw_image, 100, 255, cv2.THRESH_BINARY)\n",
    "    thresh = cv2.bitwise_not(thresh)\n",
    "    raw_image = cv2.distanceTransform(thresh, cv2.DIST_L2, 5)\n",
    "\n",
    "    raw_map_image = cv2.resize(raw_image.astype(np.float32), dsize=(100, 100), interpolation=cv2.INTER_LINEAR)\n",
    "    raw_map_image[raw_map_image < 0] = 0 # Uniform on drivable area\n",
    "    raw_map_image = raw_map_image.max() - raw_map_image # Invert values so that non-drivable area has smaller values\n",
    "\n",
    "    image = img_transform(raw_image)\n",
    "    prior = p_transform(raw_map_image)\n",
    "\n",
    "    return image, prior"
   ]
  },
  {
   "cell_type": "code",
   "execution_count": 13,
   "metadata": {},
   "outputs": [],
   "source": [
    "def showDistanceMap(image, prior):\n",
    "    fig, ax = plt.subplots(1,2, figsize=(10,5))\n",
    "\n",
    "    a = ax[0].imshow(image[0], cmap='gray')\n",
    "    fig.colorbar(a, ax=ax[0], orientation='vertical')\n",
    "\n",
    "    b = ax[1].imshow(prior, cmap='gray')\n",
    "    fig.colorbar(b, ax=ax[1], orientation='vertical')\n",
    "\n",
    "    plt.show()"
   ]
  },
  {
   "cell_type": "code",
   "execution_count": 14,
   "metadata": {},
   "outputs": [],
   "source": [
    "def get_agent_mask(agent_past, agent_future, agent_translation):\n",
    "    map_width = 50\n",
    "    map_height = 50\n",
    "    \n",
    "    num_agents = len(agent_past)\n",
    "    future_agent_masks = [True] * num_agents\n",
    "\n",
    "    past_agents_traj = [[[0., 0.]] * 4] * num_agents\n",
    "    future_agents_traj = [[[0., 0.]] * 6] * num_agents\n",
    "    \n",
    "    past_agents_traj = np.array(past_agents_traj)\n",
    "    future_agents_traj = np.array(future_agents_traj)\n",
    "\n",
    "    past_agents_traj_len = [4] * num_agents\n",
    "    future_agents_traj_len = [6] * num_agents\n",
    "\n",
    "    decode_start_vel = [[0.,0.]] * num_agents\n",
    "    decode_start_pos = [[0.,0.]] * num_agents\n",
    "\n",
    "    for idx, path in enumerate(zip(agent_past, agent_future)):\n",
    "        past = path[0]\n",
    "        future = path[1]\n",
    "        pose = agent_translation[idx]\n",
    "\n",
    "        # agent filtering\n",
    "        side_length = map_width // 2\n",
    "        if len(past) == 0 or len(future) == 0 \\\n",
    "        or np.max(pose) > side_length or np.min(pose) < -side_length:\n",
    "            future_agent_masks[idx] = False\n",
    "\n",
    "        # agent trajectory\n",
    "        if len(past) < 4:\n",
    "            past_agents_traj_len[idx] = len(past)\n",
    "        for i, point in enumerate(past[:4]):\n",
    "            past_agents_traj[idx, i] = point\n",
    "\n",
    "        if len(future) < 6:\n",
    "            future_agents_traj_len[idx] = len(future)\n",
    "        for i, point in enumerate(future[:6]):\n",
    "            future_agents_traj[idx, i] = point\n",
    "\n",
    "        # vel, pose\n",
    "        if len(future) != 0:\n",
    "            decode_start_vel[idx] = (future[0] - agent_translation[idx]) / 0.5\n",
    "        decode_start_pos[idx] = agent_translation[idx]\n",
    "        \n",
    "    return past_agents_traj, past_agents_traj_len, future_agents_traj, future_agents_traj_len, \\\n",
    "        future_agent_masks, decode_start_vel, decode_start_pos"
   ]
  },
  {
   "cell_type": "code",
   "execution_count": 15,
   "metadata": {},
   "outputs": [],
   "source": [
    "def load_data(idx, thres_min, thres_max):\n",
    "    global dataset, map_masks, map_img, agent_mask, xy_local,\\\n",
    "    virtual_mask, virtual_xy_local,\\\n",
    "    agent_past, agent_future, agent_translation,\\\n",
    "    virtual_past, virtual_future, virtual_translation\n",
    "    \n",
    "    dataset.thres_min = thres_min\n",
    "    dataset.thres_max = thres_max\n",
    "    \n",
    "    map_masks, map_img, agent_mask, xy_local, \\\n",
    "    virtual_mask, virtual_xy_local, idx = dataset[idx]\n",
    "    \n",
    "    agent_past = xy_local[0]\n",
    "    agent_future = xy_local[1]\n",
    "    agent_translation = xy_local[2] \n",
    "    virtual_past = virtual_xy_local[0]\n",
    "    virtual_future = virtual_xy_local[1]\n",
    "    virtual_translation = virtual_xy_local[2]"
   ]
  },
  {
   "cell_type": "code",
   "execution_count": 16,
   "metadata": {},
   "outputs": [],
   "source": [
    "def dataProcessing(virtual=False): \n",
    "    global map_masks, agent_past, agent_future, agent_translation, virtual_past, virtual_future, virtual_translation\n",
    "    \n",
    "    scene_id = idx\n",
    "\n",
    "    # map mask & prior mask\n",
    "    map_image, prior = generateDistanceMaskFromColorMap(map_masks[0], scene_size=(64, 64))\n",
    "\n",
    "    # agent mask\n",
    "    past_agents_traj, past_agents_traj_len, future_agents_traj, future_agents_traj_len, \\\n",
    "    future_agent_masks, decode_start_vel, decode_start_pos = get_agent_mask(agent_past, agent_future, agent_translation)\n",
    "\n",
    "    # virtual agent mask\n",
    "    past_agents_traj2, past_agents_traj_len2, future_agents_traj2, future_agents_traj_len2, \\\n",
    "    future_agent_masks2, decode_start_vel2, decode_start_pos2 = get_agent_mask(virtual_past, virtual_future, virtual_translation)\n",
    "\n",
    "    episode = None\n",
    "    if virtual:\n",
    "        episode = [past_agents_traj2, past_agents_traj_len2, future_agents_traj2, \n",
    "                   future_agents_traj_len2, future_agent_masks2,\n",
    "                   np.array(decode_start_vel2), np.array(decode_start_pos2), \n",
    "                   map_image, prior, scene_id]\n",
    "    else:\n",
    "        episode = [past_agents_traj, past_agents_traj_len, future_agents_traj, \n",
    "                   future_agents_traj_len, future_agent_masks,\n",
    "                   np.array(decode_start_vel), np.array(decode_start_pos),\n",
    "                   map_image, prior, scene_id]\n",
    "\n",
    "    return episode"
   ]
  },
  {
   "cell_type": "code",
   "execution_count": 17,
   "metadata": {},
   "outputs": [],
   "source": [
    "def calculateCurve(points):\n",
    "    if len(points) < 3:\n",
    "        return 0\n",
    "    curvature_list = np.empty(0)\n",
    "    for i in range(len(points) - 2):\n",
    "        A = points[i]\n",
    "        B = points[i + 1]\n",
    "        C = points[i + 2]\n",
    "        curvature_value = abs(curvature(A, B, C))\n",
    "        curvature_list = np.append(curvature_list, curvature_value)\n",
    "    return np.average(curvature_list)"
   ]
  },
  {
   "cell_type": "code",
   "execution_count": 25,
   "metadata": {},
   "outputs": [],
   "source": [
    "def dataGeneration(thres=0.02, curved_ratio=0.3):\n",
    "    episodes = []\n",
    "    \n",
    "    num_linear = 0\n",
    "    num_curved = 0\n",
    "    \n",
    "    N = len(dataset)\n",
    "    \n",
    "    # count the number of curved agents\n",
    "    global agent_past\n",
    "    for idx in range(N):\n",
    "        load_data(idx, -1, thres)\n",
    "        num_linear += len(agent_past)\n",
    "        load_data(idx, thres, 99999)\n",
    "        num_curved += len(agent_past)\n",
    "    \n",
    "    # original data\n",
    "    for idx in range(N):\n",
    "        load_data(idx, -1, 99999)\n",
    "        episode = dataProcessing()\n",
    "        if sum(episode[4]) > 0:\n",
    "            episodes.append(episode)\n",
    "    \n",
    "    # generate curved data\n",
    "    curved_target = (num_linear/(1-curved_ratio)) * curved_ratio - num_curved\n",
    "    index = 0\n",
    "    while curved_target > 0:\n",
    "        load_data(index, thres, 99999)\n",
    "        episode = dataProcessing(virtual=True)\n",
    "        \n",
    "        n = sum(episode[4])\n",
    "        \n",
    "        if n > 0:\n",
    "            episodes.append(episode)\n",
    "            curved_target -= n\n",
    "            \n",
    "        index += 1\n",
    "        if index > N - 1:\n",
    "            index = 0\n",
    "    \n",
    "    return episodes"
   ]
  },
  {
   "cell_type": "code",
   "execution_count": 255,
   "metadata": {},
   "outputs": [
    {
     "name": "stderr",
     "output_type": "stream",
     "text": [
      "/home/q10/ws/repos/naverlabs2020/nuscene_parser/rasterization_q10/input_representation/agents.py:32: RuntimeWarning: invalid value encountered in double_scalars\n",
      "  curvature = 4 * area / (np.linalg.norm(A - B) * np.linalg.norm(B - C) * np.linalg.norm(C - A))\n",
      "/home/q10/.pyenv/versions/intelpro/lib/python3.7/site-packages/numpy/core/_asarray.py:83: VisibleDeprecationWarning: Creating an ndarray from ragged nested sequences (which is a list-or-tuple of lists-or-tuples-or ndarrays with different lengths or shapes) is deprecated. If you meant to do this, you must specify 'dtype=object' when creating the ndarray\n",
      "  return array(a, dtype, copy=False, order=order)\n",
      "/home/q10/ws/repos/naverlabs2020/nuscene_parser/rasterization_q10/input_representation/agents.py:32: RuntimeWarning: divide by zero encountered in double_scalars\n",
      "  curvature = 4 * area / (np.linalg.norm(A - B) * np.linalg.norm(B - C) * np.linalg.norm(C - A))\n"
     ]
    },
    {
     "ename": "KeyboardInterrupt",
     "evalue": "",
     "output_type": "error",
     "traceback": [
      "\u001b[0;31m---------------------------------------------------------------------------\u001b[0m",
      "\u001b[0;31mKeyboardInterrupt\u001b[0m                         Traceback (most recent call last)",
      "\u001b[0;32m<ipython-input-255-a4fc8f4f591b>\u001b[0m in \u001b[0;36m<module>\u001b[0;34m\u001b[0m\n\u001b[1;32m      2\u001b[0m \u001b[0mcurved_ratio\u001b[0m \u001b[0;34m=\u001b[0m \u001b[0;36m0.3\u001b[0m\u001b[0;34m\u001b[0m\u001b[0;34m\u001b[0m\u001b[0m\n\u001b[1;32m      3\u001b[0m \u001b[0;34m\u001b[0m\u001b[0m\n\u001b[0;32m----> 4\u001b[0;31m \u001b[0mparsed_data\u001b[0m \u001b[0;34m=\u001b[0m \u001b[0mdataGeneration\u001b[0m\u001b[0;34m(\u001b[0m\u001b[0mthres\u001b[0m\u001b[0;34m=\u001b[0m\u001b[0mthres\u001b[0m\u001b[0;34m,\u001b[0m \u001b[0mcurved_ratio\u001b[0m\u001b[0;34m=\u001b[0m\u001b[0mcurved_ratio\u001b[0m\u001b[0;34m)\u001b[0m\u001b[0;34m\u001b[0m\u001b[0;34m\u001b[0m\u001b[0m\n\u001b[0m\u001b[1;32m      5\u001b[0m \u001b[0;34m\u001b[0m\u001b[0m\n\u001b[1;32m      6\u001b[0m \u001b[0mprint\u001b[0m\u001b[0;34m(\u001b[0m\u001b[0;34m\"Number of Data: {}\"\u001b[0m\u001b[0;34m.\u001b[0m\u001b[0mformat\u001b[0m\u001b[0;34m(\u001b[0m\u001b[0mlen\u001b[0m\u001b[0;34m(\u001b[0m\u001b[0mparsed_data\u001b[0m\u001b[0;34m)\u001b[0m\u001b[0;34m)\u001b[0m\u001b[0;34m)\u001b[0m\u001b[0;34m\u001b[0m\u001b[0;34m\u001b[0m\u001b[0m\n",
      "\u001b[0;32m<ipython-input-254-07ff467a8af6>\u001b[0m in \u001b[0;36mdataGeneration\u001b[0;34m(thres, curved_ratio)\u001b[0m\n\u001b[1;32m     12\u001b[0m         \u001b[0mload_data\u001b[0m\u001b[0;34m(\u001b[0m\u001b[0midx\u001b[0m\u001b[0;34m,\u001b[0m \u001b[0;34m-\u001b[0m\u001b[0;36m1\u001b[0m\u001b[0;34m,\u001b[0m \u001b[0mthres\u001b[0m\u001b[0;34m)\u001b[0m\u001b[0;34m\u001b[0m\u001b[0;34m\u001b[0m\u001b[0m\n\u001b[1;32m     13\u001b[0m         \u001b[0mnum_linear\u001b[0m \u001b[0;34m+=\u001b[0m \u001b[0mlen\u001b[0m\u001b[0;34m(\u001b[0m\u001b[0magent_past\u001b[0m\u001b[0;34m)\u001b[0m\u001b[0;34m\u001b[0m\u001b[0;34m\u001b[0m\u001b[0m\n\u001b[0;32m---> 14\u001b[0;31m         \u001b[0mload_data\u001b[0m\u001b[0;34m(\u001b[0m\u001b[0midx\u001b[0m\u001b[0;34m,\u001b[0m \u001b[0mthres\u001b[0m\u001b[0;34m,\u001b[0m \u001b[0;36m99999\u001b[0m\u001b[0;34m)\u001b[0m\u001b[0;34m\u001b[0m\u001b[0;34m\u001b[0m\u001b[0m\n\u001b[0m\u001b[1;32m     15\u001b[0m         \u001b[0mnum_curved\u001b[0m \u001b[0;34m+=\u001b[0m \u001b[0mlen\u001b[0m\u001b[0;34m(\u001b[0m\u001b[0magent_past\u001b[0m\u001b[0;34m)\u001b[0m\u001b[0;34m\u001b[0m\u001b[0;34m\u001b[0m\u001b[0m\n\u001b[1;32m     16\u001b[0m \u001b[0;34m\u001b[0m\u001b[0m\n",
      "\u001b[0;32m<ipython-input-251-11397939066a>\u001b[0m in \u001b[0;36mload_data\u001b[0;34m(idx, thres_min, thres_max)\u001b[0m\n\u001b[1;32m      9\u001b[0m \u001b[0;34m\u001b[0m\u001b[0m\n\u001b[1;32m     10\u001b[0m     \u001b[0mmap_masks\u001b[0m\u001b[0;34m,\u001b[0m \u001b[0mmap_img\u001b[0m\u001b[0;34m,\u001b[0m \u001b[0magent_mask\u001b[0m\u001b[0;34m,\u001b[0m \u001b[0mxy_local\u001b[0m\u001b[0;34m,\u001b[0m\u001b[0;31m \u001b[0m\u001b[0;31m\\\u001b[0m\u001b[0;34m\u001b[0m\u001b[0;34m\u001b[0m\u001b[0m\n\u001b[0;32m---> 11\u001b[0;31m     \u001b[0mvirtual_mask\u001b[0m\u001b[0;34m,\u001b[0m \u001b[0mvirtual_xy_local\u001b[0m\u001b[0;34m,\u001b[0m \u001b[0midx\u001b[0m \u001b[0;34m=\u001b[0m \u001b[0mdataset\u001b[0m\u001b[0;34m[\u001b[0m\u001b[0midx\u001b[0m\u001b[0;34m]\u001b[0m\u001b[0;34m\u001b[0m\u001b[0;34m\u001b[0m\u001b[0m\n\u001b[0m\u001b[1;32m     12\u001b[0m \u001b[0;34m\u001b[0m\u001b[0m\n\u001b[1;32m     13\u001b[0m     \u001b[0magent_past\u001b[0m \u001b[0;34m=\u001b[0m \u001b[0mxy_local\u001b[0m\u001b[0;34m[\u001b[0m\u001b[0;36m0\u001b[0m\u001b[0;34m]\u001b[0m\u001b[0;34m\u001b[0m\u001b[0;34m\u001b[0m\u001b[0m\n",
      "\u001b[0;32m~/ws/repos/naverlabs2020/nuscene_parser/rasterization_q10/generator_dev.py\u001b[0m in \u001b[0;36m__getitem__\u001b[0;34m(self, idx)\u001b[0m\n\u001b[1;32m    117\u001b[0m         \u001b[0mlog\u001b[0m \u001b[0;34m=\u001b[0m \u001b[0mself\u001b[0m\u001b[0;34m.\u001b[0m\u001b[0mnus\u001b[0m\u001b[0;34m.\u001b[0m\u001b[0mget\u001b[0m\u001b[0;34m(\u001b[0m\u001b[0;34m'log'\u001b[0m\u001b[0;34m,\u001b[0m \u001b[0mscene\u001b[0m\u001b[0;34m[\u001b[0m\u001b[0;34m'log_token'\u001b[0m\u001b[0;34m]\u001b[0m\u001b[0;34m)\u001b[0m\u001b[0;34m\u001b[0m\u001b[0;34m\u001b[0m\u001b[0m\n\u001b[1;32m    118\u001b[0m         \u001b[0mlocation\u001b[0m \u001b[0;34m=\u001b[0m \u001b[0mlog\u001b[0m\u001b[0;34m[\u001b[0m\u001b[0;34m'location'\u001b[0m\u001b[0;34m]\u001b[0m\u001b[0;34m\u001b[0m\u001b[0;34m\u001b[0m\u001b[0m\n\u001b[0;32m--> 119\u001b[0;31m         \u001b[0mnus_map\u001b[0m \u001b[0;34m=\u001b[0m \u001b[0mNuScenesMap\u001b[0m\u001b[0;34m(\u001b[0m\u001b[0mdataroot\u001b[0m\u001b[0;34m=\u001b[0m\u001b[0mself\u001b[0m\u001b[0;34m.\u001b[0m\u001b[0mroot\u001b[0m\u001b[0;34m,\u001b[0m \u001b[0mmap_name\u001b[0m\u001b[0;34m=\u001b[0m\u001b[0mlocation\u001b[0m\u001b[0;34m)\u001b[0m\u001b[0;34m\u001b[0m\u001b[0;34m\u001b[0m\u001b[0m\n\u001b[0m\u001b[1;32m    120\u001b[0m \u001b[0;34m\u001b[0m\u001b[0m\n\u001b[1;32m    121\u001b[0m         \u001b[0mmap_masks\u001b[0m\u001b[0;34m,\u001b[0m \u001b[0mlanes\u001b[0m\u001b[0;34m,\u001b[0m \u001b[0mmap_img\u001b[0m \u001b[0;34m=\u001b[0m \u001b[0mself\u001b[0m\u001b[0;34m.\u001b[0m\u001b[0mstatic_layer\u001b[0m\u001b[0;34m.\u001b[0m\u001b[0mgenerate_mask\u001b[0m\u001b[0;34m(\u001b[0m\u001b[0mego_pose_xy\u001b[0m\u001b[0;34m,\u001b[0m \u001b[0mego_pose_rotation\u001b[0m\u001b[0;34m,\u001b[0m \u001b[0msample_token\u001b[0m\u001b[0;34m)\u001b[0m\u001b[0;34m\u001b[0m\u001b[0;34m\u001b[0m\u001b[0m\n",
      "\u001b[0;32m~/.pyenv/versions/intelpro/lib/python3.7/site-packages/nuscenes/map_expansion/map_api.py\u001b[0m in \u001b[0;36m__init__\u001b[0;34m(self, dataroot, map_name)\u001b[0m\n\u001b[1;32m     87\u001b[0m \u001b[0;34m\u001b[0m\u001b[0m\n\u001b[1;32m     88\u001b[0m         \u001b[0;32mwith\u001b[0m \u001b[0mopen\u001b[0m\u001b[0;34m(\u001b[0m\u001b[0mself\u001b[0m\u001b[0;34m.\u001b[0m\u001b[0mjson_fname\u001b[0m\u001b[0;34m,\u001b[0m \u001b[0;34m'r'\u001b[0m\u001b[0;34m)\u001b[0m \u001b[0;32mas\u001b[0m \u001b[0mfh\u001b[0m\u001b[0;34m:\u001b[0m\u001b[0;34m\u001b[0m\u001b[0;34m\u001b[0m\u001b[0m\n\u001b[0;32m---> 89\u001b[0;31m             \u001b[0mself\u001b[0m\u001b[0;34m.\u001b[0m\u001b[0mjson_obj\u001b[0m \u001b[0;34m=\u001b[0m \u001b[0mjson\u001b[0m\u001b[0;34m.\u001b[0m\u001b[0mload\u001b[0m\u001b[0;34m(\u001b[0m\u001b[0mfh\u001b[0m\u001b[0;34m)\u001b[0m\u001b[0;34m\u001b[0m\u001b[0;34m\u001b[0m\u001b[0m\n\u001b[0m\u001b[1;32m     90\u001b[0m \u001b[0;34m\u001b[0m\u001b[0m\n\u001b[1;32m     91\u001b[0m         \u001b[0mself\u001b[0m\u001b[0;34m.\u001b[0m\u001b[0mcanvas_edge\u001b[0m \u001b[0;34m=\u001b[0m \u001b[0mself\u001b[0m\u001b[0;34m.\u001b[0m\u001b[0mjson_obj\u001b[0m\u001b[0;34m[\u001b[0m\u001b[0;34m'canvas_edge'\u001b[0m\u001b[0;34m]\u001b[0m\u001b[0;34m\u001b[0m\u001b[0;34m\u001b[0m\u001b[0m\n",
      "\u001b[0;32m~/.pyenv/versions/intelpro/lib/python3.7/json/__init__.py\u001b[0m in \u001b[0;36mload\u001b[0;34m(fp, cls, object_hook, parse_float, parse_int, parse_constant, object_pairs_hook, **kw)\u001b[0m\n\u001b[1;32m    294\u001b[0m         \u001b[0mcls\u001b[0m\u001b[0;34m=\u001b[0m\u001b[0mcls\u001b[0m\u001b[0;34m,\u001b[0m \u001b[0mobject_hook\u001b[0m\u001b[0;34m=\u001b[0m\u001b[0mobject_hook\u001b[0m\u001b[0;34m,\u001b[0m\u001b[0;34m\u001b[0m\u001b[0;34m\u001b[0m\u001b[0m\n\u001b[1;32m    295\u001b[0m         \u001b[0mparse_float\u001b[0m\u001b[0;34m=\u001b[0m\u001b[0mparse_float\u001b[0m\u001b[0;34m,\u001b[0m \u001b[0mparse_int\u001b[0m\u001b[0;34m=\u001b[0m\u001b[0mparse_int\u001b[0m\u001b[0;34m,\u001b[0m\u001b[0;34m\u001b[0m\u001b[0;34m\u001b[0m\u001b[0m\n\u001b[0;32m--> 296\u001b[0;31m         parse_constant=parse_constant, object_pairs_hook=object_pairs_hook, **kw)\n\u001b[0m\u001b[1;32m    297\u001b[0m \u001b[0;34m\u001b[0m\u001b[0m\n\u001b[1;32m    298\u001b[0m \u001b[0;34m\u001b[0m\u001b[0m\n",
      "\u001b[0;32m~/.pyenv/versions/intelpro/lib/python3.7/json/__init__.py\u001b[0m in \u001b[0;36mloads\u001b[0;34m(s, encoding, cls, object_hook, parse_float, parse_int, parse_constant, object_pairs_hook, **kw)\u001b[0m\n\u001b[1;32m    346\u001b[0m             \u001b[0mparse_int\u001b[0m \u001b[0;32mis\u001b[0m \u001b[0;32mNone\u001b[0m \u001b[0;32mand\u001b[0m \u001b[0mparse_float\u001b[0m \u001b[0;32mis\u001b[0m \u001b[0;32mNone\u001b[0m \u001b[0;32mand\u001b[0m\u001b[0;34m\u001b[0m\u001b[0;34m\u001b[0m\u001b[0m\n\u001b[1;32m    347\u001b[0m             parse_constant is None and object_pairs_hook is None and not kw):\n\u001b[0;32m--> 348\u001b[0;31m         \u001b[0;32mreturn\u001b[0m \u001b[0m_default_decoder\u001b[0m\u001b[0;34m.\u001b[0m\u001b[0mdecode\u001b[0m\u001b[0;34m(\u001b[0m\u001b[0ms\u001b[0m\u001b[0;34m)\u001b[0m\u001b[0;34m\u001b[0m\u001b[0;34m\u001b[0m\u001b[0m\n\u001b[0m\u001b[1;32m    349\u001b[0m     \u001b[0;32mif\u001b[0m \u001b[0mcls\u001b[0m \u001b[0;32mis\u001b[0m \u001b[0;32mNone\u001b[0m\u001b[0;34m:\u001b[0m\u001b[0;34m\u001b[0m\u001b[0;34m\u001b[0m\u001b[0m\n\u001b[1;32m    350\u001b[0m         \u001b[0mcls\u001b[0m \u001b[0;34m=\u001b[0m \u001b[0mJSONDecoder\u001b[0m\u001b[0;34m\u001b[0m\u001b[0;34m\u001b[0m\u001b[0m\n",
      "\u001b[0;32m~/.pyenv/versions/intelpro/lib/python3.7/json/decoder.py\u001b[0m in \u001b[0;36mdecode\u001b[0;34m(self, s, _w)\u001b[0m\n\u001b[1;32m    335\u001b[0m \u001b[0;34m\u001b[0m\u001b[0m\n\u001b[1;32m    336\u001b[0m         \"\"\"\n\u001b[0;32m--> 337\u001b[0;31m         \u001b[0mobj\u001b[0m\u001b[0;34m,\u001b[0m \u001b[0mend\u001b[0m \u001b[0;34m=\u001b[0m \u001b[0mself\u001b[0m\u001b[0;34m.\u001b[0m\u001b[0mraw_decode\u001b[0m\u001b[0;34m(\u001b[0m\u001b[0ms\u001b[0m\u001b[0;34m,\u001b[0m \u001b[0midx\u001b[0m\u001b[0;34m=\u001b[0m\u001b[0m_w\u001b[0m\u001b[0;34m(\u001b[0m\u001b[0ms\u001b[0m\u001b[0;34m,\u001b[0m \u001b[0;36m0\u001b[0m\u001b[0;34m)\u001b[0m\u001b[0;34m.\u001b[0m\u001b[0mend\u001b[0m\u001b[0;34m(\u001b[0m\u001b[0;34m)\u001b[0m\u001b[0;34m)\u001b[0m\u001b[0;34m\u001b[0m\u001b[0;34m\u001b[0m\u001b[0m\n\u001b[0m\u001b[1;32m    338\u001b[0m         \u001b[0mend\u001b[0m \u001b[0;34m=\u001b[0m \u001b[0m_w\u001b[0m\u001b[0;34m(\u001b[0m\u001b[0ms\u001b[0m\u001b[0;34m,\u001b[0m \u001b[0mend\u001b[0m\u001b[0;34m)\u001b[0m\u001b[0;34m.\u001b[0m\u001b[0mend\u001b[0m\u001b[0;34m(\u001b[0m\u001b[0;34m)\u001b[0m\u001b[0;34m\u001b[0m\u001b[0;34m\u001b[0m\u001b[0m\n\u001b[1;32m    339\u001b[0m         \u001b[0;32mif\u001b[0m \u001b[0mend\u001b[0m \u001b[0;34m!=\u001b[0m \u001b[0mlen\u001b[0m\u001b[0;34m(\u001b[0m\u001b[0ms\u001b[0m\u001b[0;34m)\u001b[0m\u001b[0;34m:\u001b[0m\u001b[0;34m\u001b[0m\u001b[0;34m\u001b[0m\u001b[0m\n",
      "\u001b[0;32m~/.pyenv/versions/intelpro/lib/python3.7/json/decoder.py\u001b[0m in \u001b[0;36mraw_decode\u001b[0;34m(self, s, idx)\u001b[0m\n\u001b[1;32m    351\u001b[0m         \"\"\"\n\u001b[1;32m    352\u001b[0m         \u001b[0;32mtry\u001b[0m\u001b[0;34m:\u001b[0m\u001b[0;34m\u001b[0m\u001b[0;34m\u001b[0m\u001b[0m\n\u001b[0;32m--> 353\u001b[0;31m             \u001b[0mobj\u001b[0m\u001b[0;34m,\u001b[0m \u001b[0mend\u001b[0m \u001b[0;34m=\u001b[0m \u001b[0mself\u001b[0m\u001b[0;34m.\u001b[0m\u001b[0mscan_once\u001b[0m\u001b[0;34m(\u001b[0m\u001b[0ms\u001b[0m\u001b[0;34m,\u001b[0m \u001b[0midx\u001b[0m\u001b[0;34m)\u001b[0m\u001b[0;34m\u001b[0m\u001b[0;34m\u001b[0m\u001b[0m\n\u001b[0m\u001b[1;32m    354\u001b[0m         \u001b[0;32mexcept\u001b[0m \u001b[0mStopIteration\u001b[0m \u001b[0;32mas\u001b[0m \u001b[0merr\u001b[0m\u001b[0;34m:\u001b[0m\u001b[0;34m\u001b[0m\u001b[0;34m\u001b[0m\u001b[0m\n\u001b[1;32m    355\u001b[0m             \u001b[0;32mraise\u001b[0m \u001b[0mJSONDecodeError\u001b[0m\u001b[0;34m(\u001b[0m\u001b[0;34m\"Expecting value\"\u001b[0m\u001b[0;34m,\u001b[0m \u001b[0ms\u001b[0m\u001b[0;34m,\u001b[0m \u001b[0merr\u001b[0m\u001b[0;34m.\u001b[0m\u001b[0mvalue\u001b[0m\u001b[0;34m)\u001b[0m \u001b[0;32mfrom\u001b[0m \u001b[0;32mNone\u001b[0m\u001b[0;34m\u001b[0m\u001b[0;34m\u001b[0m\u001b[0m\n",
      "\u001b[0;31mKeyboardInterrupt\u001b[0m: "
     ]
    }
   ],
   "source": [
    "thres = 0.02\n",
    "curved_ratio = 0.3\n",
    "\n",
    "# parsed_data = dataGeneration(thres=thres, curved_ratio=curved_ratio)\n",
    "\n",
    "# print(\"Number of Data: {}\".format(len(parsed_data)))"
   ]
  },
  {
   "cell_type": "code",
   "execution_count": null,
   "metadata": {},
   "outputs": [],
   "source": [
    "import pickle\n",
    "\n",
    "filename = 'nuscene_'+str(thres)+'_'+str(curved_ratio)\n",
    "with open(filename+'.pickle', 'wb') as f:\n",
    "    pickle.dump(data, f, pickle.HIGHEST_PROTOCOL)"
   ]
  },
  {
   "cell_type": "code",
   "execution_count": 23,
   "metadata": {},
   "outputs": [
    {
     "data": {
      "text/plain": [
       "[array([[[  -7.07449409,  -59.74677848],\n",
       "         [  -7.04884525,  -59.78083927],\n",
       "         [  -7.02415532,  -59.81386058],\n",
       "         [  -6.99662894,  -59.85099949]],\n",
       " \n",
       "        [[  -9.56119812, -104.05357191],\n",
       "         [  -9.46515519, -104.05444125],\n",
       "         [  -9.47814464, -104.0539176 ],\n",
       "         [  -9.49317275, -104.05431259]],\n",
       " \n",
       "        [[  -5.99240456,  -24.83603253],\n",
       "         [  -5.94296097,  -24.82601599],\n",
       "         [  -5.89447628,  -24.81495999],\n",
       "         [  -5.89447628,  -24.81495999]],\n",
       " \n",
       "        [[  14.24376378,  -18.98339929],\n",
       "         [  14.35359395,  -18.98982849],\n",
       "         [  14.46242493,  -18.99621741],\n",
       "         [  14.4717062 ,  -18.84046485]],\n",
       " \n",
       "        [[  -0.81365586,  -40.4132756 ],\n",
       "         [  -0.86213224,  -44.61973683],\n",
       "         [  -0.92046643,  -48.52455617],\n",
       "         [  -0.98431661,  -52.81446587]],\n",
       " \n",
       "        [[ -19.44976363,   -9.35540389],\n",
       "         [ -19.4139696 ,   -9.41089072],\n",
       "         [ -19.37817557,   -9.46637754],\n",
       "         [ -19.56310719,   -9.33682332]],\n",
       " \n",
       "        [[  40.87793705,  -11.72033421],\n",
       "         [  40.87793705,  -11.72033421],\n",
       "         [  40.87793705,  -11.72033421],\n",
       "         [  40.87793705,  -11.72033421]],\n",
       " \n",
       "        [[  35.16106345,   26.13366392],\n",
       "         [  35.16106345,   26.13366392],\n",
       "         [  35.16106345,   26.13366392],\n",
       "         [  35.16106345,   26.13366392]],\n",
       " \n",
       "        [[  13.69836856,  -21.51448484],\n",
       "         [  13.69836856,  -21.51448484],\n",
       "         [  13.69836856,  -21.51448484],\n",
       "         [  13.69836856,  -21.51448484]],\n",
       " \n",
       "        [[   3.9772952 ,  -37.65601828],\n",
       "         [   3.9772952 ,  -37.65601828],\n",
       "         [   3.9772952 ,  -37.65601828],\n",
       "         [   3.9772952 ,  -37.65601828]],\n",
       " \n",
       "        [[  24.57895303,  -11.39154127],\n",
       "         [  24.57564885,  -11.34937395],\n",
       "         [  24.57338415,  -11.30624773],\n",
       "         [  24.57338415,  -11.30624773]],\n",
       " \n",
       "        [[  14.80599253,  -15.66235069],\n",
       "         [  14.80599253,  -15.66235069],\n",
       "         [  14.80599253,  -15.66235069],\n",
       "         [  14.80599253,  -15.66235069]],\n",
       " \n",
       "        [[ -24.28386871,  -17.57735798],\n",
       "         [ -24.24894522,  -17.60478697],\n",
       "         [ -24.21402172,  -17.63221596],\n",
       "         [ -24.17522231,  -17.66280363]],\n",
       " \n",
       "        [[  13.83622756,  -26.8583748 ],\n",
       "         [  13.93366466,  -26.87431252],\n",
       "         [  13.93366466,  -26.87431252],\n",
       "         [  13.93366466,  -26.87431252]],\n",
       " \n",
       "        [[ -11.67719004,    7.88050365],\n",
       "         [ -11.69741549,    7.87531412],\n",
       "         [ -11.71868041,    7.86916568],\n",
       "         [ -11.70453065,    7.87259851]],\n",
       " \n",
       "        [[  -9.05266162,  -78.00791783],\n",
       "         [  -9.06254829,  -78.05455744],\n",
       "         [  -9.07347444,  -78.10215597],\n",
       "         [  -9.08460198,  -78.15475043]],\n",
       " \n",
       "        [[  13.6796833 ,  -24.13786126],\n",
       "         [  13.6796833 ,  -24.13786126],\n",
       "         [  13.6796833 ,  -24.13786126],\n",
       "         [  13.6796833 ,  -24.13786126]],\n",
       " \n",
       "        [[  -3.00261598,   11.81628438],\n",
       "         [  -2.95180215,   15.95659776],\n",
       "         [  -2.88245401,   20.82975935],\n",
       "         [  -2.80676084,   26.18305502]],\n",
       " \n",
       "        [[   4.27847441,  -28.12441421],\n",
       "         [   4.24845848,  -28.124205  ],\n",
       "         [   4.18746771,  -28.12274709],\n",
       "         [   4.12747612,  -28.12132947]],\n",
       " \n",
       "        [[   8.72868961,   42.66978517],\n",
       "         [   8.72889101,   42.67478111],\n",
       "         [   8.70902808,   42.67858428],\n",
       "         [   8.68716678,   42.68246801]],\n",
       " \n",
       "        [[ -27.28372889,  -22.62762173],\n",
       "         [ -27.28372889,  -22.62762173],\n",
       "         [ -27.22758977,  -22.5508207 ],\n",
       "         [ -27.30439081,  -22.49468157]],\n",
       " \n",
       "        [[ -20.99396011,  -11.88625735],\n",
       "         [ -20.99396011,  -11.88625735],\n",
       "         [ -21.04263057,  -11.85226931],\n",
       "         [ -21.09617612,  -11.81508231]],\n",
       " \n",
       "        [[  27.32785566,  -11.32521374],\n",
       "         [  27.32785566,  -11.32521374],\n",
       "         [  27.32785566,  -11.32521374],\n",
       "         [  27.32785566,  -11.32521374]],\n",
       " \n",
       "        [[ -11.81747425,  -31.0014013 ],\n",
       "         [ -11.81775501,  -31.13249639],\n",
       "         [ -11.81716764,  -31.04344778],\n",
       "         [ -11.81725721,  -30.94636538]],\n",
       " \n",
       "        [[  35.11019931,   28.86893261],\n",
       "         [  35.11019931,   28.86893261],\n",
       "         [  35.11019931,   28.86893261],\n",
       "         [   0.        ,    0.        ]],\n",
       " \n",
       "        [[ -22.57781934,  -15.1030699 ],\n",
       "         [ -22.5442822 ,  -15.09041051],\n",
       "         [ -22.51070478,  -15.07675193],\n",
       "         [ -22.47313061,  -15.06325447]]]),\n",
       " [4,\n",
       "  4,\n",
       "  4,\n",
       "  4,\n",
       "  4,\n",
       "  4,\n",
       "  4,\n",
       "  4,\n",
       "  4,\n",
       "  4,\n",
       "  4,\n",
       "  4,\n",
       "  4,\n",
       "  4,\n",
       "  4,\n",
       "  4,\n",
       "  4,\n",
       "  4,\n",
       "  4,\n",
       "  4,\n",
       "  4,\n",
       "  4,\n",
       "  4,\n",
       "  4,\n",
       "  3,\n",
       "  4],\n",
       " array([[[0., 0.],\n",
       "         [0., 0.],\n",
       "         [0., 0.],\n",
       "         [0., 0.],\n",
       "         [0., 0.],\n",
       "         [0., 0.]],\n",
       " \n",
       "        [[0., 0.],\n",
       "         [0., 0.],\n",
       "         [0., 0.],\n",
       "         [0., 0.],\n",
       "         [0., 0.],\n",
       "         [0., 0.]],\n",
       " \n",
       "        [[0., 0.],\n",
       "         [0., 0.],\n",
       "         [0., 0.],\n",
       "         [0., 0.],\n",
       "         [0., 0.],\n",
       "         [0., 0.]],\n",
       " \n",
       "        [[0., 0.],\n",
       "         [0., 0.],\n",
       "         [0., 0.],\n",
       "         [0., 0.],\n",
       "         [0., 0.],\n",
       "         [0., 0.]],\n",
       " \n",
       "        [[0., 0.],\n",
       "         [0., 0.],\n",
       "         [0., 0.],\n",
       "         [0., 0.],\n",
       "         [0., 0.],\n",
       "         [0., 0.]],\n",
       " \n",
       "        [[0., 0.],\n",
       "         [0., 0.],\n",
       "         [0., 0.],\n",
       "         [0., 0.],\n",
       "         [0., 0.],\n",
       "         [0., 0.]],\n",
       " \n",
       "        [[0., 0.],\n",
       "         [0., 0.],\n",
       "         [0., 0.],\n",
       "         [0., 0.],\n",
       "         [0., 0.],\n",
       "         [0., 0.]],\n",
       " \n",
       "        [[0., 0.],\n",
       "         [0., 0.],\n",
       "         [0., 0.],\n",
       "         [0., 0.],\n",
       "         [0., 0.],\n",
       "         [0., 0.]],\n",
       " \n",
       "        [[0., 0.],\n",
       "         [0., 0.],\n",
       "         [0., 0.],\n",
       "         [0., 0.],\n",
       "         [0., 0.],\n",
       "         [0., 0.]],\n",
       " \n",
       "        [[0., 0.],\n",
       "         [0., 0.],\n",
       "         [0., 0.],\n",
       "         [0., 0.],\n",
       "         [0., 0.],\n",
       "         [0., 0.]],\n",
       " \n",
       "        [[0., 0.],\n",
       "         [0., 0.],\n",
       "         [0., 0.],\n",
       "         [0., 0.],\n",
       "         [0., 0.],\n",
       "         [0., 0.]],\n",
       " \n",
       "        [[0., 0.],\n",
       "         [0., 0.],\n",
       "         [0., 0.],\n",
       "         [0., 0.],\n",
       "         [0., 0.],\n",
       "         [0., 0.]],\n",
       " \n",
       "        [[0., 0.],\n",
       "         [0., 0.],\n",
       "         [0., 0.],\n",
       "         [0., 0.],\n",
       "         [0., 0.],\n",
       "         [0., 0.]],\n",
       " \n",
       "        [[0., 0.],\n",
       "         [0., 0.],\n",
       "         [0., 0.],\n",
       "         [0., 0.],\n",
       "         [0., 0.],\n",
       "         [0., 0.]],\n",
       " \n",
       "        [[0., 0.],\n",
       "         [0., 0.],\n",
       "         [0., 0.],\n",
       "         [0., 0.],\n",
       "         [0., 0.],\n",
       "         [0., 0.]],\n",
       " \n",
       "        [[0., 0.],\n",
       "         [0., 0.],\n",
       "         [0., 0.],\n",
       "         [0., 0.],\n",
       "         [0., 0.],\n",
       "         [0., 0.]],\n",
       " \n",
       "        [[0., 0.],\n",
       "         [0., 0.],\n",
       "         [0., 0.],\n",
       "         [0., 0.],\n",
       "         [0., 0.],\n",
       "         [0., 0.]],\n",
       " \n",
       "        [[0., 0.],\n",
       "         [0., 0.],\n",
       "         [0., 0.],\n",
       "         [0., 0.],\n",
       "         [0., 0.],\n",
       "         [0., 0.]],\n",
       " \n",
       "        [[0., 0.],\n",
       "         [0., 0.],\n",
       "         [0., 0.],\n",
       "         [0., 0.],\n",
       "         [0., 0.],\n",
       "         [0., 0.]],\n",
       " \n",
       "        [[0., 0.],\n",
       "         [0., 0.],\n",
       "         [0., 0.],\n",
       "         [0., 0.],\n",
       "         [0., 0.],\n",
       "         [0., 0.]],\n",
       " \n",
       "        [[0., 0.],\n",
       "         [0., 0.],\n",
       "         [0., 0.],\n",
       "         [0., 0.],\n",
       "         [0., 0.],\n",
       "         [0., 0.]],\n",
       " \n",
       "        [[0., 0.],\n",
       "         [0., 0.],\n",
       "         [0., 0.],\n",
       "         [0., 0.],\n",
       "         [0., 0.],\n",
       "         [0., 0.]],\n",
       " \n",
       "        [[0., 0.],\n",
       "         [0., 0.],\n",
       "         [0., 0.],\n",
       "         [0., 0.],\n",
       "         [0., 0.],\n",
       "         [0., 0.]],\n",
       " \n",
       "        [[0., 0.],\n",
       "         [0., 0.],\n",
       "         [0., 0.],\n",
       "         [0., 0.],\n",
       "         [0., 0.],\n",
       "         [0., 0.]],\n",
       " \n",
       "        [[0., 0.],\n",
       "         [0., 0.],\n",
       "         [0., 0.],\n",
       "         [0., 0.],\n",
       "         [0., 0.],\n",
       "         [0., 0.]],\n",
       " \n",
       "        [[0., 0.],\n",
       "         [0., 0.],\n",
       "         [0., 0.],\n",
       "         [0., 0.],\n",
       "         [0., 0.],\n",
       "         [0., 0.]]]),\n",
       " [0,\n",
       "  0,\n",
       "  0,\n",
       "  0,\n",
       "  0,\n",
       "  0,\n",
       "  0,\n",
       "  0,\n",
       "  0,\n",
       "  0,\n",
       "  0,\n",
       "  0,\n",
       "  0,\n",
       "  0,\n",
       "  0,\n",
       "  0,\n",
       "  0,\n",
       "  0,\n",
       "  0,\n",
       "  0,\n",
       "  0,\n",
       "  0,\n",
       "  0,\n",
       "  0,\n",
       "  0,\n",
       "  0],\n",
       " [False,\n",
       "  False,\n",
       "  False,\n",
       "  False,\n",
       "  False,\n",
       "  False,\n",
       "  False,\n",
       "  False,\n",
       "  False,\n",
       "  False,\n",
       "  False,\n",
       "  False,\n",
       "  False,\n",
       "  False,\n",
       "  False,\n",
       "  False,\n",
       "  False,\n",
       "  False,\n",
       "  False,\n",
       "  False,\n",
       "  False,\n",
       "  False,\n",
       "  False,\n",
       "  False,\n",
       "  False,\n",
       "  False],\n",
       " array([[0., 0.],\n",
       "        [0., 0.],\n",
       "        [0., 0.],\n",
       "        [0., 0.],\n",
       "        [0., 0.],\n",
       "        [0., 0.],\n",
       "        [0., 0.],\n",
       "        [0., 0.],\n",
       "        [0., 0.],\n",
       "        [0., 0.],\n",
       "        [0., 0.],\n",
       "        [0., 0.],\n",
       "        [0., 0.],\n",
       "        [0., 0.],\n",
       "        [0., 0.],\n",
       "        [0., 0.],\n",
       "        [0., 0.],\n",
       "        [0., 0.],\n",
       "        [0., 0.],\n",
       "        [0., 0.],\n",
       "        [0., 0.],\n",
       "        [0., 0.],\n",
       "        [0., 0.],\n",
       "        [0., 0.],\n",
       "        [0., 0.],\n",
       "        [0., 0.]]),\n",
       " array([[  -7.05521974,  -59.7155295 ],\n",
       "        [  -9.66027889, -104.05358093],\n",
       "        [  -5.99240456,  -24.83603253],\n",
       "        [  14.24376378,  -18.98339929],\n",
       "        [  -0.73009606,  -36.10614584],\n",
       "        [ -19.48455847,   -9.29995735],\n",
       "        [  40.87793705,  -11.72033421],\n",
       "        [  35.16106345,   26.13366392],\n",
       "        [  13.69836856,  -21.51448484],\n",
       "        [   3.9772952 ,  -37.65601828],\n",
       "        [  24.58221692,  -11.43470777],\n",
       "        [  14.80599253,  -15.66235069],\n",
       "        [ -24.31875193,  -17.54892981],\n",
       "        [  13.73779127,  -26.8423968 ],\n",
       "        [ -11.65592512,    7.88665208],\n",
       "        [  -9.04273466,  -77.96027903],\n",
       "        [  13.6796833 ,  -24.13786126],\n",
       "        [  -3.04272008,    8.43815817],\n",
       "        [   4.30849035,  -28.12462343],\n",
       "        [   8.7294874 ,   42.66474894],\n",
       "        [ -27.40022452,  -22.46379631],\n",
       "        [ -21.04554757,  -11.8501501 ],\n",
       "        [  27.32785566,  -11.32521374],\n",
       "        [ -11.81719349,  -30.87030622],\n",
       "        [  35.11019931,   28.86893261],\n",
       "        [ -22.57508029,  -15.03512508]]),\n",
       " tensor([[[-0.0027, -0.0099, -0.0387,  ..., -0.2583, -0.2217, -0.1851],\n",
       "          [-0.0393, -0.0465, -0.0537,  ..., -0.2583, -0.2217, -0.1851],\n",
       "          [-0.0759, -0.0831, -0.0903,  ..., -0.2583, -0.2217, -0.1851],\n",
       "          ...,\n",
       "          [-0.8439, -0.8073, -0.7927,  ..., -0.8439, -0.8439, -0.8439],\n",
       "          [-0.8073, -0.7927, -0.7635,  ..., -0.8439, -0.8439, -0.8439],\n",
       "          [-0.7707, -0.7635, -0.7414,  ..., -0.8439, -0.8439, -0.8439]]]),\n",
       " tensor([[-9.9573, -9.9540, -9.9472,  ..., -9.7346, -9.7580, -9.7749],\n",
       "         [-9.9405, -9.9371, -9.9314,  ..., -9.7346, -9.7580, -9.7749],\n",
       "         [-9.9170, -9.9137, -9.9091,  ..., -9.7346, -9.7580, -9.7749],\n",
       "         ...,\n",
       "         [-9.1490, -9.1567, -9.1686,  ..., -9.1161, -9.1161, -9.1161],\n",
       "         [-9.1724, -9.1773, -9.1856,  ..., -9.1161, -9.1161, -9.1161],\n",
       "         [-9.1893, -9.1926, -9.1987,  ..., -9.1161, -9.1161, -9.1161]]),\n",
       " 2]"
      ]
     },
     "execution_count": 23,
     "metadata": {},
     "output_type": "execute_result"
    }
   ],
   "source": [
    "load_data(160, -1, 99999999)\n",
    "episode = dataProcessing()\n",
    "episode"
   ]
  },
  {
   "cell_type": "code",
   "execution_count": null,
   "metadata": {},
   "outputs": [],
   "source": [
    "episode = [past_agents_traj, past_agents_traj_len, future_agents_traj, \n",
    "                   future_agents_traj_len, future_agent_masks, decode_start_vel, \n",
    "                   decode_start_pos, map_image, prior, scene_id]"
   ]
  },
  {
   "cell_type": "code",
   "execution_count": 24,
   "metadata": {},
   "outputs": [
    {
     "data": {
      "image/png": "[encoded data removed]",
      "text/plain": [
       "<Figure size 720x360 with 4 Axes>"
      ]
     },
     "metadata": {},
     "output_type": "display_data"
    }
   ],
   "source": [
    "showDistanceMap(episode[7], episode[8])"
   ]
  },
  {
   "cell_type": "code",
   "execution_count": 21,
   "metadata": {},
   "outputs": [
    {
     "data": {
      "text/plain": [
       "array([[  -7.05521974,  -59.7155295 ],\n",
       "       [  -9.66027889, -104.05358093],\n",
       "       [  -5.99240456,  -24.83603253],\n",
       "       [  14.24376378,  -18.98339929],\n",
       "       [  -0.73009606,  -36.10614584],\n",
       "       [ -19.48455847,   -9.29995735],\n",
       "       [  40.87793705,  -11.72033421],\n",
       "       [  35.16106345,   26.13366392],\n",
       "       [  13.69836856,  -21.51448484],\n",
       "       [   3.9772952 ,  -37.65601828],\n",
       "       [  24.58221692,  -11.43470777],\n",
       "       [  14.80599253,  -15.66235069],\n",
       "       [ -24.31875193,  -17.54892981],\n",
       "       [  13.73779127,  -26.8423968 ],\n",
       "       [ -11.65592512,    7.88665208],\n",
       "       [  -9.04273466,  -77.96027903],\n",
       "       [  13.6796833 ,  -24.13786126],\n",
       "       [  -3.04272008,    8.43815817],\n",
       "       [   4.30849035,  -28.12462343],\n",
       "       [   8.7294874 ,   42.66474894],\n",
       "       [ -27.40022452,  -22.46379631],\n",
       "       [ -21.04554757,  -11.8501501 ],\n",
       "       [  27.32785566,  -11.32521374],\n",
       "       [ -11.81719349,  -30.87030622],\n",
       "       [  35.11019931,   28.86893261],\n",
       "       [ -22.57508029,  -15.03512508]])"
      ]
     },
     "execution_count": 21,
     "metadata": {},
     "output_type": "execute_result"
    }
   ],
   "source": [
    "np.array(episode[6])"
   ]
  },
  {
   "cell_type": "code",
   "execution_count": null,
   "metadata": {},
   "outputs": [],
   "source": []
  },
  {
   "cell_type": "code",
   "execution_count": null,
   "metadata": {},
   "outputs": [],
   "source": []
  },
  {
   "cell_type": "code",
   "execution_count": null,
   "metadata": {},
   "outputs": [],
   "source": []
  },
  {
   "cell_type": "code",
   "execution_count": null,
   "metadata": {},
   "outputs": [],
   "source": []
  },
  {
   "cell_type": "code",
   "execution_count": null,
   "metadata": {},
   "outputs": [],
   "source": []
  },
  {
   "cell_type": "code",
   "execution_count": 28,
   "metadata": {},
   "outputs": [],
   "source": [
    "img = map_masks[0].copy()\n",
    "gray = cv2.cvtColor(img, cv2.COLOR_BGR2GRAY)\n",
    "raw_image = cv2.bitwise_not(gray)\n",
    "raw_image = cv2.resize(raw_image.astype(np.float32), dsize=(100,100), interpolation=cv2.INTER_LINEAR)\n",
    "ret, thresh = cv2.threshold(gray, 100, 255, cv2.THRESH_BINARY)\n",
    "dist_transform = cv2.distanceTransform(thresh, cv2.DIST_L2, 5)"
   ]
  },
  {
   "cell_type": "code",
   "execution_count": 29,
   "metadata": {},
   "outputs": [
    {
     "data": {
      "text/plain": [
       "<matplotlib.image.AxesImage at 0x7f9a9cd95750>"
      ]
     },
     "execution_count": 29,
     "metadata": {},
     "output_type": "execute_result"
    },
    {
     "data": {
      "image/png": "[encoded data removed]",
      "text/plain": [
       "<Figure size 432x288 with 1 Axes>"
      ]
     },
     "metadata": {},
     "output_type": "display_data"
    }
   ],
   "source": [
    "plt.imshow(thresh)"
   ]
  },
  {
   "cell_type": "code",
   "execution_count": 25,
   "metadata": {},
   "outputs": [
    {
     "data": {
      "text/plain": [
       "<matplotlib.image.AxesImage at 0x7f9a9ce33b90>"
      ]
     },
     "execution_count": 25,
     "metadata": {},
     "output_type": "execute_result"
    },
    {
     "data": {
      "image/png": "[encoded data removed]",
      "text/plain": [
       "<Figure size 432x288 with 1 Axes>"
      ]
     },
     "metadata": {},
     "output_type": "display_data"
    }
   ],
   "source": [
    "plt.imshow(img)"
   ]
  },
  {
   "cell_type": "code",
   "execution_count": 20,
   "metadata": {},
   "outputs": [
    {
     "data": {
      "text/plain": [
       "<matplotlib.image.AxesImage at 0x7f9a9cf08790>"
      ]
     },
     "execution_count": 20,
     "metadata": {},
     "output_type": "execute_result"
    },
    {
     "data": {
      "image/png": "[encoded data removed]",
      "text/plain": [
       "<Figure size 432x288 with 1 Axes>"
      ]
     },
     "metadata": {},
     "output_type": "display_data"
    }
   ],
   "source": [
    "img = map_masks[0].copy()\n",
    "gray = cv2.cvtColor(img, cv2.COLOR_BGR2GRAY)\n",
    "ret, thresh = cv2.threshold(gray, 0, 255, cv2.THRESH_BINARY + cv2.THRESH_OTSU)\n",
    "\n",
    "dist_transform = cv2.distanceTransform(thresh, cv2.DIST_L2, 5) \n",
    "result = cv2.normalize(dist_transform, None, 255, 0, cv2.NORM_MINMAX, cv2.CV_8UC1)\n",
    "\n",
    "plt.imshow(result)"
   ]
  },
  {
   "cell_type": "code",
   "execution_count": 266,
   "metadata": {},
   "outputs": [
    {
     "data": {
      "text/plain": [
       "array([[  0.,   0.,   0., ..., 255., 255., 255.],\n",
       "       [  0.,   0.,   0., ..., 255., 255., 255.],\n",
       "       [  0.,   0.,   0., ..., 255., 255., 255.],\n",
       "       ...,\n",
       "       [255., 255., 255., ..., 255., 255., 255.],\n",
       "       [255., 255., 255., ..., 255., 255., 255.],\n",
       "       [255., 255., 255., ..., 255., 255., 255.]], dtype=float32)"
      ]
     },
     "execution_count": 266,
     "metadata": {},
     "output_type": "execute_result"
    }
   ],
   "source": [
    "raw_image"
   ]
  },
  {
   "cell_type": "code",
   "execution_count": null,
   "metadata": {},
   "outputs": [],
   "source": []
  },
  {
   "cell_type": "code",
   "execution_count": null,
   "metadata": {},
   "outputs": [],
   "source": []
  },
  {
   "cell_type": "code",
   "execution_count": null,
   "metadata": {},
   "outputs": [],
   "source": []
  },
  {
   "cell_type": "code",
   "execution_count": null,
   "metadata": {},
   "outputs": [],
   "source": [
    "import pickle\n",
    "\n",
    "thres = 0.02\n",
    "curved_ratio = 0.3\n",
    "\n",
    "filename = 'nuscene_'+str(thres)+'_'+str(curved_ratio)\n",
    "with open('data.pickle', 'rb') as f:\n",
    "    data = pickle.load(f)"
   ]
  },
  {
   "cell_type": "code",
   "execution_count": null,
   "metadata": {},
   "outputs": [],
   "source": []
  },
  {
   "cell_type": "code",
   "execution_count": null,
   "metadata": {},
   "outputs": [],
   "source": [
    "import pickle\n",
    "\n",
    "data = {\n",
    "    'a': [1, 2.0, 3, 4+6j],\n",
    "    'b': (\"character string\", b\"byte string\"),\n",
    "    'c': {None, True, False}\n",
    "}\n",
    "\n",
    "# save\n",
    "with open('data.pickle', 'wb') as f:\n",
    "    pickle.dump(data, f, pickle.HIGHEST_PROTOCOL)\n",
    "\n",
    "# load\n",
    "with open('data.pickle', 'rb') as f:\n",
    "    data = pickle.load(f)"
   ]
  },
  {
   "cell_type": "code",
   "execution_count": null,
   "metadata": {},
   "outputs": [],
   "source": [
    "import pickle\n",
    "import gzip\n",
    "\n",
    "data = {\n",
    "    'a': [1, 2.0, 3, 4+6j],\n",
    "    'b': (\"character string\", b\"byte string\"),\n",
    "    'c': {None, True, False}\n",
    "}\n",
    "\n",
    "# save and compress.\n",
    "with gzip.open('testPickleFile.pickle', 'wb') as f:\n",
    "    pickle.dump(data, f)\n",
    "\n",
    "# load and uncompress.\n",
    "with gzip.open('testPickleFile.pickle','rb') as f:\n",
    "    data = pickle.load(f)"
   ]
  },
  {
   "cell_type": "code",
   "execution_count": null,
   "metadata": {},
   "outputs": [],
   "source": []
  },
  {
   "cell_type": "code",
   "execution_count": 203,
   "metadata": {},
   "outputs": [
    {
     "data": {
      "text/plain": [
       "(500, 500, 3)"
      ]
     },
     "execution_count": 203,
     "metadata": {},
     "output_type": "execute_result"
    }
   ],
   "source": [
    "map_masks[0].shape"
   ]
  },
  {
   "cell_type": "code",
   "execution_count": null,
   "metadata": {},
   "outputs": [],
   "source": [
    "    global dataset, map_masks, map_img, agent_mask, xy_local,\\\n",
    "    virtual_mask, virtual_xy_local,\\\n",
    "    agent_past, agent_future, agent_translation,\\\n",
    "    virtual_past, virtual_future, virtual_translation\n",
    "    \n",
    "    dataset.thres_min = thres_min\n",
    "    dataset.thres_max = thres_max\n",
    "    \n",
    "    map_masks, map_img, agent_mask, xy_local, \\\n",
    "    virtual_mask, virtual_xy_local, idx = dataset[idx]\n",
    "    \n",
    "    agent_past = xy_local[0]\n",
    "    agent_future = xy_local[1]\n",
    "    agent_translation = xy_local[2] \n",
    "    virtual_past = virtual_xy_local[0]\n",
    "    virtual_future = virtual_xy_local[1]\n",
    "    virtual_translation = virtual_xy_local[2]"
   ]
  },
  {
   "cell_type": "code",
   "execution_count": 209,
   "metadata": {},
   "outputs": [
    {
     "data": {
      "text/plain": [
       "(array([[ -7.29759586, -26.71001462],\n",
       "        [ -7.41976551, -25.88019863],\n",
       "        [ -7.44627145, -25.51271743],\n",
       "        [ -7.45954975, -25.40740035],\n",
       "        [ -7.47347224, -25.30284814],\n",
       "        [ -7.48675055, -25.19753107]]),\n",
       " array([ -7.50002886, -25.09221399]),\n",
       " array([[ -7.51395135, -24.98766178],\n",
       "        [ -7.52722965, -24.88234471],\n",
       "        [ -7.52722965, -24.88234471]]))"
      ]
     },
     "execution_count": 209,
     "metadata": {},
     "output_type": "execute_result"
    }
   ],
   "source": [
    "np.flip(agent_past[0], axis=0), agent_translation[0], agent_future[0]"
   ]
  },
  {
   "cell_type": "code",
   "execution_count": null,
   "metadata": {},
   "outputs": [],
   "source": []
  },
  {
   "cell_type": "code",
   "execution_count": null,
   "metadata": {},
   "outputs": [],
   "source": []
  },
  {
   "cell_type": "code",
   "execution_count": null,
   "metadata": {},
   "outputs": [],
   "source": []
  },
  {
   "cell_type": "code",
   "execution_count": null,
   "metadata": {},
   "outputs": [],
   "source": []
  },
  {
   "cell_type": "code",
   "execution_count": null,
   "metadata": {},
   "outputs": [],
   "source": []
  },
  {
   "cell_type": "code",
   "execution_count": null,
   "metadata": {},
   "outputs": [],
   "source": []
  },
  {
   "cell_type": "code",
   "execution_count": null,
   "metadata": {},
   "outputs": [],
   "source": []
  },
  {
   "cell_type": "code",
   "execution_count": null,
   "metadata": {},
   "outputs": [],
   "source": []
  },
  {
   "cell_type": "code",
   "execution_count": null,
   "metadata": {},
   "outputs": [],
   "source": []
  },
  {
   "cell_type": "code",
   "execution_count": null,
   "metadata": {},
   "outputs": [],
   "source": []
  },
  {
   "cell_type": "code",
   "execution_count": 81,
   "metadata": {},
   "outputs": [
    {
     "data": {
      "text/plain": [
       "((100, 100), (500, 500))"
      ]
     },
     "execution_count": 81,
     "metadata": {},
     "output_type": "execute_result"
    }
   ],
   "source": [
    "np.array(prior).shape, cv2.cvtColor(map_masks[0].copy(), cv2.COLOR_BGR2GRAY).shape"
   ]
  },
  {
   "cell_type": "code",
   "execution_count": null,
   "metadata": {},
   "outputs": [],
   "source": []
  },
  {
   "cell_type": "code",
   "execution_count": 97,
   "metadata": {},
   "outputs": [],
   "source": [
    "a = img_transform(cv2.cvtColor(map_masks[0].copy(), cv2.COLOR_BGR2GRAY))"
   ]
  },
  {
   "cell_type": "code",
   "execution_count": 104,
   "metadata": {},
   "outputs": [
    {
     "data": {
      "text/plain": [
       "-0.8439241"
      ]
     },
     "execution_count": 104,
     "metadata": {},
     "output_type": "execute_result"
    }
   ],
   "source": [
    "np.min(np.array(a[0]))"
   ]
  },
  {
   "cell_type": "code",
   "execution_count": 92,
   "metadata": {},
   "outputs": [
    {
     "data": {
      "text/plain": [
       "0.0"
      ]
     },
     "execution_count": 92,
     "metadata": {},
     "output_type": "execute_result"
    }
   ],
   "source": [
    "np.min(dist_transform)"
   ]
  },
  {
   "cell_type": "code",
   "execution_count": 105,
   "metadata": {},
   "outputs": [
    {
     "data": {
      "text/plain": [
       "<matplotlib.image.AxesImage at 0x7fe83140d5d0>"
      ]
     },
     "execution_count": 105,
     "metadata": {},
     "output_type": "execute_result"
    },
    {
     "data": {
      "image/png": "[encoded data removed]",
      "text/plain": [
       "<Figure size 432x288 with 1 Axes>"
      ]
     },
     "metadata": {},
     "output_type": "display_data"
    }
   ],
   "source": [
    "plt.imshow(a[0], cmap='gray')"
   ]
  },
  {
   "cell_type": "code",
   "execution_count": 82,
   "metadata": {},
   "outputs": [
    {
     "data": {
      "text/plain": [
       "<matplotlib.image.AxesImage at 0x7fe8301bf1d0>"
      ]
     },
     "execution_count": 82,
     "metadata": {},
     "output_type": "execute_result"
    },
    {
     "data": {
      "image/png": "[encoded data removed]",
      "text/plain": [
       "<Figure size 432x288 with 1 Axes>"
      ]
     },
     "metadata": {},
     "output_type": "display_data"
    }
   ],
   "source": [
    "plt.imshow(raw_image, cmap='gray')"
   ]
  },
  {
   "cell_type": "code",
   "execution_count": 107,
   "metadata": {},
   "outputs": [
    {
     "data": {
      "text/plain": [
       "<matplotlib.image.AxesImage at 0x7fe83158f9d0>"
      ]
     },
     "execution_count": 107,
     "metadata": {},
     "output_type": "execute_result"
    },
    {
     "data": {
      "image/png": "[encoded data removed]",
      "text/plain": [
       "<Figure size 432x288 with 1 Axes>"
      ]
     },
     "metadata": {},
     "output_type": "display_data"
    }
   ],
   "source": [
    "plt.imshow(dist_transform, cmap='gray')"
   ]
  },
  {
   "cell_type": "code",
   "execution_count": null,
   "metadata": {},
   "outputs": [],
   "source": [
    "past_agents_traj, past_agents_traj_len, future_agents_traj, future_agents_traj_len, future_agent_masks, decode_start_vel, decode_start_pos, map_image, prior, scene_id=\\\n"
   ]
  },
  {
   "cell_type": "code",
   "execution_count": null,
   "metadata": {},
   "outputs": [],
   "source": [
    "\n",
    "import cv2 as cv\n",
    "import numpy as np\n",
    "\n",
    "\n",
    "\n",
    "img = cv.imread('rectangle.jpg')\n",
    "gray = cv.cvtColor(img, cv.COLOR_BGR2GRAY)\n",
    "ret, thresh = cv.threshold(gray, 0, 255, cv.THRESH_BINARY + cv.THRESH_OTSU)\n",
    "\n",
    "\n",
    "# 이진화된 결과를 dist_transform 함수의 입력으로 사용합니다. \n",
    "\n",
    "dist_transform = cv.distanceTransform(thresh, cv.DIST_L2, 5)\n",
    "# dist_transform  함수를 사용하면 실수 타입(float32)의 이미지가 생성됩니다. 화면에 보여주려면 normalize 함수를 사용해야 합니다. \n",
    "result = cv.normalize(dist_transform, None, 255, 0, cv.NORM_MINMAX, cv.CV_8UC1)\n",
    "\n",
    "cv.imshow(\"dist_transform\", result)\n",
    "cv.imshow(\"src\", img)\n",
    "\n",
    "cv.waitKey(0)"
   ]
  },
  {
   "cell_type": "code",
   "execution_count": 30,
   "metadata": {},
   "outputs": [],
   "source": [
    "dist_transform = cv2.distanceTransform(cv2.cvtColor(map_masks[0].copy(), cv2.COLOR_BGR2GRAY), cv2.DIST_L2, 5)\n",
    "result = cv2.normalize(dist_transform, None, 255, 0, cv2.NORM_MINMAX, cv2.CV_8UC1)"
   ]
  },
  {
   "cell_type": "code",
   "execution_count": 31,
   "metadata": {},
   "outputs": [
    {
     "data": {
      "text/plain": [
       "<matplotlib.image.AxesImage at 0x7fe8240def10>"
      ]
     },
     "execution_count": 31,
     "metadata": {},
     "output_type": "execute_result"
    },
    {
     "data": {
      "image/png": "[encoded data removed]",
      "text/plain": [
       "<Figure size 432x288 with 1 Axes>"
      ]
     },
     "metadata": {},
     "output_type": "display_data"
    }
   ],
   "source": [
    "plt.imshow(result, cmap='gray')"
   ]
  },
  {
   "cell_type": "code",
   "execution_count": 32,
   "metadata": {},
   "outputs": [
    {
     "data": {
      "text/plain": [
       "<matplotlib.image.AxesImage at 0x7fe8240c69d0>"
      ]
     },
     "execution_count": 32,
     "metadata": {},
     "output_type": "execute_result"
    },
    {
     "data": {
      "image/png": "[encoded data removed]",
      "text/plain": [
       "<Figure size 432x288 with 1 Axes>"
      ]
     },
     "metadata": {},
     "output_type": "display_data"
    }
   ],
   "source": [
    "plt.imshow(map_masks[0], cmap='gray')"
   ]
  },
  {
   "cell_type": "code",
   "execution_count": null,
   "metadata": {},
   "outputs": [],
   "source": []
  },
  {
   "cell_type": "code",
   "execution_count": null,
   "metadata": {},
   "outputs": [],
   "source": []
  },
  {
   "cell_type": "code",
   "execution_count": 1,
   "metadata": {},
   "outputs": [],
   "source": [
    "import pickle"
   ]
  },
  {
   "cell_type": "code",
   "execution_count": 19,
   "metadata": {},
   "outputs": [],
   "source": [
    "# filename = 'nuscene_0.02_0.3.pickle'\n",
    "filename = 'nuscene_0.02_0.5.pickle'\n",
    "\n",
    "with open(filename, 'rb') as f:\n",
    "    dataset = pickle.load(f)"
   ]
  },
  {
   "cell_type": "code",
   "execution_count": 20,
   "metadata": {},
   "outputs": [
    {
     "name": "stdout",
     "output_type": "stream",
     "text": [
      "1208\n"
     ]
    }
   ],
   "source": [
    "import random\n",
    "\n",
    "ratio = 0.7\n",
    "\n",
    "num_data = len(dataset)\n",
    "print(num_data)\n",
    "\n",
    "shuffled = dataset.copy()\n",
    "random.shuffle(shuffled)\n",
    "\n",
    "split = int(num_data*ratio)\n",
    "\n",
    "train = shuffled[:split]\n",
    "val = shuffled[split:]\n",
    "\n",
    "with open(filename+'_train', 'wb') as f:\n",
    "    pickle.dump(train, f, pickle.HIGHEST_PROTOCOL)\n",
    "    \n",
    "with open(filename+'_val', 'wb') as f:\n",
    "    pickle.dump(val, f, pickle.HIGHEST_PROTOCOL)"
   ]
  },
  {
   "cell_type": "code",
   "execution_count": 8,
   "metadata": {},
   "outputs": [],
   "source": [
    "test = dataset.copy()"
   ]
  },
  {
   "cell_type": "code",
   "execution_count": 10,
   "metadata": {},
   "outputs": [
    {
     "data": {
      "text/plain": [
       "382"
      ]
     },
     "execution_count": 10,
     "metadata": {},
     "output_type": "execute_result"
    }
   ],
   "source": [
    "import random\n",
    "random.shuffle(test)\n",
    "len(test)"
   ]
  },
  {
   "cell_type": "code",
   "execution_count": 11,
   "metadata": {},
   "outputs": [
    {
     "data": {
      "text/plain": [
       "(array([[[ 37.5393649 ,  60.7086569 ],\n",
       "         [  0.        ,   0.        ],\n",
       "         [  0.        ,   0.        ],\n",
       "         [  0.        ,   0.        ]],\n",
       " \n",
       "        [[ 18.7372296 ,  57.21347847],\n",
       "         [  0.        ,   0.        ],\n",
       "         [  0.        ,   0.        ],\n",
       "         [  0.        ,   0.        ]],\n",
       " \n",
       "        [[  9.02274627, -23.15039525],\n",
       "         [  0.        ,   0.        ],\n",
       "         [  0.        ,   0.        ],\n",
       "         [  0.        ,   0.        ]],\n",
       " \n",
       "        [[  6.0548903 ,  31.43744319],\n",
       "         [  0.        ,   0.        ],\n",
       "         [  0.        ,   0.        ],\n",
       "         [  0.        ,   0.        ]],\n",
       " \n",
       "        [[ -4.50909976,  11.74452532],\n",
       "         [  0.        ,   0.        ],\n",
       "         [  0.        ,   0.        ],\n",
       "         [  0.        ,   0.        ]],\n",
       " \n",
       "        [[ -8.04777507,  74.19388417],\n",
       "         [  0.        ,   0.        ],\n",
       "         [  0.        ,   0.        ],\n",
       "         [  0.        ,   0.        ]],\n",
       " \n",
       "        [[  7.75752939, -57.40158484],\n",
       "         [  0.        ,   0.        ],\n",
       "         [  0.        ,   0.        ],\n",
       "         [  0.        ,   0.        ]],\n",
       " \n",
       "        [[  3.39770924,  36.77915095],\n",
       "         [  0.        ,   0.        ],\n",
       "         [  0.        ,   0.        ],\n",
       "         [  0.        ,   0.        ]],\n",
       " \n",
       "        [[ 29.71507174,  61.35506355],\n",
       "         [  0.        ,   0.        ],\n",
       "         [  0.        ,   0.        ],\n",
       "         [  0.        ,   0.        ]],\n",
       " \n",
       "        [[-12.15118231,  66.46342047],\n",
       "         [  0.        ,   0.        ],\n",
       "         [  0.        ,   0.        ],\n",
       "         [  0.        ,   0.        ]],\n",
       " \n",
       "        [[ 38.06627007,  67.26682668],\n",
       "         [  0.        ,   0.        ],\n",
       "         [  0.        ,   0.        ],\n",
       "         [  0.        ,   0.        ]],\n",
       " \n",
       "        [[  6.81594116,  42.2083922 ],\n",
       "         [  0.        ,   0.        ],\n",
       "         [  0.        ,   0.        ],\n",
       "         [  0.        ,   0.        ]],\n",
       " \n",
       "        [[ -1.96753816,  34.48989772],\n",
       "         [  0.        ,   0.        ],\n",
       "         [  0.        ,   0.        ],\n",
       "         [  0.        ,   0.        ]],\n",
       " \n",
       "        [[  0.        ,   0.        ],\n",
       "         [  0.        ,   0.        ],\n",
       "         [  0.        ,   0.        ],\n",
       "         [  0.        ,   0.        ]],\n",
       " \n",
       "        [[  0.        ,   0.        ],\n",
       "         [  0.        ,   0.        ],\n",
       "         [  0.        ,   0.        ],\n",
       "         [  0.        ,   0.        ]],\n",
       " \n",
       "        [[  0.        ,   0.        ],\n",
       "         [  0.        ,   0.        ],\n",
       "         [  0.        ,   0.        ],\n",
       "         [  0.        ,   0.        ]]]),\n",
       " array([[[-10.8119862 ,  22.54926892],\n",
       "         [-10.82574898,  22.5467026 ],\n",
       "         [-10.83951175,  22.54413628],\n",
       "         [-10.85327453,  22.54156996]],\n",
       " \n",
       "        [[  0.        ,   0.        ],\n",
       "         [  0.        ,   0.        ],\n",
       "         [  0.        ,   0.        ],\n",
       "         [  0.        ,   0.        ]],\n",
       " \n",
       "        [[ 14.35083107,  -8.89192693],\n",
       "         [ 14.33965085,  -8.89197722],\n",
       "         [ 14.33965085,  -8.89197722],\n",
       "         [ 14.33965085,  -8.89197722]],\n",
       " \n",
       "        [[  0.50537334, -11.2712357 ],\n",
       "         [  0.53602795, -11.76294832],\n",
       "         [  0.55247203, -12.3366552 ],\n",
       "         [  0.5746684 , -13.05577155]],\n",
       " \n",
       "        [[-26.88307471,  34.48962361],\n",
       "         [-26.8981531 ,  34.46138106],\n",
       "         [  0.        ,   0.        ],\n",
       "         [  0.        ,   0.        ]],\n",
       " \n",
       "        [[ 24.79752852,   6.13364541],\n",
       "         [ 24.80584392,   6.09450651],\n",
       "         [ 24.81397602,   6.05635065],\n",
       "         [ 24.82112505,   6.01801149]],\n",
       " \n",
       "        [[-34.09508167,  34.86496018],\n",
       "         [-34.12005553,  34.76976929],\n",
       "         [  0.        ,   0.        ],\n",
       "         [  0.        ,   0.        ]],\n",
       " \n",
       "        [[ 48.81140019,   6.46114549],\n",
       "         [ 51.74743449,   6.4705046 ],\n",
       "         [ 54.67935326,   6.48011353],\n",
       "         [ 57.61520425,   6.49045569]],\n",
       " \n",
       "        [[ -0.93525964,   9.32365584],\n",
       "         [ -0.71275517,   8.71411441],\n",
       "         [ -0.57341613,   8.29963324],\n",
       "         [ -0.44925606,   7.87926997]],\n",
       " \n",
       "        [[ 25.98996917,   9.0618473 ],\n",
       "         [ 25.98996917,   9.0618473 ],\n",
       "         [ 25.98996917,   9.0618473 ],\n",
       "         [ 25.98996917,   9.0618473 ]],\n",
       " \n",
       "        [[-17.80405151,  27.81681927],\n",
       "         [-17.79455512,  27.85317609],\n",
       "         [-17.78524204,  27.89051597],\n",
       "         [-17.79085649,  27.86607261]],\n",
       " \n",
       "        [[ -3.31829729,  34.2796943 ],\n",
       "         [ -3.31829729,  34.2796943 ],\n",
       "         [ -3.31829729,  34.2796943 ],\n",
       "         [ -3.31829729,  34.2796943 ]],\n",
       " \n",
       "        [[  5.0583536 ,   7.65404622],\n",
       "         [  4.32264308,   5.71329893],\n",
       "         [  3.74427331,   3.73068414],\n",
       "         [  3.25796195,   1.72352862]],\n",
       " \n",
       "        [[ 13.73101133,  -9.19569245],\n",
       "         [ 13.74482439,  -9.20430635],\n",
       "         [ 13.7596205 ,  -9.21273695],\n",
       "         [ 13.77343356,  -9.22135085]],\n",
       " \n",
       "        [[ 33.57451999,   3.79186345],\n",
       "         [ 33.57476981,   3.79597898],\n",
       "         [ 33.57483632,   3.80107756],\n",
       "         [ 33.57483632,   3.80107756]],\n",
       " \n",
       "        [[-10.93936524,  26.21096519],\n",
       "         [-10.93936524,  26.21096519],\n",
       "         [-10.93936524,  26.21096519],\n",
       "         [-10.93936524,  26.21096519]],\n",
       " \n",
       "        [[-10.29788337,  28.95708628],\n",
       "         [-10.29788337,  28.95708628],\n",
       "         [-10.29788337,  28.95708628],\n",
       "         [-10.29788337,  28.95708628]],\n",
       " \n",
       "        [[  4.81705046,  30.26189403],\n",
       "         [  4.81705046,  30.26189403],\n",
       "         [  4.81705046,  30.26189403],\n",
       "         [  4.81705046,  30.26189403]]]))"
      ]
     },
     "execution_count": 11,
     "metadata": {},
     "output_type": "execute_result"
    }
   ],
   "source": [
    "dataset[0][0], test[0][0]"
   ]
  },
  {
   "cell_type": "code",
   "execution_count": null,
   "metadata": {},
   "outputs": [],
   "source": []
  },
  {
   "cell_type": "code",
   "execution_count": 13,
   "metadata": {},
   "outputs": [
    {
     "data": {
      "text/plain": [
       "([[[1, 2, 3, 4, 5], [2, 3, 4, 5, 6], [3, 4, 5, 6, 7]],\n",
       "  [[11, 12, 13, 14, 15], [12, 13, 14, 15, 16], [13, 14, 15, 16, 17]],\n",
       "  [[21, 22, 23, 24, 25], [22, 23, 24, 25, 26], [23, 24, 25, 26, 27]]],\n",
       " 3)"
      ]
     },
     "execution_count": 13,
     "metadata": {},
     "output_type": "execute_result"
    }
   ],
   "source": [
    "a = [[1,2,3,4,5], [2,3,4,5,6], [3,4,5,6,7]]\n",
    "b = [[11,12,13,14,15], [12,13,14,15,16], [13,14,15,16,17]]\n",
    "c = [[21,22,23,24,25], [22,23,24,25,26], [23,24,25,26,27]]\n",
    "\n",
    "arr = []\n",
    "arr.append(a)\n",
    "arr.append(b)\n",
    "arr.append(c)\n",
    "arr"
   ]
  },
  {
   "cell_type": "code",
   "execution_count": 14,
   "metadata": {},
   "outputs": [
    {
     "data": {
      "text/plain": [
       "[[[11, 12, 13, 14, 15], [12, 13, 14, 15, 16], [13, 14, 15, 16, 17]],\n",
       " [[1, 2, 3, 4, 5], [2, 3, 4, 5, 6], [3, 4, 5, 6, 7]],\n",
       " [[21, 22, 23, 24, 25], [22, 23, 24, 25, 26], [23, 24, 25, 26, 27]]]"
      ]
     },
     "execution_count": 14,
     "metadata": {},
     "output_type": "execute_result"
    }
   ],
   "source": [
    "arr2 = arr.copy()\n",
    "\n",
    "random.shuffle(arr2)\n",
    "arr2"
   ]
  },
  {
   "cell_type": "code",
   "execution_count": null,
   "metadata": {},
   "outputs": [],
   "source": []
  },
  {
   "cell_type": "code",
   "execution_count": 22,
   "metadata": {
    "scrolled": true
   },
   "outputs": [],
   "source": [
    "past_agents_traj,\\\n",
    "        past_agents_traj_len,\\\n",
    "        future_agents_traj,\\\n",
    "        future_agents_traj_len,\\\n",
    "        future_agent_masks,\\\n",
    "        decode_start_vel,\\\n",
    "        decode_start_pos,\\\n",
    "        map_image,\\\n",
    "        prior,\\\n",
    "        scene_id = dataset[5]"
   ]
  },
  {
   "cell_type": "code",
   "execution_count": 24,
   "metadata": {},
   "outputs": [
    {
     "data": {
      "text/plain": [
       "(18,\n",
       " [False,\n",
       "  False,\n",
       "  False,\n",
       "  False,\n",
       "  True,\n",
       "  True,\n",
       "  False,\n",
       "  False,\n",
       "  False,\n",
       "  False,\n",
       "  False,\n",
       "  False,\n",
       "  False,\n",
       "  False,\n",
       "  False,\n",
       "  False,\n",
       "  False,\n",
       "  False])"
      ]
     },
     "execution_count": 24,
     "metadata": {},
     "output_type": "execute_result"
    }
   ],
   "source": [
    "len(future_agent_masks), future_agent_masks"
   ]
  },
  {
   "cell_type": "code",
   "execution_count": 38,
   "metadata": {},
   "outputs": [
    {
     "data": {
      "text/plain": [
       "array([0, 4])"
      ]
     },
     "execution_count": 38,
     "metadata": {},
     "output_type": "execute_result"
    }
   ],
   "source": [
    "import numpy as np\n",
    "\n",
    "a = [1,2,3,4,5]\n",
    "\n",
    "q = [True, True, False, False, True]\n",
    "qq = [True, False, False, False, True]\n",
    "\n",
    "b = np.arange(5)[q and qq]\n",
    "b"
   ]
  },
  {
   "cell_type": "code",
   "execution_count": 31,
   "metadata": {},
   "outputs": [
    {
     "data": {
      "text/plain": [
       "[True, False, False, False, True]"
      ]
     },
     "execution_count": 31,
     "metadata": {},
     "output_type": "execute_result"
    }
   ],
   "source": [
    "q and qq"
   ]
  },
  {
   "cell_type": "code",
   "execution_count": 33,
   "metadata": {},
   "outputs": [
    {
     "ename": "TypeError",
     "evalue": "list indices must be integers or slices, not list",
     "output_type": "error",
     "traceback": [
      "\u001b[0;31m---------------------------------------------------------------------------\u001b[0m",
      "\u001b[0;31mTypeError\u001b[0m                                 Traceback (most recent call last)",
      "\u001b[0;32m<ipython-input-33-1b248fe2cda1>\u001b[0m in \u001b[0;36m<module>\u001b[0;34m\u001b[0m\n\u001b[0;32m----> 1\u001b[0;31m \u001b[0mq\u001b[0m\u001b[0;34m[\u001b[0m\u001b[0mqq\u001b[0m\u001b[0;34m]\u001b[0m\u001b[0;34m\u001b[0m\u001b[0;34m\u001b[0m\u001b[0m\n\u001b[0m",
      "\u001b[0;31mTypeError\u001b[0m: list indices must be integers or slices, not list"
     ]
    }
   ],
   "source": [
    "q[qq]"
   ]
  },
  {
   "cell_type": "code",
   "execution_count": 51,
   "metadata": {
    "scrolled": true
   },
   "outputs": [
    {
     "data": {
      "text/plain": [
       "tensor([0, 4])"
      ]
     },
     "execution_count": 51,
     "metadata": {},
     "output_type": "execute_result"
    }
   ],
   "source": [
    "import torch\n",
    "\n",
    "mask = torch.tensor([True, True, False, False, True])\n",
    "mask2 = torch.tensor([True, False, False, False, True])\n",
    "\n",
    "torch.arange(len(mask))[mask * mask2]"
   ]
  },
  {
   "cell_type": "code",
   "execution_count": 50,
   "metadata": {},
   "outputs": [
    {
     "data": {
      "text/plain": [
       "tensor([ True, False, False, False,  True])"
      ]
     },
     "execution_count": 50,
     "metadata": {},
     "output_type": "execute_result"
    }
   ],
   "source": [
    "mask * mask2"
   ]
  },
  {
   "cell_type": "code",
   "execution_count": null,
   "metadata": {},
   "outputs": [],
   "source": []
  },
  {
   "cell_type": "code",
   "execution_count": 67,
   "metadata": {},
   "outputs": [],
   "source": [
    "for sample in val:\n",
    "    past_agents_traj,\\\n",
    "        past_agents_traj_len,\\\n",
    "        future_agents_traj,\\\n",
    "        future_agents_traj_len,\\\n",
    "        future_agent_masks,\\\n",
    "        decode_start_vel,\\\n",
    "        decode_start_pos,\\\n",
    "        map_image,\\\n",
    "        prior,\\\n",
    "        scene_id = sample\n",
    "    if len(past_agents_traj) <= 0 or len(future_agents_traj) <= 0:\n",
    "        print('a')\n"
   ]
  },
  {
   "cell_type": "code",
   "execution_count": 72,
   "metadata": {},
   "outputs": [
    {
     "data": {
      "text/plain": [
       "[4, 4, 4, 4, 4, 4]"
      ]
     },
     "execution_count": 72,
     "metadata": {},
     "output_type": "execute_result"
    }
   ],
   "source": [
    "past_agents_traj_len"
   ]
  },
  {
   "cell_type": "code",
   "execution_count": 68,
   "metadata": {},
   "outputs": [
    {
     "data": {
      "text/plain": [
       "array([[-47.48919622,   6.43303026],\n",
       "       [  0.32035706,  75.77641945],\n",
       "       [  4.77317456,  82.09827423],\n",
       "       [ -8.37152961, -13.8938972 ],\n",
       "       [ -1.95467864, -13.49207332],\n",
       "       [ -0.78683828, -20.00554593]])"
      ]
     },
     "execution_count": 68,
     "metadata": {},
     "output_type": "execute_result"
    }
   ],
   "source": [
    "decode_start_pos"
   ]
  },
  {
   "cell_type": "code",
   "execution_count": 69,
   "metadata": {},
   "outputs": [
    {
     "data": {
      "text/plain": [
       "array([[-5.08496948e-02,  3.67663426e+00],\n",
       "       [-2.47298463e-01,  3.74874944e+00],\n",
       "       [ 4.54950129e-01,  3.72238169e+00],\n",
       "       [-3.31517074e+00, -1.75826128e+00],\n",
       "       [ 2.98427949e-13, -3.44613227e-13],\n",
       "       [-2.41091083e+00,  2.83193208e+00]])"
      ]
     },
     "execution_count": 69,
     "metadata": {},
     "output_type": "execute_result"
    }
   ],
   "source": [
    "decode_start_vel"
   ]
  },
  {
   "cell_type": "code",
   "execution_count": null,
   "metadata": {},
   "outputs": [],
   "source": []
  },
  {
   "cell_type": "code",
   "execution_count": null,
   "metadata": {},
   "outputs": [],
   "source": []
  },
  {
   "cell_type": "code",
   "execution_count": null,
   "metadata": {},
   "outputs": [],
   "source": []
  },
  {
   "cell_type": "code",
   "execution_count": null,
   "metadata": {},
   "outputs": [],
   "source": []
  }
 ],
 "metadata": {
  "kernelspec": {
   "display_name": "intelpro",
   "language": "python",
   "name": "intelpro"
  },
  "language_info": {
   "codemirror_mode": {
    "name": "ipython",
    "version": 3
   },
   "file_extension": ".py",
   "mimetype": "text/x-python",
   "name": "python",
   "nbconvert_exporter": "python",
   "pygments_lexer": "ipython3",
   "version": "3.7.9"
  }
 },
 "nbformat": 4,
 "nbformat_minor": 4
}
