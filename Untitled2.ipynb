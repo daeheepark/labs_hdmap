{
 "metadata": {
  "language_info": {
   "codemirror_mode": {
    "name": "ipython",
    "version": 3
   },
   "file_extension": ".py",
   "mimetype": "text/x-python",
   "name": "python",
   "nbconvert_exporter": "python",
   "pygments_lexer": "ipython3",
   "version": 3
  },
  "orig_nbformat": 2
 },
 "nbformat": 4,
 "nbformat_minor": 2,
 "cells": [
  {
   "cell_type": "code",
   "execution_count": null,
   "metadata": {},
   "outputs": [],
   "source": [
    "def show_dataset(idx, ax, dataset=dataset):\n",
    "    def draw_paths(ax, local_paths):\n",
    "        past = local_paths[0]\n",
    "        future = local_paths[1]\n",
    "        translation = local_paths[2]\n",
    "        for i in range(len(past)):\n",
    "            if len(past[i]) != 0:\n",
    "                path = np.append(past[i][-6:], [translation[i]], axis=0)\n",
    "                ax.plot(path[:,0], path[:,1], color='steelblue', linewidth=6, alpha=0.3)\n",
    "            if len(future[i]) != 0:\n",
    "                path = np.append([translation[i]], future[i][:6], axis=0)\n",
    "                ax.plot(path[:,0], path[:,1], color='salmon', linewidth=6, alpha=0.3)\n",
    "    \n",
    "    map_masks, map_img, agent_mask, xy_local, _, _, idx = \\\n",
    "        dataset[idx]\n",
    "    \n",
    "    agent_past = xy_local[0]\n",
    "    agent_future = xy_local[1]\n",
    "    agent_translation = xy_local[2]\n",
    "    \n",
    "    agents_combined = combinator.combine(\n",
    "        np.append(map_masks[[0,5,8,9]], agent_mask[np.newaxis,...], axis=0))\n",
    "    \n",
    "    ax.set_title(\"original\")\n",
    "    ax.imshow(agents_combined, extent=[-50,50,-50,50], alpha=0.3)\n",
    "    if len(xy_local[0]) != 0:\n",
    "        draw_paths(ax, xy_local)\n",
    "        ax.scatter(agent_translation[:,0], agent_translation[:,1], c='b', alpha=0.3)\n",
    "    ax.set_xlim(-50, 50)\n",
    "    ax.set_ylim(-50, 50)\n",
    "\n",
    "def test_idx(idx):\n",
    "    plt.figure(figsize=(10,10))\n",
    "    \n",
    "    scene_id = scene_ids[idx][0]\n",
    "    \n",
    "    if scene_id < 0:\n",
    "        show_dataset(-scene_id, plt.gca(), dataset)\n",
    "        return\n",
    "    else:\n",
    "        show_dataset(scene_id, plt.gca(), dataset)\n",
    "    \n",
    "    plt.scatter(start[idx][:,0], start[idx][:,1], color='r')\n",
    "\n",
    "    for i in range(len(predicted[idx])):\n",
    "        paths = np.insert(predicted[idx][i], 0, start[idx][i], axis=1)\n",
    "        for path in paths:\n",
    "            plt.plot(path[:,0], path[:,1], color='r')\n",
    "    plt.text(-48, 42, 'ploss: {}\\nqloss: {}'.format(ploss[idx], qloss[idx]), fontsize=15,\\\n",
    "            color='r')"
   ]
  }
 ]
}