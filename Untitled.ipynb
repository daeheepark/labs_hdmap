{
 "cells": [
  {
   "cell_type": "code",
   "execution_count": 1,
   "metadata": {},
   "outputs": [
    {
     "name": "stdout",
     "output_type": "stream",
     "text": [
      "import pky\n",
      "device: cuda\n",
      "import:\n",
      "pkyutils\n"
     ]
    }
   ],
   "source": [
    "try:\n",
    "    pky\n",
    "    del pky\n",
    "    print(\"reimport pky\")\n",
    "except:\n",
    "    print(\"import pky\")\n",
    "import pkyutils as pky"
   ]
  },
  {
   "cell_type": "code",
   "execution_count": 2,
   "metadata": {},
   "outputs": [],
   "source": [
    "import numpy as np"
   ]
  },
  {
   "cell_type": "markdown",
   "metadata": {},
   "source": [
    "## 데이터 형식 맞추기"
   ]
  },
  {
   "cell_type": "markdown",
   "metadata": {},
   "source": [
    "0 past_agents_traj,   \n",
    "1 past_agents_traj_len,   \n",
    "\n",
    "2 future_agents_traj, \\\n",
    "3 future_agents_traj_len, \n",
    "\n",
    "4 future_agent_masks,   \n",
    "5 decode_start_vel, \\\n",
    "6 decode_start_pos, \n",
    "\n",
    "7 map_image,   \n",
    "8 prior,   \n",
    "9 scene_id"
   ]
  },
  {
   "cell_type": "code",
   "execution_count": null,
   "metadata": {},
   "outputs": [],
   "source": []
  },
  {
   "cell_type": "code",
   "execution_count": null,
   "metadata": {},
   "outputs": [],
   "source": []
  },
  {
   "cell_type": "code",
   "execution_count": null,
   "metadata": {},
   "outputs": [],
   "source": []
  },
  {
   "cell_type": "code",
   "execution_count": null,
   "metadata": {},
   "outputs": [],
   "source": []
  },
  {
   "cell_type": "code",
   "execution_count": null,
   "metadata": {},
   "outputs": [],
   "source": []
  },
  {
   "cell_type": "code",
   "execution_count": null,
   "metadata": {},
   "outputs": [],
   "source": []
  },
  {
   "cell_type": "code",
   "execution_count": null,
   "metadata": {},
   "outputs": [],
   "source": []
  },
  {
   "cell_type": "code",
   "execution_count": null,
   "metadata": {},
   "outputs": [],
   "source": []
  },
  {
   "cell_type": "code",
   "execution_count": null,
   "metadata": {},
   "outputs": [],
   "source": []
  },
  {
   "cell_type": "code",
   "execution_count": null,
   "metadata": {},
   "outputs": [],
   "source": []
  },
  {
   "cell_type": "code",
   "execution_count": null,
   "metadata": {},
   "outputs": [],
   "source": []
  },
  {
   "cell_type": "code",
   "execution_count": null,
   "metadata": {},
   "outputs": [],
   "source": []
  },
  {
   "cell_type": "code",
   "execution_count": null,
   "metadata": {},
   "outputs": [],
   "source": []
  },
  {
   "cell_type": "code",
   "execution_count": 5,
   "metadata": {},
   "outputs": [],
   "source": [
    "from dataset.nuscenes import NuscenesDataset, nuscenes_collate\n",
    "from torch.utils.data import DataLoader\n",
    "\n",
    "dataset_real = pky.DatasetQ10(root='../generated/mini/gen_None_None/real', data_partition='train')\n",
    "dataset_fake = pky.DatasetQ10(root='../generated/mini/gen_None_None/fake', data_partition='train')\n",
    "\n",
    "loader_real = DataLoader(dataset_real, batch_size=64, shuffle=False, pin_memory=True,\n",
    "                                  collate_fn=lambda x: nuscenes_collate(x), num_workers=1)\n",
    "loader_fake = DataLoader(dataset_fake, batch_size=64, shuffle=False, pin_memory=True,\n",
    "                                  collate_fn=lambda x: nuscenes_collate(x), num_workers=1)"
   ]
  },
  {
   "cell_type": "code",
   "execution_count": 22,
   "metadata": {},
   "outputs": [
    {
     "name": "stdout",
     "output_type": "stream",
     "text": [
      "(18, 4, 2)\n",
      "(18,)\n",
      "(2, 6, 2)\n",
      "(2,)\n",
      "(18,)\n",
      "(18, 2)\n",
      "(18, 2)\n",
      "torch.Size([1, 64, 64])\n",
      "torch.Size([100, 100])\n",
      "2\n"
     ]
    }
   ],
   "source": [
    "for a in dataset_real[4]:\n",
    "    try:\n",
    "        print(a.shape)\n",
    "    except:\n",
    "        print(a)"
   ]
  },
  {
   "cell_type": "code",
   "execution_count": 23,
   "metadata": {},
   "outputs": [
    {
     "name": "stdout",
     "output_type": "stream",
     "text": [
      "(16, 4, 2)\n",
      "(16,)\n",
      "(1, 6, 2)\n",
      "(1,)\n",
      "(16,)\n",
      "(16, 2)\n",
      "(16, 2)\n",
      "torch.Size([1, 64, 64])\n",
      "torch.Size([100, 100])\n",
      "2\n"
     ]
    }
   ],
   "source": [
    "for a in dataset_fake[4]:\n",
    "    try:\n",
    "        print(a.shape)\n",
    "    except:\n",
    "        print(a)"
   ]
  },
  {
   "cell_type": "code",
   "execution_count": 20,
   "metadata": {},
   "outputs": [
    {
     "data": {
      "text/plain": [
       "(array([[[ 39.05107399,  43.03922755],\n",
       "         [ 39.03273749,  43.04055898],\n",
       "         [ 39.01313838,  43.04252744],\n",
       "         [ 38.99480187,  43.04385887]],\n",
       " \n",
       "        [[ 20.18840098,  40.10820183],\n",
       "         [ 20.13366985,  40.10175951],\n",
       "         [ 20.07988854,  40.09562998],\n",
       "         [ 20.07988854,  40.09562998]],\n",
       " \n",
       "        [[-28.59236758,  63.18522878],\n",
       "         [-28.59236758,  63.18522878],\n",
       "         [  0.        ,   0.        ],\n",
       "         [  0.        ,   0.        ]],\n",
       " \n",
       "        [[-18.44959744,  40.34573951],\n",
       "         [-18.44959744,  40.34573951],\n",
       "         [  0.        ,   0.        ],\n",
       "         [  0.        ,   0.        ]],\n",
       " \n",
       "        [[  6.87348732,  18.12128273],\n",
       "         [  6.7338181 ,  16.75504392],\n",
       "         [  6.85075259,  15.77652089],\n",
       "         [  6.81540888,  15.5353657 ]],\n",
       " \n",
       "        [[ -4.50862858,  -4.47569688],\n",
       "         [ -4.5091937 ,  -4.5443167 ],\n",
       "         [ -4.49759461,  -4.65946644],\n",
       "         [ -4.48435442,  -4.67089873]],\n",
       " \n",
       "        [[ -6.20306353,  57.84322371],\n",
       "         [ -6.20306353,  57.84322371],\n",
       "         [ -6.20306353,  57.84322371],\n",
       "         [ -6.20306353,  57.84322371]],\n",
       " \n",
       "        [[ 31.18113227,  44.01772606],\n",
       "         [ 31.17848089,  43.98421531],\n",
       "         [ 31.17551672,  43.95165439],\n",
       "         [ 31.17286534,  43.91814364]],\n",
       " \n",
       "        [[-10.52822336,  50.23460935],\n",
       "         [-10.52822336,  50.23460935],\n",
       "         [-10.52822336,  50.23460935],\n",
       "         [-10.52822336,  50.23460935]],\n",
       " \n",
       "        [[ 39.63772033,  49.58938221],\n",
       "         [ 39.64404485,  49.58935928],\n",
       "         [ 39.92574115,  49.57157739],\n",
       "         [ 39.81192284,  49.5783148 ]],\n",
       " \n",
       "        [[  8.63297615,  33.54976367],\n",
       "         [  8.29484464,  31.3475005 ],\n",
       "         [  8.20080955,  29.13613002],\n",
       "         [  7.93707399,  27.043645  ]],\n",
       " \n",
       "        [[ -1.65842364,  27.87819287],\n",
       "         [ -1.41476559,  25.56851502],\n",
       "         [ -1.15954596,  23.22053143],\n",
       "         [ -1.21342893,  20.57072076]],\n",
       " \n",
       "        [[  8.98894344,  71.1855164 ],\n",
       "         [  8.63146166,  67.22287186],\n",
       "         [  8.27397988,  63.26022731],\n",
       "         [  7.9164981 ,  59.29758277]],\n",
       " \n",
       "        [[-17.26429416,  62.16319721],\n",
       "         [-17.26429416,  62.16319721],\n",
       "         [-17.26429416,  62.16319721],\n",
       "         [  0.        ,   0.        ]],\n",
       " \n",
       "        [[ 47.9196835 ,  49.21402078],\n",
       "         [ 47.9196835 ,  49.21402078],\n",
       "         [ 47.9196835 ,  49.21402078],\n",
       "         [  0.        ,   0.        ]],\n",
       " \n",
       "        [[ -8.31158652,  61.18330138],\n",
       "         [  0.        ,   0.        ],\n",
       "         [  0.        ,   0.        ],\n",
       "         [  0.        ,   0.        ]],\n",
       " \n",
       "        [[-16.12621293,  58.49301681],\n",
       "         [-16.12621293,  58.49301681],\n",
       "         [  0.        ,   0.        ],\n",
       "         [  0.        ,   0.        ]],\n",
       " \n",
       "        [[ 29.97878783,  50.54622488],\n",
       "         [ 29.94242761,  50.54793791],\n",
       "         [ 29.90575461,  50.55060076],\n",
       "         [ 29.8690816 ,  50.55326361]]]),\n",
       " array([4, 4, 2, 2, 4, 4, 4, 4, 4, 4, 4, 4, 4, 3, 3, 1, 2, 4]),\n",
       " array([[[ 7.1792449 , 22.20902567],\n",
       "         [ 7.48258652, 25.19471635],\n",
       "         [ 7.67718321, 28.19092081],\n",
       "         [ 7.99788235, 31.34130429],\n",
       "         [ 8.34897371, 34.23954235],\n",
       "         [ 9.01704464, 37.43167318]],\n",
       " \n",
       "        [[-4.50806347, -4.40707705],\n",
       "         [-4.5766833 , -4.40651194],\n",
       "         [-4.5766833 , -4.40651194],\n",
       "         [-4.5766833 , -4.40651194],\n",
       "         [-4.5766833 , -4.40651194],\n",
       "         [-4.5766833 , -4.40651194]]]),\n",
       " array([6, 6]),\n",
       " array([False, False, False, False,  True,  True, False, False, False,\n",
       "        False, False, False, False, False, False, False, False, False]),\n",
       " array([[-6.76470641e-02,  7.20241054e-03],\n",
       "        [ 1.07562611e-01,  1.22590674e-02],\n",
       "        [ 0.00000000e+00,  0.00000000e+00],\n",
       "        [ 0.00000000e+00,  0.00000000e+00],\n",
       "        [ 3.30687643e-01,  4.33494425e+00],\n",
       "        [ 0.00000000e+00,  0.00000000e+00],\n",
       "        [ 0.00000000e+00,  0.00000000e+00],\n",
       "        [ 0.00000000e+00,  0.00000000e+00],\n",
       "        [ 0.00000000e+00,  0.00000000e+00],\n",
       "        [-1.51742452e-02,  1.31995593e-03],\n",
       "        [ 1.27274004e+00,  4.94627828e+00],\n",
       "        [-8.81930068e-01,  3.75874439e+00],\n",
       "        [ 9.53391538e-01,  9.31773302e+00],\n",
       "        [ 0.00000000e+00,  0.00000000e+00],\n",
       "        [ 0.00000000e+00,  0.00000000e+00],\n",
       "        [ 0.00000000e+00,  0.00000000e+00],\n",
       "        [ 0.00000000e+00,  0.00000000e+00],\n",
       "        [-4.42486572e-03,  6.48508551e-04]]),\n",
       " array([[ 39.01756324,  43.04187894],\n",
       "        [ 20.24313211,  40.11464415],\n",
       "        [-28.59236758,  63.18522878],\n",
       "        [-18.44959744,  40.34573951],\n",
       "        [  7.01390108,  20.04155354],\n",
       "        [ -4.50806347,  -4.40707705],\n",
       "        [ -6.20306353,  57.84322371],\n",
       "        [ 31.18113227,  44.01772606],\n",
       "        [-10.52822336,  50.23460935],\n",
       "        [ 39.63013321,  49.59004219],\n",
       "        [  9.07207048,  35.68841469],\n",
       "        [ -1.9316629 ,  29.79174201],\n",
       "        [  9.34547539,  75.14784816],\n",
       "        [-17.26429416,  62.16319721],\n",
       "        [ 47.9196835 ,  49.21402078],\n",
       "        [ -8.31158652,  61.18330138],\n",
       "        [-16.12621293,  58.49301681],\n",
       "        [ 29.97783801,  50.5459121 ]]),\n",
       " tensor([[[ 0.1731,  0.1365,  0.0999,  ..., -0.5877, -0.5511, -0.5145],\n",
       "          [ 0.1659,  0.1293,  0.0927,  ..., -0.5877, -0.5511, -0.5145],\n",
       "          [ 0.1587,  0.1221,  0.0855,  ..., -0.5805, -0.5439, -0.5073],\n",
       "          ...,\n",
       "          [ 0.0855,  0.0489,  0.0123,  ..., -0.3609, -0.3243, -0.2877],\n",
       "          [ 0.0927,  0.0561,  0.0195,  ..., -0.3609, -0.3243, -0.2877],\n",
       "          [ 0.0999,  0.0633,  0.0267,  ..., -0.3681, -0.3315, -0.2949]]]),\n",
       " tensor([[-10.0199, -10.0031,  -9.9797,  ...,  -9.2921,  -9.3155,  -9.3323],\n",
       "         [-10.0166,  -9.9998,  -9.9764,  ...,  -9.2921,  -9.3155,  -9.3323],\n",
       "         [-10.0120,  -9.9952,  -9.9718,  ...,  -9.2928,  -9.3162,  -9.3330],\n",
       "         ...,\n",
       "         [ -9.9388,  -9.9220,  -9.8986,  ...,  -9.5189,  -9.5423,  -9.5591],\n",
       "         [ -9.9434,  -9.9266,  -9.9032,  ...,  -9.5150,  -9.5384,  -9.5552],\n",
       "         [ -9.9467,  -9.9299,  -9.9065,  ...,  -9.5117,  -9.5351,  -9.5519]]),\n",
       " 2)"
      ]
     },
     "execution_count": 20,
     "metadata": {},
     "output_type": "execute_result"
    }
   ],
   "source": [
    "dataset_real[4]"
   ]
  },
  {
   "cell_type": "code",
   "execution_count": 21,
   "metadata": {},
   "outputs": [
    {
     "data": {
      "text/plain": [
       "(array([[[ -0.71694563,  28.65267137],\n",
       "         [ -0.87167061,  30.61281624],\n",
       "         [ -1.16384432,  32.55722932],\n",
       "         [ -1.59202031,  34.47628456]],\n",
       " \n",
       "        [[ 48.24694344,  57.555107  ],\n",
       "         [ 50.23274478,  57.40544744],\n",
       "         [ 52.21854612,  57.25578788],\n",
       "         [ 54.20434746,  57.10612833]],\n",
       " \n",
       "        [[-44.02106373,  38.51794123],\n",
       "         [-45.85252365,  37.774295  ],\n",
       "         [-45.85252365,  37.774295  ],\n",
       "         [-47.75892238,  37.37359818]],\n",
       " \n",
       "        [[ -4.57398727, -77.7425691 ],\n",
       "         [ -4.40402632, -75.81806829],\n",
       "         [ -4.23779053, -73.89324213],\n",
       "         [ -4.0752805 , -71.96809782]],\n",
       " \n",
       "        [[  9.17077552, -15.42853917],\n",
       "         [  9.05319977, -17.42205623],\n",
       "         [  8.93861711, -19.41574787],\n",
       "         [  8.82420821, -21.40944952]],\n",
       " \n",
       "        [[117.64273605,  55.5561708 ],\n",
       "         [119.60092238,  55.40847426],\n",
       "         [121.55910871,  55.26077772],\n",
       "         [123.51729504,  55.11308118]],\n",
       " \n",
       "        [[ 10.38027847, -56.70934145],\n",
       "         [ 10.24013005, -58.58227604],\n",
       "         [ 10.08973707, -60.45441587],\n",
       "         [  9.92910406, -62.32570489]],\n",
       " \n",
       "        [[ 61.70746237,  45.07293293],\n",
       "         [ 59.83707372,  45.21217554],\n",
       "         [ 57.96641271,  45.34771013],\n",
       "         [ 56.09548671,  45.47953616]],\n",
       " \n",
       "        [[ 14.59191971,  75.41294259],\n",
       "         [ 14.45081304,  73.46930307],\n",
       "         [ 14.30970637,  71.52566356],\n",
       "         [ 14.1685997 ,  69.58202404]],\n",
       " \n",
       "        [[ 33.57361725,  50.25868061],\n",
       "         [ 31.59163119,  50.3992017 ],\n",
       "         [ 29.60992826,  50.54366065],\n",
       "         [ 27.62851627,  50.69205688]],\n",
       " \n",
       "        [[ -5.44627553,  64.76712817],\n",
       "         [ -3.50125443,  64.61593777],\n",
       "         [ -1.55594208,  64.46854219],\n",
       "         [  0.38960497,  64.32427411]],\n",
       " \n",
       "        [[ 14.09886231,  64.32085326],\n",
       "         [ 14.05037386,  62.47076864],\n",
       "         [ 14.00188541,  60.62068403],\n",
       "         [ 13.95339696,  58.77059941]],\n",
       " \n",
       "        [[ -3.46446428,  58.12130384],\n",
       "         [ -1.60688393,  57.87055623],\n",
       "         [  0.21772213,  57.44126394],\n",
       "         [  1.99223438,  56.83745485]],\n",
       " \n",
       "        [[ -1.32389889, -35.54669644],\n",
       "         [ -1.23178058, -33.70808914],\n",
       "         [ -1.16532834, -31.86837539],\n",
       "         [ -1.12455509, -30.02791346]],\n",
       " \n",
       "        [[ 17.76090774,  80.63328631],\n",
       "         [ 17.62988502,  78.78710282],\n",
       "         [ 17.54485401,  76.93888599],\n",
       "         [ 17.68063787,  75.0943261 ]],\n",
       " \n",
       "        [[  1.02214287, -48.84406936],\n",
       "         [  1.17896863, -46.9225523 ],\n",
       "         [  1.3402073 , -45.00140051],\n",
       "         [  1.50585801, -43.08062412]]]),\n",
       " array([4, 4, 4, 4, 4, 4, 4, 4, 4, 4, 4, 4, 4, 4, 4, 4]),\n",
       " array([[[ -1.21503268, -22.66563417],\n",
       "         [ -1.27681865, -20.82574285],\n",
       "         [ -1.33860462, -18.98585153],\n",
       "         [ -1.33860462, -18.98585153],\n",
       "         [ -1.40427755, -17.03022176],\n",
       "         [ -1.46995047, -15.07459198]]]),\n",
       " array([6]),\n",
       " array([False, False, False, False, False, False, False, False, False,\n",
       "        False, False, False, False,  True, False, False]),\n",
       " array([[-1.57806866,  3.45761549],\n",
       "        [ 3.97160268, -0.29931912],\n",
       "        [-3.85360607, -0.57374751],\n",
       "        [ 0.29520197,  3.85268948],\n",
       "        [-0.22881779, -3.9874033 ],\n",
       "        [ 3.91637266, -0.29539308],\n",
       "        [-0.40308408, -3.73465199],\n",
       "        [-3.74335356,  0.24139796],\n",
       "        [-1.65261693, -3.52740647],\n",
       "        [-3.96033998,  0.3282787 ],\n",
       "        [ 3.89114073, -0.2879081 ],\n",
       "        [-0.0969769 , -3.70016923],\n",
       "        [ 2.82929723, -2.45947022],\n",
       "        [-0.11733784,  3.67997769],\n",
       "        [ 2.05212396, -3.07768435],\n",
       "        [ 0.36657991,  3.83834698]]),\n",
       " array([[ -2.84492462,  38.20143338],\n",
       "        [ 60.16175149,  56.65714965],\n",
       "        [-53.50991325,  36.33697158],\n",
       "        [ -3.61011109, -66.19082818],\n",
       "        [  8.48098152, -27.39055447],\n",
       "        [129.39185403,  54.66999156],\n",
       "        [  9.38581438, -67.93390717],\n",
       "        [ 50.48119223,  45.8527579 ],\n",
       "        [ 12.95857048,  63.89027971],\n",
       "        [ 21.6861042 ,  51.16086333],\n",
       "        [  6.22631607,  63.89241195],\n",
       "        [ 13.80793161,  53.22034557],\n",
       "        [  6.85199468,  54.04343295],\n",
       "        [ -1.15636376, -24.50562302],\n",
       "        [ 19.47280161,  69.8753803 ],\n",
       "        [  2.02927362, -37.32064866]]),\n",
       " tensor([[[ 0.1443,  0.1077,  0.0711,  ..., -0.5511, -0.5145, -0.4779],\n",
       "          [ 0.1443,  0.1077,  0.0711,  ..., -0.5511, -0.5145, -0.4779],\n",
       "          [ 0.1443,  0.1077,  0.0711,  ..., -0.5511, -0.5145, -0.4779],\n",
       "          ...,\n",
       "          [ 0.1077,  0.0711,  0.0345,  ..., -0.3681, -0.3315, -0.2949],\n",
       "          [ 0.1077,  0.0711,  0.0345,  ..., -0.3681, -0.3315, -0.2949],\n",
       "          [ 0.1077,  0.0711,  0.0345,  ..., -0.3681, -0.3315, -0.2949]]]),\n",
       " tensor([[-9.9890, -9.9721, -9.9487,  ..., -9.3265, -9.3499, -9.3668],\n",
       "         [-9.9890, -9.9721, -9.9487,  ..., -9.3265, -9.3499, -9.3668],\n",
       "         [-9.9890, -9.9721, -9.9487,  ..., -9.3265, -9.3499, -9.3668],\n",
       "         ...,\n",
       "         [-9.9524, -9.9355, -9.9121,  ..., -9.5095, -9.5329, -9.5498],\n",
       "         [-9.9524, -9.9355, -9.9121,  ..., -9.5095, -9.5329, -9.5498],\n",
       "         [-9.9524, -9.9355, -9.9121,  ..., -9.5095, -9.5329, -9.5498]]),\n",
       " 2)"
      ]
     },
     "execution_count": 21,
     "metadata": {},
     "output_type": "execute_result"
    }
   ],
   "source": [
    "dataset_fake[4]"
   ]
  },
  {
   "cell_type": "code",
   "execution_count": null,
   "metadata": {},
   "outputs": [],
   "source": []
  },
  {
   "cell_type": "code",
   "execution_count": 8,
   "metadata": {},
   "outputs": [],
   "source": [
    "scene_images, log_prior, \\\n",
    "    agent_masks, \\\n",
    "    num_src_trajs, src_trajs, src_lens, src_len_idx, \\\n",
    "    num_tgt_trajs, tgt_trajs, tgt_lens, tgt_len_idx, \\\n",
    "    tgt_two_mask, tgt_three_mask, \\\n",
    "    decode_start_vel, decode_start_pos, scene_id = np.arange(16)\n",
    "\n",
    "for b, batch in enumerate(train_loader):\n",
    "    scene_images, log_prior, \\\n",
    "    agent_masks, \\\n",
    "    num_src_trajs, src_trajs, src_lens, src_len_idx, \\\n",
    "    num_tgt_trajs, tgt_trajs, tgt_lens, tgt_len_idx, \\\n",
    "    tgt_two_mask, tgt_three_mask, \\\n",
    "    decode_start_vel, decode_start_pos, scene_id = batch\n",
    "    if b == 35:\n",
    "        break"
   ]
  },
  {
   "cell_type": "code",
   "execution_count": 9,
   "metadata": {},
   "outputs": [
    {
     "data": {
      "text/plain": [
       "(torch.Size([20, 1, 64, 64]),\n",
       " torch.Size([20, 100, 100]),\n",
       " torch.Size([20]),\n",
       " [],\n",
       " torch.Size([20]),\n",
       " torch.Size([20, 4, 2]),\n",
       " torch.Size([20]),\n",
       " torch.Size([4]),\n",
       " [],\n",
       " torch.Size([20]),\n",
       " torch.Size([0, 6, 2]),\n",
       " torch.Size([0]),\n",
       " torch.Size([0]),\n",
       " [],\n",
       " torch.Size([0]),\n",
       " torch.Size([0]),\n",
       " [],\n",
       " torch.Size([20, 2]),\n",
       " torch.Size([20, 2]),\n",
       " (20,))"
      ]
     },
     "execution_count": 9,
     "metadata": {},
     "output_type": "execute_result"
    }
   ],
   "source": [
    "scene_images.shape, log_prior.shape, agent_masks.shape, \\\n",
    "[], \\\n",
    "num_src_trajs.shape, src_trajs.shape, src_lens.shape, src_len_idx.shape, \\\n",
    "[], \\\n",
    "num_tgt_trajs.shape, tgt_trajs.shape, tgt_lens.shape, tgt_len_idx.shape, \\\n",
    "[], \\\n",
    "tgt_two_mask.shape, tgt_three_mask.shape, \\\n",
    "[], \\\n",
    "decode_start_vel.shape, decode_start_pos.shape, scene_id.shape"
   ]
  },
  {
   "cell_type": "code",
   "execution_count": 11,
   "metadata": {},
   "outputs": [
    {
     "data": {
      "text/plain": [
       "<matplotlib.image.AxesImage at 0x7f1252ae8b90>"
      ]
     },
     "execution_count": 11,
     "metadata": {},
     "output_type": "execute_result"
    },
    {
     "data": {
      "image/png": "[encoded data removed]",
      "text/plain": [
       "<Figure size 432x288 with 1 Axes>"
      ]
     },
     "metadata": {},
     "output_type": "display_data"
    }
   ],
   "source": [
    "import matplotlib.pyplot as plt\n",
    "plt.imshow(scene_images[0][0])"
   ]
  },
  {
   "cell_type": "code",
   "execution_count": null,
   "metadata": {},
   "outputs": [],
   "source": []
  },
  {
   "cell_type": "code",
   "execution_count": null,
   "metadata": {},
   "outputs": [],
   "source": []
  },
  {
   "cell_type": "code",
   "execution_count": null,
   "metadata": {},
   "outputs": [],
   "source": []
  },
  {
   "cell_type": "code",
   "execution_count": null,
   "metadata": {},
   "outputs": [],
   "source": []
  },
  {
   "cell_type": "code",
   "execution_count": null,
   "metadata": {},
   "outputs": [],
   "source": []
  },
  {
   "cell_type": "code",
   "execution_count": null,
   "metadata": {},
   "outputs": [],
   "source": []
  },
  {
   "cell_type": "code",
   "execution_count": null,
   "metadata": {},
   "outputs": [],
   "source": []
  },
  {
   "cell_type": "code",
   "execution_count": null,
   "metadata": {},
   "outputs": [],
   "source": []
  },
  {
   "cell_type": "markdown",
   "metadata": {},
   "source": [
    "### 1) CMU 데이터 형식"
   ]
  },
  {
   "cell_type": "code",
   "execution_count": 3,
   "metadata": {},
   "outputs": [
    {
     "name": "stdout",
     "output_type": "stream",
     "text": [
      "Test Examples: 21381\n"
     ]
    }
   ],
   "source": [
    "dataset_cmu, data_loader_cmu = pky.load_CMU()"
   ]
  },
  {
   "cell_type": "code",
   "execution_count": 4,
   "metadata": {},
   "outputs": [
    {
     "ename": "NameError",
     "evalue": "name 'train_dataset' is not defined",
     "output_type": "error",
     "traceback": [
      "\u001b[0;31m---------------------------------------------------------------------------\u001b[0m",
      "\u001b[0;31mNameError\u001b[0m                                 Traceback (most recent call last)",
      "\u001b[0;32m<ipython-input-4-5c24c60fcb41>\u001b[0m in \u001b[0;36m<module>\u001b[0;34m\u001b[0m\n\u001b[0;32m----> 1\u001b[0;31m \u001b[0mlen\u001b[0m\u001b[0;34m(\u001b[0m\u001b[0mtrain_dataset\u001b[0m\u001b[0;34m[\u001b[0m\u001b[0;36m0\u001b[0m\u001b[0;34m]\u001b[0m\u001b[0;34m)\u001b[0m\u001b[0;34m\u001b[0m\u001b[0;34m\u001b[0m\u001b[0m\n\u001b[0m",
      "\u001b[0;31mNameError\u001b[0m: name 'train_dataset' is not defined"
     ]
    }
   ],
   "source": [
    "len(train_dataset[0])"
   ]
  },
  {
   "cell_type": "code",
   "execution_count": null,
   "metadata": {},
   "outputs": [],
   "source": [
    "scene_images, log_prior, \\\n",
    "    agent_masks, \\\n",
    "    num_src_trajs, src_trajs, src_lens, src_len_idx, \\\n",
    "    num_tgt_trajs, tgt_trajs, tgt_lens, tgt_len_idx, \\\n",
    "    tgt_two_mask, tgt_three_mask, \\\n",
    "    decode_start_vel, decode_start_pos, scene_id = np.arange(16)\n",
    "\n",
    "for b, batch in enumerate(data_loader_cmu):\n",
    "    scene_images, log_prior, \\\n",
    "    agent_masks, \\\n",
    "    num_src_trajs, src_trajs, src_lens, src_len_idx, \\\n",
    "    num_tgt_trajs, tgt_trajs, tgt_lens, tgt_len_idx, \\\n",
    "    tgt_two_mask, tgt_three_mask, \\\n",
    "    decode_start_vel, decode_start_pos, scene_id = batch\n",
    "    if b == 50: \n",
    "        break"
   ]
  },
  {
   "cell_type": "code",
   "execution_count": 5,
   "metadata": {},
   "outputs": [
    {
     "ename": "NameError",
     "evalue": "name 'agent_masks' is not defined",
     "output_type": "error",
     "traceback": [
      "\u001b[0;31m---------------------------------------------------------------------------\u001b[0m",
      "\u001b[0;31mNameError\u001b[0m                                 Traceback (most recent call last)",
      "\u001b[0;32m<ipython-input-5-1184b0ec4de3>\u001b[0m in \u001b[0;36m<module>\u001b[0;34m\u001b[0m\n\u001b[0;32m----> 1\u001b[0;31m \u001b[0magent_masks\u001b[0m\u001b[0;34m,\u001b[0m \u001b[0mtgt_two_mask\u001b[0m\u001b[0;34m,\u001b[0m \u001b[0mtgt_three_mask\u001b[0m\u001b[0;34m\u001b[0m\u001b[0;34m\u001b[0m\u001b[0m\n\u001b[0m",
      "\u001b[0;31mNameError\u001b[0m: name 'agent_masks' is not defined"
     ]
    }
   ],
   "source": [
    "agent_masks, tgt_two_mask, tgt_three_mask"
   ]
  },
  {
   "cell_type": "code",
   "execution_count": null,
   "metadata": {},
   "outputs": [],
   "source": []
  },
  {
   "cell_type": "code",
   "execution_count": null,
   "metadata": {},
   "outputs": [],
   "source": []
  },
  {
   "cell_type": "code",
   "execution_count": null,
   "metadata": {},
   "outputs": [],
   "source": []
  },
  {
   "cell_type": "code",
   "execution_count": 6,
   "metadata": {},
   "outputs": [
    {
     "ename": "NameError",
     "evalue": "name 'batch' is not defined",
     "output_type": "error",
     "traceback": [
      "\u001b[0;31m---------------------------------------------------------------------------\u001b[0m",
      "\u001b[0;31mNameError\u001b[0m                                 Traceback (most recent call last)",
      "\u001b[0;32m<ipython-input-6-5d66dc4b37ec>\u001b[0m in \u001b[0;36m<module>\u001b[0;34m\u001b[0m\n\u001b[0;32m----> 1\u001b[0;31m \u001b[0mlen\u001b[0m\u001b[0;34m(\u001b[0m\u001b[0mbatch\u001b[0m\u001b[0;34m)\u001b[0m\u001b[0;34m\u001b[0m\u001b[0;34m\u001b[0m\u001b[0m\n\u001b[0m",
      "\u001b[0;31mNameError\u001b[0m: name 'batch' is not defined"
     ]
    }
   ],
   "source": [
    "len(batch)"
   ]
  },
  {
   "cell_type": "code",
   "execution_count": 7,
   "metadata": {},
   "outputs": [
    {
     "ename": "NameError",
     "evalue": "name 'scene_images' is not defined",
     "output_type": "error",
     "traceback": [
      "\u001b[0;31m---------------------------------------------------------------------------\u001b[0m",
      "\u001b[0;31mNameError\u001b[0m                                 Traceback (most recent call last)",
      "\u001b[0;32m<ipython-input-7-17f29c2c1ddc>\u001b[0m in \u001b[0;36m<module>\u001b[0;34m\u001b[0m\n\u001b[0;32m----> 1\u001b[0;31m \u001b[0mscene_images\u001b[0m\u001b[0;34m.\u001b[0m\u001b[0mshape\u001b[0m\u001b[0;34m,\u001b[0m \u001b[0mlog_prior\u001b[0m\u001b[0;34m.\u001b[0m\u001b[0mshape\u001b[0m\u001b[0;34m,\u001b[0m \u001b[0magent_masks\u001b[0m\u001b[0;34m.\u001b[0m\u001b[0mshape\u001b[0m\u001b[0;34m,\u001b[0m\u001b[0;31m \u001b[0m\u001b[0;31m\\\u001b[0m\u001b[0;34m\u001b[0m\u001b[0;34m\u001b[0m\u001b[0m\n\u001b[0m\u001b[1;32m      2\u001b[0m \u001b[0;34m[\u001b[0m\u001b[0;34m]\u001b[0m\u001b[0;34m,\u001b[0m\u001b[0;31m \u001b[0m\u001b[0;31m\\\u001b[0m\u001b[0;34m\u001b[0m\u001b[0;34m\u001b[0m\u001b[0m\n\u001b[1;32m      3\u001b[0m \u001b[0mnum_src_trajs\u001b[0m\u001b[0;34m.\u001b[0m\u001b[0mshape\u001b[0m\u001b[0;34m,\u001b[0m \u001b[0msrc_trajs\u001b[0m\u001b[0;34m.\u001b[0m\u001b[0mshape\u001b[0m\u001b[0;34m,\u001b[0m \u001b[0msrc_lens\u001b[0m\u001b[0;34m.\u001b[0m\u001b[0mshape\u001b[0m\u001b[0;34m,\u001b[0m \u001b[0msrc_len_idx\u001b[0m\u001b[0;34m.\u001b[0m\u001b[0mshape\u001b[0m\u001b[0;34m,\u001b[0m\u001b[0;31m \u001b[0m\u001b[0;31m\\\u001b[0m\u001b[0;34m\u001b[0m\u001b[0;34m\u001b[0m\u001b[0m\n\u001b[1;32m      4\u001b[0m \u001b[0;34m[\u001b[0m\u001b[0;34m]\u001b[0m\u001b[0;34m,\u001b[0m\u001b[0;31m \u001b[0m\u001b[0;31m\\\u001b[0m\u001b[0;34m\u001b[0m\u001b[0;34m\u001b[0m\u001b[0m\n\u001b[1;32m      5\u001b[0m \u001b[0mnum_tgt_trajs\u001b[0m\u001b[0;34m.\u001b[0m\u001b[0mshape\u001b[0m\u001b[0;34m,\u001b[0m \u001b[0mtgt_trajs\u001b[0m\u001b[0;34m.\u001b[0m\u001b[0mshape\u001b[0m\u001b[0;34m,\u001b[0m \u001b[0mtgt_lens\u001b[0m\u001b[0;34m.\u001b[0m\u001b[0mshape\u001b[0m\u001b[0;34m,\u001b[0m \u001b[0mtgt_len_idx\u001b[0m\u001b[0;34m.\u001b[0m\u001b[0mshape\u001b[0m\u001b[0;34m,\u001b[0m\u001b[0;31m \u001b[0m\u001b[0;31m\\\u001b[0m\u001b[0;34m\u001b[0m\u001b[0;34m\u001b[0m\u001b[0m\n",
      "\u001b[0;31mNameError\u001b[0m: name 'scene_images' is not defined"
     ]
    }
   ],
   "source": [
    "scene_images.shape, log_prior.shape, agent_masks.shape, \\\n",
    "[], \\\n",
    "num_src_trajs.shape, src_trajs.shape, src_lens.shape, src_len_idx.shape, \\\n",
    "[], \\\n",
    "num_tgt_trajs.shape, tgt_trajs.shape, tgt_lens.shape, tgt_len_idx.shape, \\\n",
    "[], \\\n",
    "tgt_two_mask.shape, tgt_three_mask.shape, \\\n",
    "[], \\\n",
    "decode_start_vel.shape, decode_start_pos.shape, scene_id.shape"
   ]
  },
  {
   "cell_type": "markdown",
   "metadata": {},
   "source": [
    "(torch.Size([1, 1, 64, 64]),\n",
    " torch.Size([1, 100, 100]),\n",
    " torch.Size([12]),\n",
    " [],\n",
    " torch.Size([1]),\n",
    " torch.Size([12, 4, 2]),\n",
    " torch.Size([12]),\n",
    " torch.Size([48]),\n",
    " [],\n",
    " torch.Size([1]),\n",
    " torch.Size([12, 6, 2]),\n",
    " torch.Size([12]),\n",
    " torch.Size([72]),\n",
    " [],\n",
    " torch.Size([12]),\n",
    " torch.Size([12]),\n",
    " [],\n",
    " torch.Size([12, 2]),\n",
    " torch.Size([12, 2]),\n",
    " (1,))"
   ]
  },
  {
   "cell_type": "code",
   "execution_count": 8,
   "metadata": {},
   "outputs": [
    {
     "ename": "NameError",
     "evalue": "name 'batch' is not defined",
     "output_type": "error",
     "traceback": [
      "\u001b[0;31m---------------------------------------------------------------------------\u001b[0m",
      "\u001b[0;31mNameError\u001b[0m                                 Traceback (most recent call last)",
      "\u001b[0;32m<ipython-input-8-0e20a88bbe2e>\u001b[0m in \u001b[0;36m<module>\u001b[0;34m\u001b[0m\n\u001b[0;32m----> 1\u001b[0;31m \u001b[0mbatch\u001b[0m\u001b[0;34m\u001b[0m\u001b[0;34m\u001b[0m\u001b[0m\n\u001b[0m",
      "\u001b[0;31mNameError\u001b[0m: name 'batch' is not defined"
     ]
    }
   ],
   "source": [
    "batch"
   ]
  },
  {
   "cell_type": "code",
   "execution_count": 9,
   "metadata": {},
   "outputs": [
    {
     "ename": "NameError",
     "evalue": "name 'decode_start_pos' is not defined",
     "output_type": "error",
     "traceback": [
      "\u001b[0;31m---------------------------------------------------------------------------\u001b[0m",
      "\u001b[0;31mNameError\u001b[0m                                 Traceback (most recent call last)",
      "\u001b[0;32m<ipython-input-9-ebcea0aa9cab>\u001b[0m in \u001b[0;36m<module>\u001b[0;34m\u001b[0m\n\u001b[0;32m----> 1\u001b[0;31m \u001b[0mdecode_start_pos\u001b[0m\u001b[0;34m,\u001b[0m \u001b[0mtgt_trajs\u001b[0m\u001b[0;34m\u001b[0m\u001b[0;34m\u001b[0m\u001b[0m\n\u001b[0m",
      "\u001b[0;31mNameError\u001b[0m: name 'decode_start_pos' is not defined"
     ]
    }
   ],
   "source": [
    "decode_start_pos, tgt_trajs"
   ]
  },
  {
   "cell_type": "code",
   "execution_count": 10,
   "metadata": {},
   "outputs": [
    {
     "ename": "NameError",
     "evalue": "name 'decode_start_pos' is not defined",
     "output_type": "error",
     "traceback": [
      "\u001b[0;31m---------------------------------------------------------------------------\u001b[0m",
      "\u001b[0;31mNameError\u001b[0m                                 Traceback (most recent call last)",
      "\u001b[0;32m<ipython-input-10-7ac154910436>\u001b[0m in \u001b[0;36m<module>\u001b[0;34m\u001b[0m\n\u001b[0;32m----> 1\u001b[0;31m \u001b[0mdecode_start_pos\u001b[0m\u001b[0;34m.\u001b[0m\u001b[0mshape\u001b[0m\u001b[0;34m,\u001b[0m \u001b[0mtgt_trajs\u001b[0m\u001b[0;34m.\u001b[0m\u001b[0mshape\u001b[0m\u001b[0;34m\u001b[0m\u001b[0;34m\u001b[0m\u001b[0m\n\u001b[0m",
      "\u001b[0;31mNameError\u001b[0m: name 'decode_start_pos' is not defined"
     ]
    }
   ],
   "source": [
    "decode_start_pos.shape, tgt_trajs.shape"
   ]
  },
  {
   "cell_type": "code",
   "execution_count": 11,
   "metadata": {},
   "outputs": [],
   "source": [
    "from dataset.nuscenes import NuscenesDataset, nuscenes_collate\n",
    "from torch.utils.data import DataLoader"
   ]
  },
  {
   "cell_type": "code",
   "execution_count": 12,
   "metadata": {},
   "outputs": [],
   "source": [
    "train_dataset = pky.DatasetQ10(root='../generated/gen_None_None/real', data_partition='val')\n",
    "train_loader = DataLoader(train_dataset, batch_size=64, shuffle=False, pin_memory=True,\n",
    "                                  collate_fn=lambda x: nuscenes_collate(x), num_workers=1)"
   ]
  },
  {
   "cell_type": "code",
   "execution_count": 13,
   "metadata": {},
   "outputs": [],
   "source": [
    "scene_images, log_prior, \\\n",
    "    agent_masks, \\\n",
    "    num_src_trajs, src_trajs, src_lens, src_len_idx, \\\n",
    "    num_tgt_trajs, tgt_trajs, tgt_lens, tgt_len_idx, \\\n",
    "    tgt_two_mask, tgt_three_mask, \\\n",
    "    decode_start_vel, decode_start_pos, scene_id = np.arange(16)\n",
    "\n",
    "for b, batch in enumerate(train_loader):\n",
    "    scene_images, log_prior, \\\n",
    "    agent_masks, \\\n",
    "    num_src_trajs, src_trajs, src_lens, src_len_idx, \\\n",
    "    num_tgt_trajs, tgt_trajs, tgt_lens, tgt_len_idx, \\\n",
    "    tgt_two_mask, tgt_three_mask, \\\n",
    "    decode_start_vel, decode_start_pos, scene_id = batch\n",
    "    if b == 0:\n",
    "        break"
   ]
  },
  {
   "cell_type": "code",
   "execution_count": 14,
   "metadata": {
    "scrolled": true
   },
   "outputs": [
    {
     "data": {
      "text/plain": [
       "(tensor([ True, False, False,  ...,  True, False, False]),\n",
       " tensor([ True,  True,  True,  True,  True,  True,  True,  True,  True,  True,\n",
       "          True,  True,  True,  True,  True,  True,  True,  True,  True,  True,\n",
       "          True,  True,  True,  True,  True,  True,  True,  True,  True,  True,\n",
       "          True,  True,  True,  True,  True,  True,  True,  True,  True,  True,\n",
       "          True,  True,  True,  True,  True,  True,  True,  True,  True,  True,\n",
       "          True,  True,  True,  True,  True,  True,  True,  True,  True,  True,\n",
       "          True,  True,  True,  True,  True,  True,  True,  True,  True,  True,\n",
       "          True,  True,  True,  True,  True,  True,  True,  True,  True,  True,\n",
       "          True,  True,  True,  True,  True,  True,  True,  True,  True,  True,\n",
       "          True,  True,  True,  True,  True,  True,  True,  True,  True,  True,\n",
       "          True,  True,  True,  True,  True,  True,  True,  True,  True,  True,\n",
       "          True,  True,  True,  True,  True,  True,  True,  True,  True,  True,\n",
       "          True,  True,  True,  True,  True,  True,  True,  True,  True,  True,\n",
       "          True,  True,  True,  True,  True,  True,  True,  True,  True,  True,\n",
       "          True,  True,  True,  True,  True,  True,  True,  True,  True,  True,\n",
       "          True,  True,  True,  True,  True,  True,  True,  True,  True,  True,\n",
       "          True,  True,  True,  True,  True,  True,  True,  True,  True,  True,\n",
       "          True,  True,  True,  True,  True,  True,  True,  True,  True,  True,\n",
       "          True,  True,  True,  True,  True,  True,  True,  True,  True,  True,\n",
       "          True,  True,  True,  True,  True, False,  True,  True,  True,  True,\n",
       "          True,  True,  True,  True, False, False, False, False, False, False,\n",
       "         False, False, False, False, False, False, False, False, False, False,\n",
       "         False, False, False, False, False, False, False, False, False, False,\n",
       "         False, False, False,  True,  True,  True,  True,  True,  True,  True,\n",
       "          True,  True,  True,  True,  True,  True,  True,  True,  True,  True,\n",
       "          True,  True, False, False,  True,  True, False,  True,  True,  True,\n",
       "         False,  True,  True,  True,  True,  True,  True,  True,  True,  True,\n",
       "          True,  True,  True,  True,  True,  True,  True,  True,  True,  True,\n",
       "          True,  True,  True,  True,  True,  True,  True,  True,  True,  True,\n",
       "          True,  True,  True,  True,  True,  True,  True,  True,  True,  True,\n",
       "          True,  True,  True,  True,  True,  True,  True,  True,  True,  True,\n",
       "          True,  True,  True,  True,  True,  True,  True,  True,  True,  True,\n",
       "          True,  True,  True,  True,  True,  True,  True,  True,  True,  True,\n",
       "          True,  True,  True,  True,  True,  True,  True,  True,  True,  True,\n",
       "          True,  True,  True,  True,  True,  True,  True,  True,  True,  True,\n",
       "          True,  True,  True,  True,  True,  True,  True,  True,  True,  True,\n",
       "          True,  True,  True,  True,  True,  True,  True,  True,  True,  True,\n",
       "          True,  True,  True,  True,  True,  True,  True]),\n",
       " tensor([ True,  True,  True,  True,  True,  True,  True,  True,  True,  True,\n",
       "          True,  True,  True,  True,  True,  True,  True,  True,  True,  True,\n",
       "          True,  True,  True,  True,  True,  True,  True,  True,  True,  True,\n",
       "          True,  True,  True,  True,  True,  True,  True,  True,  True,  True,\n",
       "          True,  True,  True,  True,  True,  True,  True,  True,  True,  True,\n",
       "          True,  True,  True,  True,  True,  True,  True,  True,  True,  True,\n",
       "          True,  True,  True,  True,  True,  True,  True,  True,  True,  True,\n",
       "          True,  True,  True,  True,  True,  True,  True,  True,  True,  True,\n",
       "          True,  True,  True,  True,  True,  True,  True,  True,  True, False,\n",
       "         False, False, False, False, False, False, False,  True,  True,  True,\n",
       "          True,  True,  True,  True,  True,  True,  True,  True,  True,  True,\n",
       "          True,  True,  True,  True,  True,  True,  True,  True,  True,  True,\n",
       "          True,  True,  True,  True,  True,  True,  True,  True,  True,  True,\n",
       "          True,  True,  True,  True,  True,  True,  True,  True,  True,  True,\n",
       "          True,  True,  True,  True,  True,  True,  True,  True,  True,  True,\n",
       "          True,  True,  True,  True,  True,  True,  True,  True,  True,  True,\n",
       "          True,  True,  True,  True,  True,  True,  True,  True,  True,  True,\n",
       "          True,  True,  True,  True,  True, False,  True,  True,  True,  True,\n",
       "          True,  True,  True,  True, False, False, False, False, False, False,\n",
       "         False, False, False, False, False, False, False, False, False, False,\n",
       "         False, False, False, False, False, False, False, False, False, False,\n",
       "         False, False, False, False, False, False, False, False, False, False,\n",
       "         False, False, False, False, False, False, False, False, False, False,\n",
       "         False, False, False,  True,  True,  True,  True,  True,  True,  True,\n",
       "          True,  True,  True,  True, False,  True,  True,  True, False,  True,\n",
       "          True,  True, False, False,  True,  True, False,  True, False,  True,\n",
       "         False,  True,  True,  True, False,  True,  True,  True,  True,  True,\n",
       "          True,  True,  True,  True,  True,  True,  True,  True,  True,  True,\n",
       "          True,  True,  True,  True,  True,  True,  True,  True,  True,  True,\n",
       "          True,  True,  True,  True,  True,  True,  True,  True,  True,  True,\n",
       "          True,  True,  True,  True,  True,  True,  True,  True,  True,  True,\n",
       "          True,  True,  True,  True,  True,  True,  True,  True,  True,  True,\n",
       "          True,  True,  True,  True,  True,  True,  True,  True,  True,  True,\n",
       "          True,  True,  True,  True,  True, False,  True,  True,  True,  True,\n",
       "          True,  True,  True,  True,  True, False,  True,  True,  True,  True,\n",
       "          True,  True,  True,  True,  True,  True,  True,  True,  True,  True,\n",
       "          True,  True,  True,  True,  True,  True,  True,  True,  True,  True,\n",
       "          True,  True,  True,  True,  True,  True,  True]))"
      ]
     },
     "execution_count": 14,
     "metadata": {},
     "output_type": "execute_result"
    }
   ],
   "source": [
    "agent_masks, tgt_two_mask, tgt_three_mask"
   ]
  },
  {
   "cell_type": "code",
   "execution_count": 15,
   "metadata": {},
   "outputs": [
    {
     "data": {
      "text/plain": [
       "[tensor([[[[ 0.0711,  0.0345, -0.0021,  ..., -0.4413, -0.4047, -0.3681],\n",
       "           [ 0.0711,  0.0345, -0.0021,  ..., -0.4413, -0.4047, -0.3681],\n",
       "           [ 0.0711,  0.0345, -0.0021,  ..., -0.4413, -0.4047, -0.3681],\n",
       "           ...,\n",
       "           [-0.0393, -0.0759, -0.1125,  ..., -0.4047, -0.3681, -0.3315],\n",
       "           [-0.0321, -0.0687, -0.1053,  ..., -0.4047, -0.3681, -0.3315],\n",
       "           [-0.0249, -0.0615, -0.0981,  ..., -0.4047, -0.3681, -0.3315]]],\n",
       " \n",
       " \n",
       "         [[[ 0.0711,  0.0345, -0.0021,  ..., -0.4779, -0.4413, -0.4047],\n",
       "           [ 0.0711,  0.0345, -0.0021,  ..., -0.4779, -0.4413, -0.4047],\n",
       "           [ 0.0711,  0.0345, -0.0021,  ..., -0.4779, -0.4413, -0.4047],\n",
       "           ...,\n",
       "           [-0.0975, -0.1341, -0.1707,  ..., -0.4047, -0.3681, -0.3315],\n",
       "           [-0.0903, -0.1269, -0.1635,  ..., -0.4047, -0.3681, -0.3315],\n",
       "           [-0.0831, -0.1197, -0.1563,  ..., -0.4047, -0.3681, -0.3315]]],\n",
       " \n",
       " \n",
       "         [[[ 0.1077,  0.0711,  0.0345,  ..., -0.4779, -0.4413, -0.4047],\n",
       "           [ 0.1071,  0.0705,  0.0339,  ..., -0.4779, -0.4413, -0.4047],\n",
       "           [ 0.0999,  0.0633,  0.0267,  ..., -0.4779, -0.4413, -0.4047],\n",
       "           ...,\n",
       "           [-0.1119, -0.1485, -0.1851,  ..., -0.4047, -0.3681, -0.3315],\n",
       "           [-0.1119, -0.1485, -0.1851,  ..., -0.4047, -0.3681, -0.3315],\n",
       "           [-0.1119, -0.1485, -0.1851,  ..., -0.4047, -0.3681, -0.3315]]],\n",
       " \n",
       " \n",
       "         ...,\n",
       " \n",
       " \n",
       "         [[[-0.1197, -0.1485, -0.1851,  ..., -0.8439, -0.8073, -0.7707],\n",
       "           [-0.1563, -0.1635, -0.1851,  ..., -0.8439, -0.8073, -0.7707],\n",
       "           [-0.1929, -0.2001, -0.2073,  ..., -0.8439, -0.8073, -0.7707],\n",
       "           ...,\n",
       "           [-0.1119, -0.1485, -0.1851,  ..., -0.6099, -0.5733, -0.5367],\n",
       "           [-0.1119, -0.1485, -0.1851,  ..., -0.6171, -0.5805, -0.5439],\n",
       "           [-0.1119, -0.1485, -0.1851,  ..., -0.6243, -0.5877, -0.5511]]],\n",
       " \n",
       " \n",
       "         [[[-0.1119, -0.1485, -0.1851,  ..., -0.8439, -0.8073, -0.7707],\n",
       "           [-0.1119, -0.1485, -0.1851,  ..., -0.8439, -0.8073, -0.7707],\n",
       "           [-0.1197, -0.1485, -0.1851,  ..., -0.8439, -0.8073, -0.7707],\n",
       "           ...,\n",
       "           [-0.1119, -0.1485, -0.1851,  ..., -0.0243,  0.0123,  0.0489],\n",
       "           [-0.1119, -0.1485, -0.1851,  ..., -0.0315,  0.0051,  0.0417],\n",
       "           [-0.1119, -0.1485, -0.1851,  ..., -0.0387, -0.0021,  0.0345]]],\n",
       " \n",
       " \n",
       "         [[[-0.1119, -0.1485, -0.1851,  ..., -0.8439, -0.8073, -0.7707],\n",
       "           [-0.1119, -0.1485, -0.1851,  ..., -0.8439, -0.8073, -0.7707],\n",
       "           [-0.1119, -0.1485, -0.1851,  ..., -0.8439, -0.8073, -0.7707],\n",
       "           ...,\n",
       "           [-0.1119, -0.1485, -0.1851,  ..., -0.0021,  0.0345,  0.0711],\n",
       "           [-0.1119, -0.1485, -0.1851,  ..., -0.0021,  0.0345,  0.0711],\n",
       "           [-0.1119, -0.1485, -0.1851,  ..., -0.0021,  0.0345,  0.0711]]]]),\n",
       " tensor([[[-9.9252, -9.9084, -9.8849,  ..., -9.4457, -9.4692, -9.4860],\n",
       "          [-9.9252, -9.9084, -9.8849,  ..., -9.4457, -9.4692, -9.4860],\n",
       "          [-9.9252, -9.9084, -9.8849,  ..., -9.4457, -9.4692, -9.4860],\n",
       "          ...,\n",
       "          [-9.8213, -9.8045, -9.7811,  ..., -9.4823, -9.5058, -9.5226],\n",
       "          [-9.8259, -9.8091, -9.7857,  ..., -9.4823, -9.5058, -9.5226],\n",
       "          [-9.8292, -9.8124, -9.7890,  ..., -9.4823, -9.5058, -9.5226]],\n",
       " \n",
       "         [[-9.9253, -9.9085, -9.8851,  ..., -9.4093, -9.4327, -9.4495],\n",
       "          [-9.9253, -9.9085, -9.8851,  ..., -9.4093, -9.4327, -9.4495],\n",
       "          [-9.9253, -9.9085, -9.8851,  ..., -9.4093, -9.4327, -9.4495],\n",
       "          ...,\n",
       "          [-9.7632, -9.7464, -9.7230,  ..., -9.4825, -9.5059, -9.5227],\n",
       "          [-9.7679, -9.7510, -9.7276,  ..., -9.4825, -9.5059, -9.5227],\n",
       "          [-9.7712, -9.7543, -9.7309,  ..., -9.4825, -9.5059, -9.5227]],\n",
       " \n",
       "         [[-9.9571, -9.9403, -9.9169,  ..., -9.4045, -9.4279, -9.4447],\n",
       "          [-9.9569, -9.9400, -9.9166,  ..., -9.4045, -9.4279, -9.4447],\n",
       "          [-9.9558, -9.9390, -9.9156,  ..., -9.4045, -9.4279, -9.4447],\n",
       "          ...,\n",
       "          [-9.7375, -9.7207, -9.6973,  ..., -9.4777, -9.5011, -9.5179],\n",
       "          [-9.7375, -9.7207, -9.6973,  ..., -9.4777, -9.5011, -9.5179],\n",
       "          [-9.7375, -9.7207, -9.6973,  ..., -9.4777, -9.5011, -9.5179]],\n",
       " \n",
       "         ...,\n",
       " \n",
       "         [[-9.7949, -9.7816, -9.7624,  ..., -9.1036, -9.1270, -9.1439],\n",
       "          [-9.7780, -9.7694, -9.7562,  ..., -9.1036, -9.1270, -9.1439],\n",
       "          [-9.7546, -9.7513, -9.7454,  ..., -9.1036, -9.1270, -9.1439],\n",
       "          ...,\n",
       "          [-9.8027, -9.7858, -9.7624,  ..., -9.3311, -9.3545, -9.3714],\n",
       "          [-9.8027, -9.7858, -9.7624,  ..., -9.3265, -9.3499, -9.3668],\n",
       "          [-9.8027, -9.7858, -9.7624,  ..., -9.3232, -9.3466, -9.3635]],\n",
       " \n",
       "         [[-9.7889, -9.7721, -9.7487,  ..., -9.0899, -9.1133, -9.1301],\n",
       "          [-9.7889, -9.7721, -9.7487,  ..., -9.0899, -9.1133, -9.1301],\n",
       "          [-9.7882, -9.7717, -9.7487,  ..., -9.0899, -9.1133, -9.1301],\n",
       "          ...,\n",
       "          [-9.7889, -9.7721, -9.7487,  ..., -9.9030, -9.9264, -9.9433],\n",
       "          [-9.7889, -9.7721, -9.7487,  ..., -9.8984, -9.9218, -9.9386],\n",
       "          [-9.7889, -9.7721, -9.7487,  ..., -9.8951, -9.9185, -9.9353]],\n",
       " \n",
       "         [[-9.7951, -9.7782, -9.7548,  ..., -9.0960, -9.1194, -9.1363],\n",
       "          [-9.7951, -9.7782, -9.7548,  ..., -9.0960, -9.1194, -9.1363],\n",
       "          [-9.7951, -9.7782, -9.7548,  ..., -9.0960, -9.1194, -9.1363],\n",
       "          ...,\n",
       "          [-9.7951, -9.7782, -9.7548,  ..., -9.9378, -9.9612, -9.9781],\n",
       "          [-9.7951, -9.7782, -9.7548,  ..., -9.9378, -9.9612, -9.9781],\n",
       "          [-9.7951, -9.7782, -9.7548,  ..., -9.9378, -9.9612, -9.9781]]]),\n",
       " tensor([ True, False, False,  ...,  True, False, False]),\n",
       " tensor([13, 16, 17, 19, 20, 18, 18, 21, 21, 22, 22, 22, 22, 22, 22, 21, 21, 21,\n",
       "         21, 21, 21, 20, 21, 22, 20, 20, 20, 19, 19, 19, 17, 17, 16, 16, 14, 13,\n",
       "         13, 11, 10,  4,  7,  9,  9, 10, 11, 11, 14, 14, 15, 15, 15, 16, 18, 19,\n",
       "         20, 20, 26, 27, 29, 32, 33, 35, 35, 37]),\n",
       " tensor([[[ 0.0000,  0.0000],\n",
       "          [ 0.0000,  0.0000],\n",
       "          [ 0.0000,  0.0000],\n",
       "          [ 0.0000,  0.0000]],\n",
       " \n",
       "         [[ 0.0000,  0.0000],\n",
       "          [ 0.0000,  0.0000],\n",
       "          [ 0.0000,  0.0000],\n",
       "          [ 0.0000,  0.0000]],\n",
       " \n",
       "         [[ 0.0000,  0.0000],\n",
       "          [ 0.0000,  0.0000],\n",
       "          [ 0.0000,  0.0000],\n",
       "          [ 0.0000,  0.0000]],\n",
       " \n",
       "         ...,\n",
       " \n",
       "         [[-8.6931, 21.3682],\n",
       "          [-8.6923, 21.3845],\n",
       "          [-8.6908, 21.4014],\n",
       "          [-8.6882, 21.4452]],\n",
       " \n",
       "         [[ 6.1949, 37.0475],\n",
       "          [ 6.1949, 37.0475],\n",
       "          [ 6.1949, 37.0475],\n",
       "          [ 6.1949, 37.0475]],\n",
       " \n",
       "         [[ 0.0000,  0.0000],\n",
       "          [ 0.0000,  0.0000],\n",
       "          [ 0.0000,  0.0000],\n",
       "          [ 0.0000,  0.0000]]]),\n",
       " tensor([0, 0, 0,  ..., 4, 4, 0]),\n",
       " tensor([0, 0, 0,  ..., 1, 2, 3]),\n",
       " tensor([ 1,  1,  1,  2,  2,  2,  2,  2,  3,  3,  5,  5,  4,  5,  5,  5,  5,  6,\n",
       "          7,  8,  8,  7,  8,  8,  8,  8,  8,  8,  8,  9, 10, 10, 10, 10, 10, 10,\n",
       "         10,  8,  1,  1,  1,  1,  2,  2,  2,  3,  4,  5,  3,  5,  5,  5,  6,  7,\n",
       "          7,  8,  8,  8,  8, 10, 10, 11, 11, 11]),\n",
       " tensor([[[37.2140, 65.4178],\n",
       "          [37.2324, 65.4171],\n",
       "          [37.2520, 65.4158],\n",
       "          [37.2704, 65.4151],\n",
       "          [37.2368, 65.4166],\n",
       "          [37.2029, 65.4190]],\n",
       " \n",
       "         [[-4.5362, 11.7666],\n",
       "          [-4.5512, 11.8814],\n",
       "          [-4.5526, 11.9500],\n",
       "          [-4.5540, 12.0186],\n",
       "          [-4.5540, 12.0186],\n",
       "          [-4.6226, 12.0172]],\n",
       " \n",
       "         [[-4.5111,  7.0959],\n",
       "          [-4.5121,  7.1645],\n",
       "          [-4.5131,  7.2331],\n",
       "          [-4.5131,  7.2331],\n",
       "          [-4.5817,  7.2322],\n",
       "          [-4.5817,  7.2322]],\n",
       " \n",
       "         ...,\n",
       " \n",
       "         [[-5.8929,  8.3847],\n",
       "          [-5.9753,  8.3305],\n",
       "          [-6.0590,  8.2779],\n",
       "          [-6.1439,  8.2267],\n",
       "          [-6.2295,  8.1764],\n",
       "          [-6.3144,  8.1267]],\n",
       " \n",
       "         [[16.7029, 18.5547],\n",
       "          [16.7030, 18.5859],\n",
       "          [16.7030, 18.5859],\n",
       "          [16.7029, 18.5391],\n",
       "          [16.7035, 18.4914],\n",
       "          [16.7035, 18.4914]],\n",
       " \n",
       "         [[-8.6955, 21.3351],\n",
       "          [-8.6939, 21.3520],\n",
       "          [-8.6931, 21.3682],\n",
       "          [-8.6921, 21.3795],\n",
       "          [-8.6918, 21.3901],\n",
       "          [-8.6908, 21.4014]]]),\n",
       " tensor([6, 6, 6, 6, 6, 6, 6, 6, 6, 6, 6, 6, 6, 6, 6, 6, 6, 6, 6, 6, 6, 6, 6, 6,\n",
       "         6, 6, 6, 6, 6, 6, 6, 6, 6, 6, 6, 6, 6, 6, 6, 6, 6, 6, 6, 6, 6, 6, 6, 6,\n",
       "         6, 6, 6, 6, 6, 6, 6, 6, 6, 6, 6, 6, 6, 6, 6, 6, 6, 6, 6, 6, 6, 6, 6, 6,\n",
       "         6, 6, 6, 6, 6, 6, 6, 6, 6, 6, 6, 6, 6, 6, 6, 6, 6, 5, 5, 5, 5, 5, 5, 5,\n",
       "         5, 6, 6, 6, 6, 6, 6, 6, 6, 6, 6, 6, 6, 6, 6, 6, 6, 6, 6, 6, 6, 6, 6, 6,\n",
       "         6, 6, 6, 6, 6, 6, 6, 6, 6, 6, 6, 6, 6, 6, 6, 6, 6, 6, 6, 6, 6, 6, 6, 6,\n",
       "         6, 6, 6, 6, 6, 6, 6, 6, 6, 6, 6, 6, 6, 6, 6, 6, 6, 6, 6, 6, 6, 6, 6, 6,\n",
       "         6, 6, 6, 6, 6, 6, 6, 5, 6, 6, 6, 6, 6, 6, 6, 6, 5, 4, 5, 5, 5, 5, 5, 5,\n",
       "         5, 5, 4, 3, 4, 4, 4, 4, 4, 4, 4, 4, 3, 2, 3, 3, 3, 3, 3, 3, 3, 3, 2, 1,\n",
       "         2, 2, 2, 2, 2, 2, 2, 2, 1, 1, 1, 1, 1, 1, 1, 1, 0, 6, 6, 6, 6, 6, 6, 6,\n",
       "         6, 6, 6, 6, 5, 6, 6, 6, 4, 6, 6, 6, 3, 3, 6, 6, 2, 6, 5, 6, 1, 6, 6, 6,\n",
       "         4, 6, 6, 6, 6, 6, 6, 6, 6, 6, 6, 6, 6, 6, 6, 6, 6, 6, 6, 6, 6, 6, 6, 6,\n",
       "         6, 6, 6, 6, 6, 6, 6, 6, 6, 6, 6, 6, 6, 6, 6, 6, 6, 6, 6, 6, 6, 6, 6, 6,\n",
       "         6, 6, 6, 6, 6, 6, 6, 6, 6, 6, 6, 6, 6, 6, 6, 6, 6, 6, 6, 6, 6, 6, 6, 5,\n",
       "         6, 6, 6, 6, 6, 6, 6, 6, 6, 4, 6, 6, 6, 6, 6, 6, 6, 6, 6, 6, 6, 6, 6, 6,\n",
       "         6, 6, 6, 6, 6, 6, 6, 6, 6, 6, 6, 6, 6, 6, 6, 6, 6]),\n",
       " tensor([0, 1, 2,  ..., 3, 4, 5]),\n",
       " tensor([ True,  True,  True,  True,  True,  True,  True,  True,  True,  True,\n",
       "          True,  True,  True,  True,  True,  True,  True,  True,  True,  True,\n",
       "          True,  True,  True,  True,  True,  True,  True,  True,  True,  True,\n",
       "          True,  True,  True,  True,  True,  True,  True,  True,  True,  True,\n",
       "          True,  True,  True,  True,  True,  True,  True,  True,  True,  True,\n",
       "          True,  True,  True,  True,  True,  True,  True,  True,  True,  True,\n",
       "          True,  True,  True,  True,  True,  True,  True,  True,  True,  True,\n",
       "          True,  True,  True,  True,  True,  True,  True,  True,  True,  True,\n",
       "          True,  True,  True,  True,  True,  True,  True,  True,  True,  True,\n",
       "          True,  True,  True,  True,  True,  True,  True,  True,  True,  True,\n",
       "          True,  True,  True,  True,  True,  True,  True,  True,  True,  True,\n",
       "          True,  True,  True,  True,  True,  True,  True,  True,  True,  True,\n",
       "          True,  True,  True,  True,  True,  True,  True,  True,  True,  True,\n",
       "          True,  True,  True,  True,  True,  True,  True,  True,  True,  True,\n",
       "          True,  True,  True,  True,  True,  True,  True,  True,  True,  True,\n",
       "          True,  True,  True,  True,  True,  True,  True,  True,  True,  True,\n",
       "          True,  True,  True,  True,  True,  True,  True,  True,  True,  True,\n",
       "          True,  True,  True,  True,  True,  True,  True,  True,  True,  True,\n",
       "          True,  True,  True,  True,  True,  True,  True,  True,  True,  True,\n",
       "          True,  True,  True,  True,  True, False,  True,  True,  True,  True,\n",
       "          True,  True,  True,  True, False, False, False, False, False, False,\n",
       "         False, False, False, False, False, False, False, False, False, False,\n",
       "         False, False, False, False, False, False, False, False, False, False,\n",
       "         False, False, False,  True,  True,  True,  True,  True,  True,  True,\n",
       "          True,  True,  True,  True,  True,  True,  True,  True,  True,  True,\n",
       "          True,  True, False, False,  True,  True, False,  True,  True,  True,\n",
       "         False,  True,  True,  True,  True,  True,  True,  True,  True,  True,\n",
       "          True,  True,  True,  True,  True,  True,  True,  True,  True,  True,\n",
       "          True,  True,  True,  True,  True,  True,  True,  True,  True,  True,\n",
       "          True,  True,  True,  True,  True,  True,  True,  True,  True,  True,\n",
       "          True,  True,  True,  True,  True,  True,  True,  True,  True,  True,\n",
       "          True,  True,  True,  True,  True,  True,  True,  True,  True,  True,\n",
       "          True,  True,  True,  True,  True,  True,  True,  True,  True,  True,\n",
       "          True,  True,  True,  True,  True,  True,  True,  True,  True,  True,\n",
       "          True,  True,  True,  True,  True,  True,  True,  True,  True,  True,\n",
       "          True,  True,  True,  True,  True,  True,  True,  True,  True,  True,\n",
       "          True,  True,  True,  True,  True,  True,  True,  True,  True,  True,\n",
       "          True,  True,  True,  True,  True,  True,  True]),\n",
       " tensor([ True,  True,  True,  True,  True,  True,  True,  True,  True,  True,\n",
       "          True,  True,  True,  True,  True,  True,  True,  True,  True,  True,\n",
       "          True,  True,  True,  True,  True,  True,  True,  True,  True,  True,\n",
       "          True,  True,  True,  True,  True,  True,  True,  True,  True,  True,\n",
       "          True,  True,  True,  True,  True,  True,  True,  True,  True,  True,\n",
       "          True,  True,  True,  True,  True,  True,  True,  True,  True,  True,\n",
       "          True,  True,  True,  True,  True,  True,  True,  True,  True,  True,\n",
       "          True,  True,  True,  True,  True,  True,  True,  True,  True,  True,\n",
       "          True,  True,  True,  True,  True,  True,  True,  True,  True, False,\n",
       "         False, False, False, False, False, False, False,  True,  True,  True,\n",
       "          True,  True,  True,  True,  True,  True,  True,  True,  True,  True,\n",
       "          True,  True,  True,  True,  True,  True,  True,  True,  True,  True,\n",
       "          True,  True,  True,  True,  True,  True,  True,  True,  True,  True,\n",
       "          True,  True,  True,  True,  True,  True,  True,  True,  True,  True,\n",
       "          True,  True,  True,  True,  True,  True,  True,  True,  True,  True,\n",
       "          True,  True,  True,  True,  True,  True,  True,  True,  True,  True,\n",
       "          True,  True,  True,  True,  True,  True,  True,  True,  True,  True,\n",
       "          True,  True,  True,  True,  True, False,  True,  True,  True,  True,\n",
       "          True,  True,  True,  True, False, False, False, False, False, False,\n",
       "         False, False, False, False, False, False, False, False, False, False,\n",
       "         False, False, False, False, False, False, False, False, False, False,\n",
       "         False, False, False, False, False, False, False, False, False, False,\n",
       "         False, False, False, False, False, False, False, False, False, False,\n",
       "         False, False, False,  True,  True,  True,  True,  True,  True,  True,\n",
       "          True,  True,  True,  True, False,  True,  True,  True, False,  True,\n",
       "          True,  True, False, False,  True,  True, False,  True, False,  True,\n",
       "         False,  True,  True,  True, False,  True,  True,  True,  True,  True,\n",
       "          True,  True,  True,  True,  True,  True,  True,  True,  True,  True,\n",
       "          True,  True,  True,  True,  True,  True,  True,  True,  True,  True,\n",
       "          True,  True,  True,  True,  True,  True,  True,  True,  True,  True,\n",
       "          True,  True,  True,  True,  True,  True,  True,  True,  True,  True,\n",
       "          True,  True,  True,  True,  True,  True,  True,  True,  True,  True,\n",
       "          True,  True,  True,  True,  True,  True,  True,  True,  True,  True,\n",
       "          True,  True,  True,  True,  True, False,  True,  True,  True,  True,\n",
       "          True,  True,  True,  True,  True, False,  True,  True,  True,  True,\n",
       "          True,  True,  True,  True,  True,  True,  True,  True,  True,  True,\n",
       "          True,  True,  True,  True,  True,  True,  True,  True,  True,  True,\n",
       "          True,  True,  True,  True,  True,  True,  True]),\n",
       " tensor([[ 3.9311e-02, -2.5737e-03],\n",
       "         [ 0.0000e+00,  0.0000e+00],\n",
       "         [-7.1992e-01, -9.5448e+00],\n",
       "         ...,\n",
       "         [-3.1121e-03, -3.3798e-02],\n",
       "         [ 0.0000e+00,  0.0000e+00],\n",
       "         [ 0.0000e+00,  0.0000e+00]]),\n",
       " tensor([[ 37.1944,  65.4191],\n",
       "         [ 18.4129,  61.8146],\n",
       "         [  9.1658, -18.6044],\n",
       "         ...,\n",
       "         [ -8.6939,  21.3520],\n",
       "         [  6.1949,  37.0475],\n",
       "         [ 24.0171,  19.1892]]),\n",
       " array([2, 2, 2, 2, 2, 2, 2, 2, 2, 2, 2, 2, 2, 2, 2, 2, 2, 2, 2, 2, 2, 2,\n",
       "        2, 2, 2, 2, 2, 2, 2, 2, 2, 2, 2, 2, 2, 2, 2, 2, 2, 2, 2, 2, 2, 2,\n",
       "        2, 2, 2, 2, 2, 2, 2, 2, 2, 2, 2, 2, 2, 2, 2, 2, 2, 2, 2, 2])]"
      ]
     },
     "execution_count": 15,
     "metadata": {},
     "output_type": "execute_result"
    }
   ],
   "source": [
    "batch"
   ]
  },
  {
   "cell_type": "code",
   "execution_count": 16,
   "metadata": {},
   "outputs": [
    {
     "data": {
      "text/plain": [
       "(torch.Size([64, 1, 64, 64]),\n",
       " torch.Size([64, 100, 100]),\n",
       " torch.Size([1209]),\n",
       " [],\n",
       " torch.Size([64]),\n",
       " torch.Size([1209, 4, 2]),\n",
       " torch.Size([1209]),\n",
       " torch.Size([4143]),\n",
       " [],\n",
       " torch.Size([64]),\n",
       " torch.Size([377, 6, 2]),\n",
       " torch.Size([377]),\n",
       " torch.Size([2079]),\n",
       " [],\n",
       " torch.Size([377]),\n",
       " torch.Size([377]),\n",
       " [],\n",
       " torch.Size([1209, 2]),\n",
       " torch.Size([1209, 2]),\n",
       " (64,))"
      ]
     },
     "execution_count": 16,
     "metadata": {},
     "output_type": "execute_result"
    }
   ],
   "source": [
    "scene_images.shape, log_prior.shape, agent_masks.shape, \\\n",
    "[], \\\n",
    "num_src_trajs.shape, src_trajs.shape, src_lens.shape, src_len_idx.shape, \\\n",
    "[], \\\n",
    "num_tgt_trajs.shape, tgt_trajs.shape, tgt_lens.shape, tgt_len_idx.shape, \\\n",
    "[], \\\n",
    "tgt_two_mask.shape, tgt_three_mask.shape, \\\n",
    "[], \\\n",
    "decode_start_vel.shape, decode_start_pos.shape, scene_id.shape"
   ]
  },
  {
   "cell_type": "code",
   "execution_count": 23,
   "metadata": {},
   "outputs": [
    {
     "data": {
      "text/plain": [
       "(tensor([False,  True, False, False, False,  True,  True, False, False, False,\n",
       "         False,  True, False]),\n",
       " tensor([True, True, True, True, True, True, True, True, True, True, True, True,\n",
       "         True]))"
      ]
     },
     "execution_count": 23,
     "metadata": {},
     "output_type": "execute_result"
    }
   ],
   "source": [
    "agent_masks, tgt_three_mask"
   ]
  },
  {
   "cell_type": "code",
   "execution_count": 21,
   "metadata": {},
   "outputs": [
    {
     "data": {
      "text/plain": [
       "(tensor([[-4.2176e+00,  4.2957e+01],\n",
       "         [-7.4412e+00, -1.6852e+01],\n",
       "         [ 1.0850e+01,  9.1392e+00],\n",
       "         [-2.3491e+01,  1.7926e+02],\n",
       "         [ 1.2873e+01,  1.5196e+01],\n",
       "         [ 4.2430e+01, -1.4455e+02],\n",
       "         [-2.8455e+01,  6.4208e+01],\n",
       "         [-4.9863e+01, -4.1843e+01],\n",
       "         [ 3.5983e+01, -9.7177e+01],\n",
       "         [-9.8295e+00,  5.3299e+01],\n",
       "         [ 1.4666e+00,  7.1571e+01],\n",
       "         [ 5.6440e+01, -2.1375e+01],\n",
       "         [-1.3280e+02, -6.2926e+01],\n",
       "         [ 4.4694e+01, -2.1014e+01],\n",
       "         [ 1.4151e+01, -6.4199e+01],\n",
       "         [ 6.4781e+01, -1.2221e+01],\n",
       "         [ 1.2714e+01, -2.1339e+01],\n",
       "         [ 9.8394e+00, -2.7137e+01],\n",
       "         [ 2.9224e+00,  3.6831e+01],\n",
       "         [ 2.0939e+01, -2.4257e+01],\n",
       "         [ 5.2765e+01, -1.3324e+01],\n",
       "         [ 9.0684e+00, -3.9818e+01],\n",
       "         [ 1.6095e+01, -3.9559e+01],\n",
       "         [ 2.7942e+01, -3.1031e+01],\n",
       "         [ 1.5197e+01, -3.1447e+01],\n",
       "         [ 7.2186e+00,  4.3010e+01],\n",
       "         [-6.0123e+01,  4.4252e+01],\n",
       "         [-1.4658e+01,  3.4045e+01],\n",
       "         [ 4.7550e+01,  8.3755e+00],\n",
       "         [-5.0319e+01,  1.7115e+01],\n",
       "         [-9.2779e+00, -6.3046e+01],\n",
       "         [ 9.4839e+01, -7.6406e+00],\n",
       "         [-5.5610e+01,  3.8621e+01],\n",
       "         [ 3.7592e+01,  4.7735e+01],\n",
       "         [ 5.5003e+01, -3.5914e+00],\n",
       "         [-1.0257e+01,  2.8699e+01],\n",
       "         [-2.4849e+01, -1.1044e+02],\n",
       "         [ 3.7451e+01,  5.4623e+01],\n",
       "         [ 1.7161e+01,  1.7688e+01],\n",
       "         [ 2.0361e+01,  1.0609e+01],\n",
       "         [-5.1693e+01,  4.8253e+01],\n",
       "         [ 2.2356e+01,  2.2195e+01],\n",
       "         [ 3.3569e+01,  5.9596e+01],\n",
       "         [ 2.8610e+01,  3.6489e+00],\n",
       "         [-1.6513e+01, -5.3775e+01],\n",
       "         [ 2.4820e+01,  1.5061e+01],\n",
       "         [ 3.1890e+01,  2.4208e+01],\n",
       "         [-4.4572e+01,  4.9920e+01],\n",
       "         [-8.3240e+00, -4.7575e+01],\n",
       "         [ 4.2943e+00,  8.8801e+01],\n",
       "         [ 7.7898e-01,  7.4055e+01],\n",
       "         [ 8.9749e+00,  6.2869e+01],\n",
       "         [-4.5540e+00,  3.2217e+01],\n",
       "         [ 1.2344e+01,  7.0796e+01],\n",
       "         [-2.3218e+01, -4.8047e+01],\n",
       "         [ 9.5287e+00, -4.7476e+01],\n",
       "         [ 6.5904e+00,  2.0347e+01],\n",
       "         [ 3.3224e+00,  1.4217e+01],\n",
       "         [ 1.7654e+01, -2.2236e+01],\n",
       "         [-1.2145e-01,  2.1472e+00],\n",
       "         [ 2.1542e+00, -1.0244e+02],\n",
       "         [ 2.1385e+01, -3.0781e+01],\n",
       "         [ 2.3503e+01,  3.3777e+01],\n",
       "         [ 1.4988e+01,  3.1998e+01],\n",
       "         [ 4.0739e+01, -2.1095e-01],\n",
       "         [-1.0326e+00, -8.7381e+01],\n",
       "         [ 5.6353e+00, -9.3823e+01],\n",
       "         [ 1.1208e+01,  7.3275e+01],\n",
       "         [ 1.4378e+01, -5.0833e+01],\n",
       "         [ 3.4379e-01,  8.1243e+01],\n",
       "         [ 3.5022e+00,  8.6461e+01],\n",
       "         [ 1.2282e+01, -5.7769e+01]]),\n",
       " tensor([[[-4.6060e+00,  4.4884e+01],\n",
       "          [-4.9943e+00,  4.6810e+01],\n",
       "          [-5.3827e+00,  4.8736e+01],\n",
       "          [-5.7710e+00,  5.0663e+01],\n",
       "          [-6.1594e+00,  5.2589e+01],\n",
       "          [-6.5477e+00,  5.4515e+01]],\n",
       " \n",
       "         [[-5.9953e+00, -1.5619e+01],\n",
       "          [-4.6689e+00, -1.4258e+01],\n",
       "          [-3.4734e+00, -1.2781e+01],\n",
       "          [-2.4188e+00, -1.1200e+01],\n",
       "          [-1.5142e+00, -9.5288e+00],\n",
       "          [-7.4363e-01, -7.7911e+00]],\n",
       " \n",
       "         [[ 1.1252e+01,  7.1839e+00],\n",
       "          [ 1.1653e+01,  5.2286e+00],\n",
       "          [ 1.2055e+01,  3.2733e+00],\n",
       "          [ 1.2456e+01,  1.3180e+00],\n",
       "          [ 1.2857e+01, -6.3733e-01],\n",
       "          [ 1.3259e+01, -2.5926e+00]],\n",
       " \n",
       "         [[-2.3105e+01,  1.7731e+02],\n",
       "          [-2.2718e+01,  1.7536e+02],\n",
       "          [-2.2331e+01,  1.7341e+02],\n",
       "          [-2.1945e+01,  1.7146e+02],\n",
       "          [-2.1558e+01,  1.6951e+02],\n",
       "          [-2.1172e+01,  1.6756e+02]],\n",
       " \n",
       "         [[ 1.3249e+01,  1.3347e+01],\n",
       "          [ 1.3625e+01,  1.1497e+01],\n",
       "          [ 1.4002e+01,  9.6478e+00],\n",
       "          [ 1.4378e+01,  7.7983e+00],\n",
       "          [ 1.4754e+01,  5.9489e+00],\n",
       "          [ 1.5130e+01,  4.0994e+00]],\n",
       " \n",
       "         [[ 4.2831e+01, -1.4650e+02],\n",
       "          [ 4.3231e+01, -1.4845e+02],\n",
       "          [ 4.3632e+01, -1.5040e+02],\n",
       "          [ 4.4033e+01, -1.5235e+02],\n",
       "          [ 4.4434e+01, -1.5430e+02],\n",
       "          [ 4.4835e+01, -1.5625e+02]],\n",
       " \n",
       "         [[-2.8227e+01,  6.5858e+01],\n",
       "          [-2.7634e+01,  6.7414e+01],\n",
       "          [-2.6706e+01,  6.8797e+01],\n",
       "          [-2.5490e+01,  6.9935e+01],\n",
       "          [-2.4049e+01,  7.0771e+01],\n",
       "          [-2.2458e+01,  7.1262e+01]],\n",
       " \n",
       "         [[-5.1815e+01, -4.2266e+01],\n",
       "          [-5.3766e+01, -4.2692e+01],\n",
       "          [-5.5716e+01, -4.3122e+01],\n",
       "          [-5.7665e+01, -4.3556e+01],\n",
       "          [-5.9614e+01, -4.3993e+01],\n",
       "          [-6.1562e+01, -4.4430e+01]],\n",
       " \n",
       "         [[ 3.6378e+01, -9.9100e+01],\n",
       "          [ 3.6774e+01, -1.0102e+02],\n",
       "          [ 3.7169e+01, -1.0295e+02],\n",
       "          [ 3.7564e+01, -1.0487e+02],\n",
       "          [ 3.7959e+01, -1.0679e+02],\n",
       "          [ 3.8355e+01, -1.0872e+02]],\n",
       " \n",
       "         [[-1.0205e+01,  5.5173e+01],\n",
       "          [-1.0581e+01,  5.7047e+01],\n",
       "          [-1.0957e+01,  5.8921e+01],\n",
       "          [-1.1333e+01,  6.0795e+01],\n",
       "          [-1.1709e+01,  6.2669e+01],\n",
       "          [-1.2085e+01,  6.4543e+01]],\n",
       " \n",
       "         [[ 1.8557e+00,  6.9614e+01],\n",
       "          [ 2.2448e+00,  6.7656e+01],\n",
       "          [ 2.6339e+00,  6.5699e+01],\n",
       "          [ 3.0230e+00,  6.3741e+01],\n",
       "          [ 3.4121e+00,  6.1783e+01],\n",
       "          [ 3.8037e+00,  5.9826e+01]],\n",
       " \n",
       "         [[ 5.4504e+01, -2.1781e+01],\n",
       "          [ 5.2568e+01, -2.2186e+01],\n",
       "          [ 5.0632e+01, -2.2592e+01],\n",
       "          [ 4.8696e+01, -2.2997e+01],\n",
       "          [ 4.6760e+01, -2.3402e+01],\n",
       "          [ 4.4824e+01, -2.3808e+01]],\n",
       " \n",
       "         [[-1.3475e+02, -6.3318e+01],\n",
       "          [-1.3670e+02, -6.3701e+01],\n",
       "          [-1.3865e+02, -6.4076e+01],\n",
       "          [-1.4061e+02, -6.4441e+01],\n",
       "          [-1.4256e+02, -6.4798e+01],\n",
       "          [-1.4452e+02, -6.5145e+01]],\n",
       " \n",
       "         [[ 4.2766e+01, -2.1413e+01],\n",
       "          [ 4.0838e+01, -2.1812e+01],\n",
       "          [ 3.8910e+01, -2.2211e+01],\n",
       "          [ 3.6982e+01, -2.2611e+01],\n",
       "          [ 3.5054e+01, -2.3010e+01],\n",
       "          [ 3.3127e+01, -2.3410e+01]],\n",
       " \n",
       "         [[ 1.3757e+01, -6.2366e+01],\n",
       "          [ 1.3367e+01, -6.0531e+01],\n",
       "          [ 1.2980e+01, -5.8696e+01],\n",
       "          [ 1.2597e+01, -5.6860e+01],\n",
       "          [ 1.2218e+01, -5.5023e+01],\n",
       "          [ 1.1842e+01, -5.3185e+01]],\n",
       " \n",
       "         [[ 6.6652e+01, -1.1793e+01],\n",
       "          [ 6.8523e+01, -1.1365e+01],\n",
       "          [ 7.0395e+01, -1.0940e+01],\n",
       "          [ 7.2268e+01, -1.0518e+01],\n",
       "          [ 7.4141e+01, -1.0100e+01],\n",
       "          [ 7.6015e+01, -9.6860e+00]],\n",
       " \n",
       "         [[ 1.1272e+01, -2.0030e+01],\n",
       "          [ 9.9897e+00, -1.8563e+01],\n",
       "          [ 8.8852e+00, -1.6959e+01],\n",
       "          [ 7.9727e+00, -1.5238e+01],\n",
       "          [ 7.2644e+00, -1.3424e+01],\n",
       "          [ 6.7696e+00, -1.1540e+01]],\n",
       " \n",
       "         [[ 9.4578e+00, -2.5187e+01],\n",
       "          [ 9.0763e+00, -2.3237e+01],\n",
       "          [ 8.6947e+00, -2.1287e+01],\n",
       "          [ 8.3131e+00, -1.9337e+01],\n",
       "          [ 7.9315e+00, -1.7387e+01],\n",
       "          [ 7.5481e+00, -1.5437e+01]],\n",
       " \n",
       "         [[ 3.1514e+00,  3.4966e+01],\n",
       "          [ 3.3830e+00,  3.3101e+01],\n",
       "          [ 3.6279e+00,  3.1238e+01],\n",
       "          [ 3.8875e+00,  2.9377e+01],\n",
       "          [ 4.1616e+00,  2.7519e+01],\n",
       "          [ 4.4503e+00,  2.5662e+01]],\n",
       " \n",
       "         [[ 2.1334e+01, -2.6168e+01],\n",
       "          [ 2.1730e+01, -2.8078e+01],\n",
       "          [ 2.2125e+01, -2.9988e+01],\n",
       "          [ 2.2521e+01, -3.1899e+01],\n",
       "          [ 2.2916e+01, -3.3809e+01],\n",
       "          [ 2.3311e+01, -3.5720e+01]],\n",
       " \n",
       "         [[ 5.4580e+01, -1.3089e+01],\n",
       "          [ 5.6395e+01, -1.2855e+01],\n",
       "          [ 5.8211e+01, -1.2621e+01],\n",
       "          [ 5.8211e+01, -1.2621e+01],\n",
       "          [ 6.0172e+01, -1.2359e+01],\n",
       "          [ 6.2131e+01, -1.2082e+01]],\n",
       " \n",
       "         [[ 8.6706e+00, -3.7909e+01],\n",
       "          [ 8.2727e+00, -3.6000e+01],\n",
       "          [ 7.8749e+00, -3.4090e+01],\n",
       "          [ 7.4770e+00, -3.2181e+01],\n",
       "          [ 7.0792e+00, -3.0272e+01],\n",
       "          [ 6.6813e+00, -2.8362e+01]],\n",
       " \n",
       "         [[ 1.5971e+01, -3.7711e+01],\n",
       "          [ 1.5929e+01, -3.5859e+01],\n",
       "          [ 1.5970e+01, -3.4008e+01],\n",
       "          [ 1.6092e+01, -3.2160e+01],\n",
       "          [ 1.6092e+01, -3.2160e+01],\n",
       "          [ 1.6406e+01, -3.0291e+01]],\n",
       " \n",
       "         [[ 2.6935e+01, -3.2582e+01],\n",
       "          [ 2.6135e+01, -3.4250e+01],\n",
       "          [ 2.5555e+01, -3.6006e+01],\n",
       "          [ 2.5205e+01, -3.7822e+01],\n",
       "          [ 2.5205e+01, -3.7822e+01],\n",
       "          [ 2.5035e+01, -3.9710e+01]],\n",
       " \n",
       "         [[ 1.6600e+01, -3.2681e+01],\n",
       "          [ 1.6600e+01, -3.2681e+01],\n",
       "          [ 1.7923e+01, -3.4124e+01],\n",
       "          [ 1.9059e+01, -3.5719e+01],\n",
       "          [ 1.9988e+01, -3.7443e+01],\n",
       "          [ 2.0698e+01, -3.9268e+01]],\n",
       " \n",
       "         [[ 7.5961e+00,  4.1153e+01],\n",
       "          [ 7.9735e+00,  3.9295e+01],\n",
       "          [ 8.3509e+00,  3.7438e+01],\n",
       "          [ 8.7283e+00,  3.5580e+01],\n",
       "          [ 9.1058e+00,  3.3723e+01],\n",
       "          [ 9.4832e+00,  3.1865e+01]],\n",
       " \n",
       "         [[-6.1937e+01,  4.5008e+01],\n",
       "          [-6.3750e+01,  4.5764e+01],\n",
       "          [-6.5564e+01,  4.6520e+01],\n",
       "          [-6.7378e+01,  4.7276e+01],\n",
       "          [-6.9192e+01,  4.8032e+01],\n",
       "          [-7.1006e+01,  4.8788e+01]],\n",
       " \n",
       "         [[-1.2812e+01,  3.3283e+01],\n",
       "          [-1.0967e+01,  3.2522e+01],\n",
       "          [-9.1221e+00,  3.1760e+01],\n",
       "          [-7.2770e+00,  3.0999e+01],\n",
       "          [-5.4318e+00,  3.0238e+01],\n",
       "          [-3.5867e+00,  2.9476e+01]],\n",
       " \n",
       "         [[ 4.9391e+01,  7.6162e+00],\n",
       "          [ 5.1232e+01,  6.8570e+00],\n",
       "          [ 5.3073e+01,  6.0977e+00],\n",
       "          [ 5.4914e+01,  5.3384e+00],\n",
       "          [ 5.6755e+01,  4.5791e+00],\n",
       "          [ 5.8596e+01,  3.8198e+00]],\n",
       " \n",
       "         [[-5.2235e+01,  1.7470e+01],\n",
       "          [-5.4144e+01,  1.7854e+01],\n",
       "          [-5.4144e+01,  1.7854e+01],\n",
       "          [-5.6046e+01,  1.8266e+01],\n",
       "          [-5.7926e+01,  1.8765e+01],\n",
       "          [-5.9777e+01,  1.9364e+01]],\n",
       " \n",
       "         [[-1.0006e+01, -6.4906e+01],\n",
       "          [-1.0734e+01, -6.6765e+01],\n",
       "          [-1.1463e+01, -6.8625e+01],\n",
       "          [-1.2191e+01, -7.0484e+01],\n",
       "          [-1.2919e+01, -7.2344e+01],\n",
       "          [-1.3647e+01, -7.4203e+01]],\n",
       " \n",
       "         [[ 9.6654e+01, -8.3895e+00],\n",
       "          [ 9.8469e+01, -9.1383e+00],\n",
       "          [ 1.0028e+02, -9.8871e+00],\n",
       "          [ 1.0210e+02, -1.0636e+01],\n",
       "          [ 1.0392e+02, -1.1385e+01],\n",
       "          [ 1.0573e+02, -1.2134e+01]],\n",
       " \n",
       "         [[-5.7374e+01,  3.9358e+01],\n",
       "          [-5.9137e+01,  4.0095e+01],\n",
       "          [-6.0901e+01,  4.0832e+01],\n",
       "          [-6.2665e+01,  4.1569e+01],\n",
       "          [-6.4428e+01,  4.2306e+01],\n",
       "          [-6.6192e+01,  4.3043e+01]],\n",
       " \n",
       "         [[ 3.6845e+01,  4.5904e+01],\n",
       "          [ 3.6097e+01,  4.4073e+01],\n",
       "          [ 3.5350e+01,  4.2241e+01],\n",
       "          [ 3.4603e+01,  4.0410e+01],\n",
       "          [ 3.3855e+01,  3.8578e+01],\n",
       "          [ 3.3108e+01,  3.6747e+01]],\n",
       " \n",
       "         [[ 5.3201e+01, -2.8677e+00],\n",
       "          [ 5.1398e+01, -2.1440e+00],\n",
       "          [ 4.9595e+01, -1.4203e+00],\n",
       "          [ 4.7793e+01, -6.9655e-01],\n",
       "          [ 4.5990e+01,  2.7168e-02],\n",
       "          [ 4.4187e+01,  7.5088e-01]],\n",
       " \n",
       "         [[-8.4493e+00,  2.7945e+01],\n",
       "          [-6.6411e+00,  2.7191e+01],\n",
       "          [-4.8330e+00,  2.6437e+01],\n",
       "          [-3.0248e+00,  2.5683e+01],\n",
       "          [-1.2167e+00,  2.4929e+01],\n",
       "          [ 5.9147e-01,  2.4175e+01]],\n",
       " \n",
       "         [[-2.5591e+01, -1.1216e+02],\n",
       "          [-2.5591e+01, -1.1216e+02],\n",
       "          [-2.6367e+01, -1.1399e+02],\n",
       "          [-2.7135e+01, -1.1582e+02],\n",
       "          [-2.7894e+01, -1.1766e+02],\n",
       "          [-2.8645e+01, -1.1950e+02]],\n",
       " \n",
       "         [[ 3.6703e+01,  5.2802e+01],\n",
       "          [ 3.5954e+01,  5.0981e+01],\n",
       "          [ 3.5206e+01,  4.9160e+01],\n",
       "          [ 3.4458e+01,  4.7339e+01],\n",
       "          [ 3.3710e+01,  4.5518e+01],\n",
       "          [ 3.2962e+01,  4.3697e+01]],\n",
       " \n",
       "         [[ 1.5335e+01,  1.7011e+01],\n",
       "          [ 1.3443e+01,  1.6548e+01],\n",
       "          [ 1.1510e+01,  1.6307e+01],\n",
       "          [ 9.5625e+00,  1.6289e+01],\n",
       "          [ 7.6259e+00,  1.6496e+01],\n",
       "          [ 5.7258e+00,  1.6924e+01]],\n",
       " \n",
       "         [[ 1.8531e+01,  1.1384e+01],\n",
       "          [ 1.6702e+01,  1.2159e+01],\n",
       "          [ 1.4872e+01,  1.2934e+01],\n",
       "          [ 1.3043e+01,  1.3709e+01],\n",
       "          [ 1.1213e+01,  1.4484e+01],\n",
       "          [ 9.3834e+00,  1.5259e+01]],\n",
       " \n",
       "         [[-5.0045e+01,  4.7412e+01],\n",
       "          [-4.8397e+01,  4.6571e+01],\n",
       "          [-4.8397e+01,  4.6571e+01],\n",
       "          [-4.6723e+01,  4.5717e+01],\n",
       "          [-4.5049e+01,  4.4864e+01],\n",
       "          [-4.3375e+01,  4.4010e+01]],\n",
       " \n",
       "         [[ 2.4161e+01,  2.1453e+01],\n",
       "          [ 2.5965e+01,  2.0712e+01],\n",
       "          [ 2.7770e+01,  1.9971e+01],\n",
       "          [ 2.9574e+01,  1.9229e+01],\n",
       "          [ 3.1379e+01,  1.8488e+01],\n",
       "          [ 3.3183e+01,  1.7746e+01]],\n",
       " \n",
       "         [[ 3.3569e+01,  5.9596e+01],\n",
       "          [ 3.4450e+01,  6.1368e+01],\n",
       "          [ 3.5317e+01,  6.3147e+01],\n",
       "          [ 3.6169e+01,  6.4932e+01],\n",
       "          [ 3.7007e+01,  6.6725e+01],\n",
       "          [ 3.7831e+01,  6.8525e+01]],\n",
       " \n",
       "         [[ 2.6805e+01,  4.3876e+00],\n",
       "          [ 2.5000e+01,  5.1263e+00],\n",
       "          [ 2.3195e+01,  5.8650e+00],\n",
       "          [ 2.1390e+01,  6.6037e+00],\n",
       "          [ 1.9585e+01,  7.3424e+00],\n",
       "          [ 1.7780e+01,  8.0811e+00]],\n",
       " \n",
       "         [[-1.6000e+01, -5.2007e+01],\n",
       "          [-1.6000e+01, -5.2007e+01],\n",
       "          [-1.5455e+01, -5.0127e+01],\n",
       "          [-1.4909e+01, -4.8248e+01],\n",
       "          [-1.4364e+01, -4.6369e+01],\n",
       "          [-1.3803e+01, -4.4494e+01]],\n",
       " \n",
       "         [[ 2.3668e+01,  1.6565e+01],\n",
       "          [ 2.2763e+01,  1.8229e+01],\n",
       "          [ 2.2129e+01,  2.0015e+01],\n",
       "          [ 2.1781e+01,  2.1877e+01],\n",
       "          [ 2.1727e+01,  2.3771e+01],\n",
       "          [ 2.1969e+01,  2.5650e+01]],\n",
       " \n",
       "         [[ 3.2611e+01,  2.2505e+01],\n",
       "          [ 3.3545e+01,  2.0909e+01],\n",
       "          [ 3.4676e+01,  1.9445e+01],\n",
       "          [ 3.5986e+01,  1.8139e+01],\n",
       "          [ 3.5986e+01,  1.8139e+01],\n",
       "          [ 3.7454e+01,  1.6942e+01]],\n",
       " \n",
       "         [[-4.2821e+01,  4.9193e+01],\n",
       "          [-4.1070e+01,  4.8466e+01],\n",
       "          [-3.9320e+01,  4.7740e+01],\n",
       "          [-3.7569e+01,  4.7013e+01],\n",
       "          [-3.5819e+01,  4.6286e+01],\n",
       "          [-3.4068e+01,  4.5560e+01]],\n",
       " \n",
       "         [[-7.5560e+00, -4.5806e+01],\n",
       "          [-6.7920e+00, -4.4036e+01],\n",
       "          [-6.0321e+00, -4.2264e+01],\n",
       "          [-5.2763e+00, -4.0491e+01],\n",
       "          [-4.5245e+00, -3.8716e+01],\n",
       "          [-3.7768e+00, -3.6939e+01]],\n",
       " \n",
       "         [[ 4.3095e+00,  9.0786e+01],\n",
       "          [ 4.3247e+00,  9.2770e+01],\n",
       "          [ 4.3399e+00,  9.4755e+01],\n",
       "          [ 4.3551e+00,  9.6740e+01],\n",
       "          [ 4.3703e+00,  9.8724e+01],\n",
       "          [ 4.3855e+00,  1.0071e+02]],\n",
       " \n",
       "         [[ 7.9654e-01,  7.6045e+01],\n",
       "          [ 8.1411e-01,  7.8035e+01],\n",
       "          [ 8.3168e-01,  8.0025e+01],\n",
       "          [ 8.4925e-01,  8.2015e+01],\n",
       "          [ 8.6681e-01,  8.4005e+01],\n",
       "          [ 8.8438e-01,  8.5995e+01]],\n",
       " \n",
       "         [[ 8.9587e+00,  6.0889e+01],\n",
       "          [ 8.9424e+00,  5.8910e+01],\n",
       "          [ 8.9261e+00,  5.6931e+01],\n",
       "          [ 8.9099e+00,  5.4951e+01],\n",
       "          [ 8.8936e+00,  5.2972e+01],\n",
       "          [ 8.8773e+00,  5.0993e+01]],\n",
       " \n",
       "         [[-4.4901e+00,  3.4063e+01],\n",
       "          [-4.4231e+00,  3.5909e+01],\n",
       "          [-4.3646e+00,  3.7756e+01],\n",
       "          [-4.3646e+00,  3.7756e+01],\n",
       "          [-4.3511e+00,  3.9284e+01],\n",
       "          [-4.1659e+00,  4.0798e+01]],\n",
       " \n",
       "         [[ 1.2332e+01,  6.8872e+01],\n",
       "          [ 1.2321e+01,  6.6947e+01],\n",
       "          [ 1.2309e+01,  6.5023e+01],\n",
       "          [ 1.2297e+01,  6.3099e+01],\n",
       "          [ 1.2285e+01,  6.1175e+01],\n",
       "          [ 1.2273e+01,  5.9250e+01]],\n",
       " \n",
       "         [[-2.1345e+01, -4.7524e+01],\n",
       "          [-1.9474e+01, -4.6993e+01],\n",
       "          [-1.7606e+01, -4.6456e+01],\n",
       "          [-1.5739e+01, -4.5910e+01],\n",
       "          [-1.3874e+01, -4.5362e+01],\n",
       "          [-1.2008e+01, -4.4813e+01]],\n",
       " \n",
       "         [[ 9.4256e+00, -4.9428e+01],\n",
       "          [ 9.3275e+00, -5.1381e+01],\n",
       "          [ 9.2431e+00, -5.3335e+01],\n",
       "          [ 9.1724e+00, -5.5289e+01],\n",
       "          [ 9.1154e+00, -5.7243e+01],\n",
       "          [ 9.1154e+00, -5.7243e+01]],\n",
       " \n",
       "         [[ 6.5623e+00,  2.2339e+01],\n",
       "          [ 6.5298e+00,  2.4331e+01],\n",
       "          [ 6.4931e+00,  2.6322e+01],\n",
       "          [ 6.4521e+00,  2.8314e+01],\n",
       "          [ 6.4067e+00,  3.0305e+01],\n",
       "          [ 6.3571e+00,  3.2297e+01]],\n",
       " \n",
       "         [[ 3.3224e+00,  1.4217e+01],\n",
       "          [ 3.3242e+00,  1.6211e+01],\n",
       "          [ 3.3172e+00,  1.8206e+01],\n",
       "          [ 3.3013e+00,  2.0200e+01],\n",
       "          [ 3.2766e+00,  2.2195e+01],\n",
       "          [ 3.2430e+00,  2.4189e+01]],\n",
       " \n",
       "         [[ 1.7701e+01, -2.4132e+01],\n",
       "          [ 1.7743e+01, -2.6027e+01],\n",
       "          [ 1.7781e+01, -2.7923e+01],\n",
       "          [ 1.7815e+01, -2.9819e+01],\n",
       "          [ 1.7844e+01, -3.1715e+01],\n",
       "          [ 1.7868e+01, -3.3611e+01]],\n",
       " \n",
       "         [[-9.5112e-02,  4.1353e+00],\n",
       "          [-7.2722e-02,  6.1234e+00],\n",
       "          [-5.4285e-02,  8.1116e+00],\n",
       "          [-3.9801e-02,  1.0100e+01],\n",
       "          [-2.9271e-02,  1.2088e+01],\n",
       "          [-2.2693e-02,  1.4076e+01]],\n",
       " \n",
       "         [[ 2.1684e+00, -1.0044e+02],\n",
       "          [ 2.1827e+00, -9.8449e+01],\n",
       "          [ 2.1969e+00, -9.6454e+01],\n",
       "          [ 2.2112e+00, -9.4459e+01],\n",
       "          [ 2.2254e+00, -9.2464e+01],\n",
       "          [ 2.2397e+00, -9.0469e+01]],\n",
       " \n",
       "         [[ 2.1401e+01, -3.2741e+01],\n",
       "          [ 2.1411e+01, -3.4701e+01],\n",
       "          [ 2.1414e+01, -3.6661e+01],\n",
       "          [ 2.1411e+01, -3.8621e+01],\n",
       "          [ 2.1402e+01, -4.0581e+01],\n",
       "          [ 2.1389e+01, -4.2542e+01]],\n",
       " \n",
       "         [[ 2.3503e+01,  3.3777e+01],\n",
       "          [ 2.3632e+01,  3.1802e+01],\n",
       "          [ 2.3697e+01,  2.9825e+01],\n",
       "          [ 2.3638e+01,  2.7848e+01],\n",
       "          [ 2.3457e+01,  2.5878e+01],\n",
       "          [ 2.3152e+01,  2.3923e+01]],\n",
       " \n",
       "         [[ 1.5105e+01,  3.0130e+01],\n",
       "          [ 1.5223e+01,  2.8262e+01],\n",
       "          [ 1.5340e+01,  2.6394e+01],\n",
       "          [ 1.5457e+01,  2.4525e+01],\n",
       "          [ 1.5575e+01,  2.2657e+01],\n",
       "          [ 1.5692e+01,  2.0789e+01]],\n",
       " \n",
       "         [[ 4.2685e+01, -2.2170e-01],\n",
       "          [ 4.4631e+01, -2.2561e-01],\n",
       "          [ 4.6576e+01, -2.2775e-01],\n",
       "          [ 4.8522e+01, -2.2990e-01],\n",
       "          [ 5.0468e+01, -2.3204e-01],\n",
       "          [ 5.2414e+01, -2.3418e-01]],\n",
       " \n",
       "         [[-1.0218e+00, -8.5427e+01],\n",
       "          [-1.0110e+00, -8.3473e+01],\n",
       "          [-1.0003e+00, -8.1518e+01],\n",
       "          [-9.8947e-01, -7.9564e+01],\n",
       "          [-9.7869e-01, -7.7609e+01],\n",
       "          [-9.6790e-01, -7.5655e+01]],\n",
       " \n",
       "         [[ 5.6481e+00, -9.1856e+01],\n",
       "          [ 5.6608e+00, -8.9888e+01],\n",
       "          [ 5.6735e+00, -8.7920e+01],\n",
       "          [ 5.6862e+00, -8.5952e+01],\n",
       "          [ 5.6989e+00, -8.3985e+01],\n",
       "          [ 5.7117e+00, -8.2017e+01]],\n",
       " \n",
       "         [[ 1.2863e+01,  7.4165e+01],\n",
       "          [ 1.4631e+01,  7.4803e+01],\n",
       "          [ 1.6473e+01,  7.5175e+01],\n",
       "          [ 1.8350e+01,  7.5277e+01],\n",
       "          [ 2.0231e+01,  7.5283e+01],\n",
       "          [ 2.2112e+01,  7.5290e+01]],\n",
       " \n",
       "         [[ 1.4383e+01, -5.2751e+01],\n",
       "          [ 1.4388e+01, -5.4670e+01],\n",
       "          [ 1.4393e+01, -5.6588e+01],\n",
       "          [ 1.4398e+01, -5.8506e+01],\n",
       "          [ 1.4403e+01, -6.0425e+01],\n",
       "          [ 1.4403e+01, -6.2343e+01]],\n",
       " \n",
       "         [[ 1.9480e-01,  8.3187e+01],\n",
       "          [ 4.0262e-02,  8.5132e+01],\n",
       "          [-1.1984e-01,  8.7075e+01],\n",
       "          [-2.8533e-01,  8.9019e+01],\n",
       "          [-4.4909e-01,  9.0962e+01],\n",
       "          [-6.0729e-01,  9.2906e+01]],\n",
       " \n",
       "         [[ 3.3398e+00,  8.8431e+01],\n",
       "          [ 3.1774e+00,  9.0401e+01],\n",
       "          [ 3.0150e+00,  9.2371e+01],\n",
       "          [ 2.8526e+00,  9.4341e+01],\n",
       "          [ 2.6902e+00,  9.6311e+01],\n",
       "          [ 2.5278e+00,  9.8281e+01]],\n",
       " \n",
       "         [[ 1.2078e+01, -5.9689e+01],\n",
       "          [ 1.1874e+01, -6.1608e+01],\n",
       "          [ 1.1670e+01, -6.3527e+01],\n",
       "          [ 1.1466e+01, -6.5446e+01],\n",
       "          [ 1.1262e+01, -6.7365e+01],\n",
       "          [ 1.1067e+01, -6.9285e+01]]]))"
      ]
     },
     "execution_count": 21,
     "metadata": {},
     "output_type": "execute_result"
    }
   ],
   "source": [
    "decode_start_pos, tgt_trajs"
   ]
  },
  {
   "cell_type": "code",
   "execution_count": 22,
   "metadata": {},
   "outputs": [
    {
     "data": {
      "text/plain": [
       "(torch.Size([72, 2]), torch.Size([72, 6, 2]))"
      ]
     },
     "execution_count": 22,
     "metadata": {},
     "output_type": "execute_result"
    }
   ],
   "source": [
    "decode_start_pos.shape, tgt_trajs.shape"
   ]
  },
  {
   "cell_type": "code",
   "execution_count": null,
   "metadata": {},
   "outputs": [],
   "source": []
  },
  {
   "cell_type": "code",
   "execution_count": null,
   "metadata": {},
   "outputs": [],
   "source": []
  },
  {
   "cell_type": "code",
   "execution_count": null,
   "metadata": {},
   "outputs": [],
   "source": [
    "next("
   ]
  },
  {
   "cell_type": "code",
   "execution_count": 10,
   "metadata": {
    "scrolled": false
   },
   "outputs": [
    {
     "data": {
      "text/plain": [
       "(array([[[-3.83426345,  0.73691552],\n",
       "         [-3.83841132, -1.26139948],\n",
       "         [-3.84255919, -3.25971447],\n",
       "         [-3.84670706, -5.25802946]],\n",
       " \n",
       "        [[-0.11123935, -7.23653928],\n",
       "         [-0.13309232, -5.24236631],\n",
       "         [-0.1549453 , -3.24819333],\n",
       "         [-0.17679828, -1.25402035]]]),\n",
       " array([4, 4]),\n",
       " array([[[ -3.83542056, -13.25127792],\n",
       "         [ -3.82265043, -15.24955608],\n",
       "         [ -3.80588712, -17.24780473],\n",
       "         [ -3.78513071, -19.2460159 ],\n",
       "         [ -3.76038127, -21.24418159],\n",
       "         [ -3.73163891, -23.24229384]],\n",
       " \n",
       "        [[ -0.26421018,   6.72267155],\n",
       "         [ -0.28606315,   8.71684452],\n",
       "         [ -0.30791613,  10.7110175 ],\n",
       "         [ -0.32976911,  12.70519048],\n",
       "         [ -0.35179389,  14.69936154],\n",
       "         [ -0.37680433,  16.69349708]]]),\n",
       " array([6, 6]),\n",
       " array([ True,  True]),\n",
       " array([[ 0.01755381, -3.99659938],\n",
       "        [-0.04370595,  3.98834595]]),\n",
       " array([[ -3.84419746, -11.25297822],\n",
       "        [ -0.2423572 ,   4.72849857]]),\n",
       " tensor([[[-0.0543, -0.0909, -0.1275,  ..., -0.8439, -0.8439, -0.8439],\n",
       "          [-0.0615, -0.0981, -0.1347,  ..., -0.8439, -0.8439, -0.8439],\n",
       "          [-0.0687, -0.1053, -0.1419,  ..., -0.8439, -0.8439, -0.8439],\n",
       "          ...,\n",
       "          [-0.1119, -0.1485, -0.1851,  ..., -0.8073, -0.7707, -0.7341],\n",
       "          [-0.1119, -0.1485, -0.1851,  ..., -0.8073, -0.7707, -0.7341],\n",
       "          [-0.1119, -0.1485, -0.1851,  ..., -0.8073, -0.7707, -0.7341]]]),\n",
       " tensor([[-9.8743, -9.8575, -9.8341,  ..., -9.0847, -9.0847, -9.0847],\n",
       "         [-9.8710, -9.8542, -9.8308,  ..., -9.0847, -9.0847, -9.0847],\n",
       "         [-9.8664, -9.8496, -9.8262,  ..., -9.0847, -9.0847, -9.0847],\n",
       "         ...,\n",
       "         [-9.8167, -9.7999, -9.7764,  ..., -9.1542, -9.1777, -9.1945],\n",
       "         [-9.8167, -9.7999, -9.7764,  ..., -9.1542, -9.1777, -9.1945],\n",
       "         [-9.8167, -9.7999, -9.7764,  ..., -9.1542, -9.1777, -9.1945]]),\n",
       " 2)"
      ]
     },
     "execution_count": 10,
     "metadata": {},
     "output_type": "execute_result"
    }
   ],
   "source": [
    "train_dataset[138]"
   ]
  },
  {
   "cell_type": "markdown",
   "metadata": {},
   "source": [
    "0 past_agents_traj, \n",
    "1 past_agents_traj_len, \n",
    "\n",
    "2 future_agents_traj, \\\n",
    "3 future_agents_traj_len, \n",
    "\n",
    "4 future_agent_masks, \n",
    "5 decode_start_vel, \\\n",
    "6 decode_start_pos, \n",
    "\n",
    "7 map_image, \n",
    "8 prior, \n",
    "9 scene_id"
   ]
  },
  {
   "cell_type": "code",
   "execution_count": 46,
   "metadata": {},
   "outputs": [
    {
     "name": "stdout",
     "output_type": "stream",
     "text": [
      "(27, 4, 2)\n",
      "(27,)\n",
      "(22, 6, 2)\n",
      "(22,)\n",
      "(27,)\n",
      "(27, 2)\n",
      "(27, 2)\n",
      "torch.Size([1, 64, 64])\n",
      "torch.Size([100, 100])\n",
      "4\n"
     ]
    }
   ],
   "source": [
    "asdf = dataset_cmu[50]\n",
    "\n",
    "for a in asdf:\n",
    "    try:\n",
    "        print(a.shape)\n",
    "    except:\n",
    "        print(len(a))"
   ]
  },
  {
   "cell_type": "code",
   "execution_count": 43,
   "metadata": {
    "scrolled": true
   },
   "outputs": [
    {
     "data": {
      "text/plain": [
       "(array([[[-17.212294 ,  10.522054 ],\n",
       "         [-11.018699 ,   6.8855085],\n",
       "         [ -5.339938 ,   3.4142678],\n",
       "         [  0.       ,   0.       ]],\n",
       " \n",
       "        [[-23.673521 , -12.057441 ],\n",
       "         [-25.650143 , -14.414497 ],\n",
       "         [-27.404278 , -16.513447 ],\n",
       "         [-28.993446 , -18.49808  ]],\n",
       " \n",
       "        [[-38.889526 ,  17.883362 ],\n",
       "         [-35.51801  ,  15.914632 ],\n",
       "         [-32.836    ,  13.825078 ],\n",
       "         [-30.639946 ,  11.573961 ]],\n",
       " \n",
       "        [[-31.395866 , -17.83871  ],\n",
       "         [-33.179638 , -19.611229 ],\n",
       "         [-33.937466 , -20.35717  ],\n",
       "         [-33.975433 , -20.379978 ]],\n",
       " \n",
       "        [[-25.042238 ,  -7.5494404],\n",
       "         [-25.809704 ,  -9.508333 ],\n",
       "         [-26.62214  , -11.0925865],\n",
       "         [-27.436218 , -12.46697  ]],\n",
       " \n",
       "        [[ -4.93795  ,  -8.731918 ],\n",
       "         [ -4.9078426,  -8.765388 ],\n",
       "         [ -4.8556056,  -8.771932 ],\n",
       "         [ -4.846476 ,  -8.776987 ]],\n",
       " \n",
       "        [[-16.416359 , -18.555595 ],\n",
       "         [-16.29768  , -18.59413  ],\n",
       "         [-16.19556  , -18.61632  ],\n",
       "         [-16.138954 , -18.582378 ]],\n",
       " \n",
       "        [[-36.572342 , -10.688256 ],\n",
       "         [-36.444603 , -10.722385 ],\n",
       "         [-36.340252 , -10.777938 ],\n",
       "         [-36.446575 , -10.728036 ]],\n",
       " \n",
       "        [[-34.27429  , -12.5890045],\n",
       "         [-34.271164 , -12.612896 ],\n",
       "         [-34.30074  , -12.661219 ],\n",
       "         [-34.280735 , -12.614785 ]],\n",
       " \n",
       "        [[-37.692497 , -17.09411  ],\n",
       "         [-37.60535  , -17.120535 ],\n",
       "         [-37.574512 , -17.13071  ],\n",
       "         [-37.704613 , -17.096834 ]],\n",
       " \n",
       "        [[-41.157475 , -16.029266 ],\n",
       "         [-41.157475 , -16.029266 ],\n",
       "         [-41.157475 , -16.029266 ],\n",
       "         [-41.157475 , -16.029266 ]],\n",
       " \n",
       "        [[ -5.454585 , -21.365454 ],\n",
       "         [ -5.7445035, -21.243244 ],\n",
       "         [ -5.9114833, -21.129831 ],\n",
       "         [ -5.956604 , -21.075846 ]],\n",
       " \n",
       "        [[-44.88356  ,  -5.53604  ],\n",
       "         [-45.0947   ,  -4.055867 ],\n",
       "         [-45.47801  ,  -2.8052197],\n",
       "         [-45.963997 ,  -1.7244889]],\n",
       " \n",
       "        [[ -8.560931 , -10.993834 ],\n",
       "         [ -8.600621 , -10.971671 ],\n",
       "         [ -8.627323 , -10.96059  ],\n",
       "         [ -8.614217 , -10.977113 ]],\n",
       " \n",
       "        [[  2.6813865, -13.165814 ],\n",
       "         [  2.8761704, -13.190634 ],\n",
       "         [  2.9582677, -13.20288  ],\n",
       "         [  2.8319314, -13.211526 ]],\n",
       " \n",
       "        [[ 17.234037 , -23.3704   ],\n",
       "         [ 17.21332  , -23.385977 ],\n",
       "         [ 17.243456 , -23.326097 ],\n",
       "         [ 17.267315 , -23.243635 ]],\n",
       " \n",
       "        [[  5.137415 , -19.135048 ],\n",
       "         [  5.111269 , -19.083336 ],\n",
       "         [  5.0886416, -19.038914 ],\n",
       "         [  5.070687 , -19.005373 ]],\n",
       " \n",
       "        [[-50.76178  , -29.012676 ],\n",
       "         [-49.62047  , -28.35902  ],\n",
       "         [-48.685375 , -27.845232 ],\n",
       "         [-47.852345 , -27.480246 ]],\n",
       " \n",
       "        [[  8.484458 , -17.410675 ],\n",
       "         [  8.629409 , -17.460583 ],\n",
       "         [  8.698784 , -17.484781 ],\n",
       "         [  8.61711  , -17.461437 ]],\n",
       " \n",
       "        [[-53.705006 , -34.16342  ],\n",
       "         [-53.826397 , -34.06581  ],\n",
       "         [-53.92954  , -33.98256  ],\n",
       "         [-54.004295 , -33.922432 ]],\n",
       " \n",
       "        [[  3.473512 , -26.732607 ],\n",
       "         [  3.1607406, -26.45321  ],\n",
       "         [  2.9153557, -26.232769 ],\n",
       "         [  2.7346575, -26.061571 ]],\n",
       " \n",
       "        [[ 23.947382 , -28.186935 ],\n",
       "         [ 23.80409  , -28.108908 ],\n",
       "         [ 23.910307 , -28.088287 ],\n",
       "         [ 23.920895 , -28.032015 ]],\n",
       " \n",
       "        [[ 47.357185 , -46.32211  ],\n",
       "         [ 46.799664 , -45.52478  ],\n",
       "         [ 46.102    , -44.8834   ],\n",
       "         [  0.       ,   0.       ]],\n",
       " \n",
       "        [[ -2.076741 , -14.235887 ],\n",
       "         [ -1.9147446, -14.408262 ],\n",
       "         [ -1.8128468, -14.415052 ],\n",
       "         [  0.       ,   0.       ]],\n",
       " \n",
       "        [[ 43.311886 , -51.528027 ],\n",
       "         [ 40.989708 , -49.724075 ],\n",
       "         [ 38.596584 , -47.865936 ],\n",
       "         [  0.       ,   0.       ]],\n",
       " \n",
       "        [[ 35.025253 , -37.21682  ],\n",
       "         [ 34.752693 , -36.989563 ],\n",
       "         [  0.       ,   0.       ],\n",
       "         [  0.       ,   0.       ]],\n",
       " \n",
       "        [[ 18.604208 , -28.457083 ],\n",
       "         [ 18.700933 , -28.500889 ],\n",
       "         [  0.       ,   0.       ],\n",
       "         [  0.       ,   0.       ]]], dtype=float32),\n",
       " array([4, 4, 4, 4, 4, 4, 4, 4, 4, 4, 4, 4, 4, 4, 4, 4, 4, 4, 4, 4, 4, 4,\n",
       "        3, 3, 3, 2, 2]),\n",
       " array([[[  5.9103966,  -3.5068033],\n",
       "         [ 11.625872 ,  -7.064    ],\n",
       "         [ 16.989826 , -10.569737 ],\n",
       "         [ 22.059284 , -13.966536 ],\n",
       "         [ 26.921488 , -17.158321 ],\n",
       "         [ 31.91417  , -20.770357 ]],\n",
       " \n",
       "        [[-28.36468  ,   9.001487 ],\n",
       "         [-26.368498 ,   6.3292365],\n",
       "         [-24.718803 ,   3.666847 ],\n",
       "         [-23.388542 ,   1.0736306],\n",
       "         [-22.357643 ,  -1.4082336],\n",
       "         [-21.400229 ,  -4.251639 ]],\n",
       " \n",
       "        [[ -4.7454753,  -8.746298 ],\n",
       "         [ -4.712511 ,  -8.693817 ],\n",
       "         [ -4.679231 ,  -8.656425 ],\n",
       "         [ -4.601574 ,  -8.674248 ],\n",
       "         [ -4.611285 ,  -8.714701 ],\n",
       "         [ -4.425783 ,  -8.703033 ]],\n",
       " \n",
       "        [[-16.222887 , -18.549362 ],\n",
       "         [-16.325613 , -18.466978 ],\n",
       "         [-16.465714 , -18.437056 ],\n",
       "         [-16.552616 , -18.436676 ],\n",
       "         [-16.449926 , -18.47888  ],\n",
       "         [-16.652122 , -18.464756 ]],\n",
       " \n",
       "        [[-36.31012  , -10.741714 ],\n",
       "         [-36.276325 , -10.711768 ],\n",
       "         [-36.26441  , -10.705676 ],\n",
       "         [-36.2638   , -10.702554 ],\n",
       "         [-36.268845 , -10.700881 ],\n",
       "         [  0.       ,   0.       ]],\n",
       " \n",
       "        [[-34.13989  , -12.580205 ],\n",
       "         [-33.943207 , -12.447321 ],\n",
       "         [-33.851204 , -12.365763 ],\n",
       "         [-33.903316 , -12.431189 ],\n",
       "         [-33.98944  , -12.528076 ],\n",
       "         [  0.       ,   0.       ]],\n",
       " \n",
       "        [[-37.595764 , -17.144695 ],\n",
       "         [-37.568153 , -17.1305   ],\n",
       "         [-37.557594 , -17.135328 ],\n",
       "         [-37.553474 , -17.14139  ],\n",
       "         [-37.552574 , -17.148083 ],\n",
       "         [  0.       ,   0.       ]],\n",
       " \n",
       "        [[ -6.2449937, -20.919006 ],\n",
       "         [ -6.4144673, -20.869442 ],\n",
       "         [ -6.5238523, -20.81372  ],\n",
       "         [ -6.611683 , -20.764362 ],\n",
       "         [ -6.6888137, -20.718067 ],\n",
       "         [  0.       ,   0.       ]],\n",
       " \n",
       "        [[-46.527363 ,  -0.5610027],\n",
       "         [-47.02408  ,   0.5486005],\n",
       "         [-47.51698  ,   1.633161 ],\n",
       "         [-48.007706 ,   2.7007194],\n",
       "         [-48.497913 ,   3.7593162],\n",
       "         [  0.       ,   0.       ]],\n",
       " \n",
       "        [[ -8.5983925, -10.919891 ],\n",
       "         [ -8.559479 , -10.870797 ],\n",
       "         [ -8.558245 , -10.865491 ],\n",
       "         [ -8.564305 , -10.871184 ],\n",
       "         [ -8.573995 , -10.882396 ],\n",
       "         [  0.       ,   0.       ]],\n",
       " \n",
       "        [[  3.087253 , -13.230496 ],\n",
       "         [  3.1762667, -13.19853  ],\n",
       "         [  3.171227 , -13.144239 ],\n",
       "         [  3.1939752, -13.149612 ],\n",
       "         [  3.1859705, -13.186833 ],\n",
       "         [  3.0323627, -13.006894 ]],\n",
       " \n",
       "        [[ 17.284945 , -23.186396 ],\n",
       "         [ 17.236513 , -23.068268 ],\n",
       "         [ 17.187212 , -22.999163 ],\n",
       "         [ 17.087198 , -22.959112 ],\n",
       "         [ 17.154922 , -23.029541 ],\n",
       "         [ 17.010834 , -22.938183 ]],\n",
       " \n",
       "        [[  5.0541887, -18.979967 ],\n",
       "         [  5.028711 , -18.960482 ],\n",
       "         [  5.0178924, -18.971626 ],\n",
       "         [  5.0151587, -18.9775   ],\n",
       "         [  5.0268226, -18.936913 ],\n",
       "         [  0.       ,   0.       ]],\n",
       " \n",
       "        [[  8.975627 , -17.612728 ],\n",
       "         [  9.257496 , -17.814047 ],\n",
       "         [  9.360153 , -17.879711 ],\n",
       "         [  9.391604 , -17.843369 ],\n",
       "         [  9.354381 , -17.78852  ],\n",
       "         [  9.46116  , -17.77562  ]],\n",
       " \n",
       "        [[-54.05693  , -33.880123 ],\n",
       "         [-54.069603 , -33.86994  ],\n",
       "         [-54.076794 , -33.864162 ],\n",
       "         [-54.075066 , -33.865555 ],\n",
       "         [-54.068893 , -33.870518 ],\n",
       "         [  0.       ,   0.       ]],\n",
       " \n",
       "        [[  2.2856147, -25.656164 ],\n",
       "         [  1.8667312, -25.241959 ],\n",
       "         [  1.5750628, -24.956036 ],\n",
       "         [  1.4153944, -24.836275 ],\n",
       "         [  1.3417618, -24.794603 ],\n",
       "         [  0.       ,   0.       ]],\n",
       " \n",
       "        [[ 23.926104 , -27.971413 ],\n",
       "         [ 23.854046 , -27.820408 ],\n",
       "         [ 23.888517 , -27.86997  ],\n",
       "         [ 23.905787 , -27.892525 ],\n",
       "         [ 23.98624  , -27.957235 ],\n",
       "         [ 24.121567 , -28.062454 ]],\n",
       " \n",
       "        [[ 45.366997 , -44.302742 ],\n",
       "         [ 44.59493  , -43.70498  ],\n",
       "         [ 43.862637 , -43.2058   ],\n",
       "         [ 43.25228  , -42.75977  ],\n",
       "         [ 42.73125  , -42.374825 ],\n",
       "         [ 42.053833 , -41.880703 ]],\n",
       " \n",
       "        [[ -1.7462215, -14.385082 ],\n",
       "         [ -1.7281783, -14.4049   ],\n",
       "         [ -1.7186953, -14.412972 ],\n",
       "         [ -1.7167625, -14.415294 ],\n",
       "         [ -1.7376128, -14.407256 ],\n",
       "         [  0.       ,   0.       ]],\n",
       " \n",
       "        [[ 36.154087 , -45.969173 ],\n",
       "         [ 33.64345  , -44.004665 ],\n",
       "         [ 31.158468 , -42.089397 ],\n",
       "         [ 28.749765 , -40.237106 ],\n",
       "         [ 26.433662 , -38.45114  ],\n",
       "         [ 23.947144 , -36.540573 ]],\n",
       " \n",
       "        [[ 34.42919  , -36.721268 ],\n",
       "         [ 34.02929  , -36.389973 ],\n",
       "         [ 33.627308 , -36.063232 ],\n",
       "         [ 33.29801  , -35.79431  ],\n",
       "         [ 33.03773  , -35.581825 ],\n",
       "         [ 32.63124  , -35.251114 ]],\n",
       " \n",
       "        [[ 18.807985 , -28.549097 ],\n",
       "         [ 19.006908 , -28.64147  ],\n",
       "         [ 19.136139 , -28.697435 ],\n",
       "         [ 19.155787 , -28.691092 ],\n",
       "         [ 19.056171 , -28.641676 ],\n",
       "         [ 19.212484 , -28.67154  ]]], dtype=float32),\n",
       " array([6, 6, 6, 6, 5, 5, 5, 5, 5, 5, 6, 6, 5, 6, 5, 5, 6, 6, 5, 6, 6, 6]),\n",
       " array([ True, False,  True, False, False,  True,  True,  True,  True,\n",
       "         True, False,  True,  True,  True,  True,  True,  True, False,\n",
       "         True,  True,  True,  True,  True,  True,  True,  True,  True]),\n",
       " array([[ 5.33993816e+00, -3.41426778e+00],\n",
       "        [-1.58916855e+00, -1.98463249e+00],\n",
       "        [ 2.19605255e+00, -2.25111675e+00],\n",
       "        [-3.79676819e-02, -2.28080750e-02],\n",
       "        [-8.14077377e-01, -1.37438393e+00],\n",
       "        [ 9.12952423e-03, -5.05542755e-03],\n",
       "        [ 5.66062927e-02,  3.39412689e-02],\n",
       "        [-1.06323242e-01,  4.99019623e-02],\n",
       "        [ 2.00042725e-02,  4.64334488e-02],\n",
       "        [-1.30100250e-01,  3.38764191e-02],\n",
       "        [ 0.00000000e+00,  0.00000000e+00],\n",
       "        [-4.51207161e-02,  5.39855957e-02],\n",
       "        [-4.85988617e-01,  1.08073080e+00],\n",
       "        [ 1.31063461e-02, -1.65224075e-02],\n",
       "        [-1.26336336e-01, -8.64601135e-03],\n",
       "        [ 2.38590240e-02,  8.24623108e-02],\n",
       "        [-1.79548264e-02,  3.35407257e-02],\n",
       "        [ 8.33030701e-01,  3.64986420e-01],\n",
       "        [-8.16736221e-02,  2.33440399e-02],\n",
       "        [-7.47566223e-02,  6.01272583e-02],\n",
       "        [-1.80698156e-01,  1.71197891e-01],\n",
       "        [ 1.05876923e-02,  5.62725067e-02],\n",
       "        [-6.97662354e-01,  6.41380310e-01],\n",
       "        [ 1.01897836e-01, -6.79016113e-03],\n",
       "        [-2.39312363e+00,  1.85813904e+00],\n",
       "        [-2.72560120e-01,  2.27256775e-01],\n",
       "        [ 9.67254639e-02, -4.38060760e-02]], dtype=float32),\n",
       " array([[  0.       ,   0.       ],\n",
       "        [-28.993446 , -18.49808  ],\n",
       "        [-30.639946 ,  11.573961 ],\n",
       "        [-33.975433 , -20.379978 ],\n",
       "        [-27.436218 , -12.46697  ],\n",
       "        [ -4.846476 ,  -8.776987 ],\n",
       "        [-16.138954 , -18.582378 ],\n",
       "        [-36.446575 , -10.728036 ],\n",
       "        [-34.280735 , -12.614785 ],\n",
       "        [-37.704613 , -17.096834 ],\n",
       "        [-41.157475 , -16.029266 ],\n",
       "        [ -5.956604 , -21.075846 ],\n",
       "        [-45.963997 ,  -1.7244889],\n",
       "        [ -8.614217 , -10.977113 ],\n",
       "        [  2.8319314, -13.211526 ],\n",
       "        [ 17.267315 , -23.243635 ],\n",
       "        [  5.070687 , -19.005373 ],\n",
       "        [-47.852345 , -27.480246 ],\n",
       "        [  8.61711  , -17.461437 ],\n",
       "        [-54.004295 , -33.922432 ],\n",
       "        [  2.7346575, -26.061571 ],\n",
       "        [ 23.920895 , -28.032015 ],\n",
       "        [ 46.102    , -44.8834   ],\n",
       "        [ -1.8128468, -14.415052 ],\n",
       "        [ 38.596584 , -47.865936 ],\n",
       "        [ 34.752693 , -36.989563 ],\n",
       "        [ 18.700933 , -28.500889 ]], dtype=float32),\n",
       " tensor([[[-0.4475, -0.4135, -0.3477,  ..., -1.2889, -1.2266, -1.2012],\n",
       "          [-0.5742, -0.5263, -0.4423,  ..., -1.1939, -1.1112, -1.0734],\n",
       "          [-0.6984, -0.6230, -0.5330,  ..., -1.1005, -1.0133, -0.9462],\n",
       "          ...,\n",
       "          [ 0.4645,  0.4685,  0.4845,  ...,  3.8766,  3.9452,  4.0161],\n",
       "          [ 0.5926,  0.5962,  0.6108,  ...,  3.9861,  4.0531,  4.1225],\n",
       "          [ 0.7207,  0.7240,  0.7374,  ...,  4.0962,  4.1620,  4.2299]]]),\n",
       " tensor([[ -9.1158,  -9.1280,  -9.1549,  ...,  -8.6983,  -8.6983,  -8.6983],\n",
       "         [ -9.0341,  -9.0491,  -9.0816,  ...,  -8.6983,  -8.6983,  -8.6983],\n",
       "         [ -8.9525,  -8.9720,  -9.0125,  ...,  -8.6983,  -8.6983,  -8.6983],\n",
       "         ...,\n",
       "         [-10.1220, -10.1224, -10.1266,  ..., -13.5777, -13.6218, -13.6668],\n",
       "         [-10.2040, -10.2044, -10.2083,  ..., -13.6473, -13.6908, -13.7352],\n",
       "         [-10.2860, -10.2864, -10.2901,  ..., -13.7173, -13.7602, -13.8040]]),\n",
       " ['train', 'train1', '89f20737ec344aa48b543a9e005a38ca', '020'])"
      ]
     },
     "execution_count": 43,
     "metadata": {},
     "output_type": "execute_result"
    }
   ],
   "source": [
    "dataset_cmu[50]"
   ]
  },
  {
   "cell_type": "code",
   "execution_count": null,
   "metadata": {},
   "outputs": [],
   "source": []
  },
  {
   "cell_type": "code",
   "execution_count": null,
   "metadata": {},
   "outputs": [],
   "source": []
  },
  {
   "cell_type": "code",
   "execution_count": null,
   "metadata": {},
   "outputs": [],
   "source": []
  },
  {
   "cell_type": "code",
   "execution_count": null,
   "metadata": {},
   "outputs": [],
   "source": []
  },
  {
   "cell_type": "code",
   "execution_count": null,
   "metadata": {},
   "outputs": [],
   "source": []
  },
  {
   "cell_type": "code",
   "execution_count": null,
   "metadata": {},
   "outputs": [],
   "source": []
  },
  {
   "cell_type": "code",
   "execution_count": null,
   "metadata": {},
   "outputs": [],
   "source": []
  },
  {
   "cell_type": "code",
   "execution_count": 4,
   "metadata": {},
   "outputs": [],
   "source": [
    "num_epochs"
   ]
  },
  {
   "cell_type": "markdown",
   "metadata": {},
   "source": [
    "### 2) 커스텀 데이터 형식"
   ]
  },
  {
   "cell_type": "markdown",
   "metadata": {},
   "source": [
    "#### 저장"
   ]
  },
  {
   "cell_type": "code",
   "execution_count": 5,
   "metadata": {},
   "outputs": [],
   "source": [
    "import matplotlib.pyplot as plt\n",
    "import numpy as np\n",
    "import torch\n",
    "import torch.nn.functional as F\n",
    "from torch.utils.data import Dataset\n",
    "from torch.utils.data import DataLoader\n",
    "import cv2\n",
    "\n",
    "import os\n",
    "import pickle\n",
    "from tqdm import tqdm"
   ]
  },
  {
   "cell_type": "code",
   "execution_count": 6,
   "metadata": {},
   "outputs": [
    {
     "name": "stdout",
     "output_type": "stream",
     "text": [
      "======\n",
      "Loading NuScenes tables for version v1.0-mini...\n",
      "23 category,\n",
      "8 attribute,\n",
      "4 visibility,\n",
      "911 instance,\n",
      "12 sensor,\n",
      "120 calibrated_sensor,\n",
      "31206 ego_pose,\n",
      "8 log,\n",
      "10 scene,\n",
      "404 sample,\n",
      "31206 sample_data,\n",
      "18538 sample_annotation,\n",
      "4 map,\n",
      "Done loading in 0.314 seconds.\n",
      "======\n",
      "Reverse indexing ...\n",
      "Done reverse indexing in 0.1 seconds.\n",
      "======\n",
      "num_samples: 404\n"
     ]
    },
    {
     "name": "stderr",
     "output_type": "stream",
     "text": [
      "/home/q10/.pyenv/versions/intelpro/lib/python3.7/site-packages/numpy/core/_asarray.py:83: VisibleDeprecationWarning: Creating an ndarray from ragged nested sequences (which is a list-or-tuple of lists-or-tuples-or ndarrays with different lengths or shapes) is deprecated. If you meant to do this, you must specify 'dtype=object' when creating the ndarray\n",
      "  return array(a, dtype, copy=False, order=order)\n"
     ]
    }
   ],
   "source": [
    "pkyLoader = pky.CustomLoader()num_epochs"
   ]
  },
  {
   "cell_type": "code",
   "execution_count": 9,
   "metadata": {},
   "outputs": [
    {
     "name": "stderr",
     "output_type": "stream",
     "text": [
      "100%|██████████| 404/404 [36:44<00:00,  5.46s/it]\n"
     ]
    }
   ],
   "source": [
    "min_angle = None\n",
    "max_angle = None\n",
    "\n",
    "savedir = '../generated/gen_{}_{}'.format(min_angle, max_angle)\n",
    "fakedir = savedir + '/fake'\n",
    "realdir = savedir + '/real'\n",
    "\n",
    "if not(os.path.isdir(savedir)):\n",
    "    os.makedirs(os.path.join(savedir))\n",
    "    os.makedirs(os.path.join(fakedir))\n",
    "    os.makedirs(os.path.join(realdir))\n",
    "\n",
    "    N = len(pkyLoader.dataset)\n",
    "    for idx in tqdm(range(N)):\n",
    "        pkyLoader.load_data(idx, min_angle, max_angle)\n",
    "        real = pkyLoader.dataProcessing(virtual=False)\n",
    "        fake = pkyLoader.dataProcessing(virtual=True)\n",
    "        with open('{}/{}'.format(realdir, idx), 'wb') as f:\n",
    "            pickle.dump(real, f, pickle.HIGHEST_PROTOCOL)\n",
    "        with open('{}/{}'.format(fakedir, idx), 'wb') as f:\n",
    "            pickle.dump(fake, f, pickle.HIGHEST_PROTOCOL)\n",
    "else:\n",
    "    print('directory exists')"
   ]
  },
  {
   "cell_type": "code",
   "execution_count": 16,
   "metadata": {},
   "outputs": [],
   "source": [
    "path, dirs, files = next(os.walk('../generated/gen_None_None/fake'))\n",
    "num_epochs = len(files)"
   ]
  },
  {
   "cell_type": "code",
   "execution_count": 18,
   "metadata": {},
   "outputs": [
    {
     "data": {
      "text/plain": [
       "404"
      ]
     },
     "execution_count": 18,
     "metadata": {},
     "output_type": "execute_result"
    }
   ],
   "source": [
    "file_count"
   ]
  },
  {
   "cell_type": "code",
   "execution_count": null,
   "metadata": {},
   "outputs": [],
   "source": []
  },
  {
   "cell_type": "code",
   "execution_count": null,
   "metadata": {},
   "outputs": [],
   "source": [
    "from rasterization_q10.generator_dev import NusLoaderQ10\n",
    "\n",
    "DATAROOT='/datasets/nuscene/v1.0-mini'\n",
    "\n",
    "sampling_time = 3\n",
    "agent_time = 0 # zero for static mask, non-zero for overlap\n",
    "\n",
    "layer_names = ['drivable_area', 'road_segment', 'road_block',\n",
    "               'lane', 'ped_crossing', 'walkway', 'stop_line',\n",
    "               'carpark_area', 'road_divider', 'lane_divider']\n",
    "colors = [(255, 255, 255), (100, 255, 255), (255, 100, 255),\n",
    "          (255, 255, 100), (100, 100, 255), (100, 255, 100), (255, 100, 100),\n",
    "          (100, 100, 100), (50, 100, 50), (200, 50, 50),]\n",
    "\n",
    "dataset = NusLoaderQ10(\n",
    "    root=DATAROOT, \n",
    "    sampling_time=sampling_time, \n",
    "    agent_time=agent_time, \n",
    "    layer_names=layer_names, \n",
    "    colors=colors,\n",
    "    resolution=0.1,\n",
    "    meters_ahead=25,\n",
    "    meters_behind=25,\n",
    "    meters_left=25,\n",
    "    meters_right=25)\n",
    "\n",
    "print(\"num_samples: {}\".format(len(dataset)))"
   ]
  },
  {
   "cell_type": "code",
   "execution_count": null,
   "metadata": {},
   "outputs": [],
   "source": [
    "dataset.thres_min = -1\n",
    "dataset.thres_max = 99999\n",
    "\n",
    "map_masks, map_img, agent_mask, xy_local, \\\n",
    "virtual_mask, virtual_xy_local, idx = dataset[190] # 100th sample\n",
    "\n",
    "agent_past = xy_local[0]\n",
    "agent_future = xy_local[1]\n",
    "agent_translation = xy_local[2]\n",
    "\n",
    "virtual_past = virtual_xy_local[0]\n",
    "virtual_future = virtual_xy_local[1]\n",
    "virtual_translation = virtual_xy_local[2]\n",
    "\n",
    "print(map_masks.shape)\n",
    "print(agent_mask.shape)\n",
    "print(virtual_mask.shape)\n",
    "\n",
    "print(len(agent_past))\n",
    "print(len(virtual_past))"
   ]
  },
  {
   "cell_type": "code",
   "execution_count": null,
   "metadata": {},
   "outputs": [],
   "source": [
    "def load_data(idx, thres_min, thres_max):\n",
    "    global dataset, map_masks, map_img, agent_mask, xy_local,\\\n",
    "    virtual_mask, virtual_xy_local,\\\n",
    "    agent_past, agent_future, agent_translation,\\\n",
    "    virtual_past, virtual_future, virtual_translation\n",
    "    \n",
    "    dataset.thres_min = thres_min\n",
    "    dataset.thres_max = thres_max\n",
    "    \n",
    "    map_masks, map_img, agent_mask, xy_local, \\\n",
    "    virtual_mask, virtual_xy_local, idx = dataset[idx]\n",
    "    \n",
    "    agent_past = xy_local[0]\n",
    "    agent_future = xy_local[1]\n",
    "    agent_translation = xy_local[2] \n",
    "    virtual_past = virtual_xy_local[0]\n",
    "    virtual_future = virtual_xy_local[1]\n",
    "    virtual_translation = virtual_xy_local[2]"
   ]
  },
  {
   "cell_type": "code",
   "execution_count": null,
   "metadata": {},
   "outputs": [],
   "source": []
  },
  {
   "cell_type": "code",
   "execution_count": null,
   "metadata": {},
   "outputs": [],
   "source": []
  },
  {
   "cell_type": "code",
   "execution_count": null,
   "metadata": {},
   "outputs": [],
   "source": []
  },
  {
   "cell_type": "code",
   "execution_count": null,
   "metadata": {},
   "outputs": [],
   "source": [
    "from torchvision import transforms\n",
    "import torch.nn.functional as F\n",
    "\n",
    "p_transform = transforms.Compose([\n",
    "    transforms.ToTensor(),\n",
    "    transforms.Normalize([23.0582], [27.3226]),\n",
    "    transforms.Lambda(lambda x: F.log_softmax(x.reshape(-1), dim=0).reshape(x.shape[1:]))\n",
    "])\n",
    "\n",
    "img_transform = transforms.Compose([\n",
    "    transforms.ToTensor(),\n",
    "    transforms.Normalize([23.0582], [27.3226])\n",
    "])\n",
    "\n",
    "def generateDistanceMaskFromColorMap(src, scene_size=(64, 64)):\n",
    "    img = cv2.resize(src, scene_size)\n",
    "    raw_image = cv2.cvtColor(img, cv2.COLOR_BGR2GRAY)\n",
    "    ret, thresh = cv2.threshold(raw_image, 100, 255, cv2.THRESH_BINARY)\n",
    "    thresh = cv2.bitwise_not(thresh)\n",
    "    raw_image = cv2.distanceTransform(thresh, cv2.DIST_L2, 5)\n",
    "\n",
    "    raw_map_image = cv2.resize(raw_image.astype(np.float32), dsize=(100, 100), interpolation=cv2.INTER_LINEAR)\n",
    "    raw_map_image[raw_map_image < 0] = 0 # Uniform on drivable area\n",
    "    raw_map_image = raw_map_image.max() - raw_map_image # Invert values so that non-drivable area has smaller values\n",
    "\n",
    "    image = img_transform(raw_image)\n",
    "    prior = p_transform(raw_map_image)\n",
    "\n",
    "    return image, prior"
   ]
  },
  {
   "cell_type": "code",
   "execution_count": null,
   "metadata": {},
   "outputs": [],
   "source": [
    "def load_data(idx, thres_min, thres_max):\n",
    "    global dataset, map_masks, map_img, agent_mask, xy_local,\\\n",
    "    virtual_mask, virtual_xy_local,\\\n",
    "    agent_past, agent_future, agent_translation,\\\n",
    "    virtual_past, virtual_future, virtual_translation\n",
    "    \n",
    "    dataset.thres_min = thres_min\n",
    "    dataset.thres_max = thres_max\n",
    "    \n",
    "    map_masks, map_img, agent_mask, xy_local, \\\n",
    "    virtual_mask, virtual_xy_local, idx = dataset[idx]\n",
    "    \n",
    "    agent_past = xy_local[0]\n",
    "    agent_future = xy_local[1]\n",
    "    agent_translation = xy_local[2] \n",
    "    virtual_past = virtual_xy_local[0]\n",
    "    virtual_future = virtual_xy_local[1]\n",
    "    virtual_translation = virtual_xy_local[2]"
   ]
  },
  {
   "cell_type": "code",
   "execution_count": null,
   "metadata": {},
   "outputs": [],
   "source": [
    "def dataProcessing(virtual=False): \n",
    "    global map_masks, agent_past, agent_future, agent_translation, virtual_past, virtual_future, virtual_translation\n",
    "    \n",
    "    scene_id = idx\n",
    "\n",
    "    # map mask & prior mask\n",
    "    map_image, prior = generateDistanceMaskFromColorMap(map_masks[0], scene_size=(64, 64))\n",
    "\n",
    "    # agent mask\n",
    "    past_agents_traj, past_agents_traj_len, future_agents_traj, future_agents_traj_len, \\\n",
    "    future_agent_masks, decode_start_vel, decode_start_pos = get_agent_mask(agent_past, agent_future, agent_translation)\n",
    "\n",
    "    # virtual agent mask\n",
    "    past_agents_traj2, past_agents_traj_len2, future_agents_traj2, future_agents_traj_len2, \\\n",
    "    future_agent_masks2, decode_start_vel2, decode_start_pos2 = get_agent_mask(virtual_past, virtual_future, virtual_translation)\n",
    "\n",
    "    episode = None\n",
    "    if virtual:\n",
    "        episode = [past_agents_traj2, past_agents_traj_len2, future_agents_traj2, \n",
    "                   future_agents_traj_len2, future_agent_masks2,\n",
    "                   np.array(decode_start_vel2), np.array(decode_start_pos2), \n",
    "                   map_image, prior, scene_id]\n",
    "    else:\n",
    "        episode = [past_agents_traj, past_agents_traj_len, future_agents_traj, \n",
    "                   future_agents_traj_len, future_agent_masks,\n",
    "                   np.array(decode_start_vel), np.array(decode_start_pos),\n",
    "                   map_image, prior, scene_id]\n",
    "\n",
    "    return episode"
   ]
  },
  {
   "cell_type": "code",
   "execution_count": null,
   "metadata": {},
   "outputs": [],
   "source": [
    "def calculateCurve(points):\n",
    "    if len(points) < 3:\n",
    "        return 0\n",
    "    curvature_list = np.empty(0)\n",
    "    for i in range(len(points) - 2):\n",
    "        A = points[i]\n",
    "        B = points[i + 1]\n",
    "        C = points[i + 2]\n",
    "        curvature_value = abs(curvature(A, B, C))\n",
    "        curvature_list = np.append(curvature_list, curvature_value)\n",
    "    return np.average(curvature_list)"
   ]
  },
  {
   "cell_type": "code",
   "execution_count": null,
   "metadata": {},
   "outputs": [],
   "source": [
    "def dataGeneration(thres=0.02, curved_ratio=0.3):\n",
    "    episodes = []\n",
    "    \n",
    "    num_linear = 0\n",
    "    num_curved = 0\n",
    "    \n",
    "    N = len(dataset)\n",
    "    \n",
    "    # count the number of curved agents\n",
    "    global agent_past\n",
    "    for idx in range(N):\n",
    "        load_data(idx, -1, thres)\n",
    "        num_linear += len(agent_past)\n",
    "        load_data(idx, thres, 99999)\n",
    "        num_curved += len(agent_past)\n",
    "    \n",
    "    # original data\n",
    "    for idx in range(N):\n",
    "        load_data(idx, -1, 99999)\n",
    "        episode = dataProcessing()\n",
    "        if sum(episode[4]) > 0:\n",
    "            episodes.append(episode)\n",
    "    \n",
    "    # generate curved data\n",
    "    curved_target = (num_linear/(1-curved_ratio)) * curved_ratio - num_curved\n",
    "    index = 0\n",
    "    while curved_target > 0:\n",
    "        load_data(index, thres, 99999)\n",
    "        episode = dataProcessing(virtual=True)\n",
    "        \n",
    "        n = sum(episode[4])\n",
    "        \n",
    "        if n > 0:\n",
    "            episodes.append(episode)\n",
    "            curved_target -= n\n",
    "            \n",
    "        index += 1\n",
    "        if index > N - 1:\n",
    "            index = 0\n",
    "    \n",
    "    return episodes"
   ]
  },
  {
   "cell_type": "code",
   "execution_count": null,
   "metadata": {},
   "outputs": [],
   "source": [
    "thres = 0.02\n",
    "curved_ratio = 0.3\n",
    "\n",
    "# parsed_data = dataGeneration(thres=thres, curved_ratio=curved_ratio)\n",
    "\n",
    "# print(\"Number of Data: {}\".format(len(parsed_data)))"
   ]
  },
  {
   "cell_type": "code",
   "execution_count": null,
   "metadata": {},
   "outputs": [],
   "source": []
  },
  {
   "cell_type": "code",
   "execution_count": null,
   "metadata": {},
   "outputs": [],
   "source": []
  },
  {
   "cell_type": "code",
   "execution_count": null,
   "metadata": {},
   "outputs": [],
   "source": []
  },
  {
   "cell_type": "markdown",
   "metadata": {},
   "source": [
    "#### 로드"
   ]
  },
  {
   "cell_type": "code",
   "execution_count": null,
   "metadata": {},
   "outputs": [],
   "source": []
  },
  {
   "cell_type": "code",
   "execution_count": null,
   "metadata": {},
   "outputs": [],
   "source": []
  },
  {
   "cell_type": "code",
   "execution_count": null,
   "metadata": {},
   "outputs": [],
   "source": []
  },
  {
   "cell_type": "code",
   "execution_count": 6,
   "metadata": {},
   "outputs": [
    {
     "name": "stdout",
     "output_type": "stream",
     "text": [
      "Test Examples: 1208\n"
     ]
    }
   ],
   "source": [
    "dataset_pky, data_loader_pky = pky.load_pky()"
   ]
  },
  {
   "cell_type": "code",
   "execution_count": 7,
   "metadata": {},
   "outputs": [],
   "source": [
    "scene_images_pky, log_prior_pky, \\\n",
    "    agent_masks_pky, \\\n",
    "    num_src_trajs_pky, src_trajs_pky, src_lens_pky, src_len_idx_pky, \\\n",
    "    num_tgt_trajs_pky, tgt_trajs_pky, tgt_lens_pky, tgt_len_idx_pky, \\\n",
    "    tgt_two_mask_pky, tgt_three_mask_pky, \\\n",
    "    decode_start_vel_pky, decode_start_pos_pky, scene_id_pky = np.arange(16)\n",
    "\n",
    "for b, batch in enumerate(data_loader_pky):\n",
    "    scene_images_pky, log_prior_pky, \\\n",
    "    agent_masks_pky, \\\n",
    "    num_src_trajs_pky, src_trajs_pky, src_lens_pky, src_len_idx_pky, \\\n",
    "    num_tgt_trajs_pky, tgt_trajs_pky, tgt_lens_pky, tgt_len_idx_pky, \\\n",
    "    tgt_two_mask_pky, tgt_three_mask_pky, \\\n",
    "    decode_start_vel_pky, decode_start_pos_pky, scene_id_pky = batch\n",
    "    break"
   ]
  },
  {
   "cell_type": "code",
   "execution_count": 5,
   "metadata": {},
   "outputs": [
    {
     "data": {
      "text/plain": [
       "(torch.Size([64, 1, 64, 64]),\n",
       " torch.Size([64, 100, 100]),\n",
       " torch.Size([578]),\n",
       " [],\n",
       " torch.Size([64]),\n",
       " torch.Size([578, 4, 2]),\n",
       " torch.Size([578]),\n",
       " torch.Size([2263]),\n",
       " [],\n",
       " torch.Size([64]),\n",
       " torch.Size([526, 6, 2]),\n",
       " torch.Size([526]),\n",
       " torch.Size([3039]),\n",
       " [],\n",
       " torch.Size([526]),\n",
       " torch.Size([526]),\n",
       " [],\n",
       " torch.Size([578, 2]),\n",
       " torch.Size([578, 2]),\n",
       " (64, 4))"
      ]
     },
     "execution_count": 5,
     "metadata": {},
     "output_type": "execute_result"
    }
   ],
   "source": [
    "scene_images.shape, log_prior.shape, agent_masks.shape, \\\n",
    "[], \\\n",
    "num_src_trajs.shape, src_trajs.shape, src_lens.shape, src_len_idx.shape, \\\n",
    "[], \\\n",
    "num_tgt_trajs.shape, tgt_trajs.shape, tgt_lens.shape, tgt_len_idx.shape, \\\n",
    "[], \\\n",
    "tgt_two_mask.shape, tgt_three_mask.shape, \\\n",
    "[], \\\n",
    "decode_start_vel.shape, decode_start_pos.shape, scene_id.shape"
   ]
  },
  {
   "cell_type": "code",
   "execution_count": 9,
   "metadata": {},
   "outputs": [
    {
     "data": {
      "text/plain": [
       "tensor([False, False, False,  ...,  True, False,  True])"
      ]
     },
     "execution_count": 9,
     "metadata": {},
     "output_type": "execute_result"
    }
   ],
   "source": [
    "agent_masks_pky"
   ]
  },
  {
   "cell_type": "code",
   "execution_count": 8,
   "metadata": {},
   "outputs": [
    {
     "data": {
      "text/plain": [
       "(torch.Size([64, 1, 64, 64]),\n",
       " torch.Size([64, 100, 100]),\n",
       " torch.Size([1289]),\n",
       " [],\n",
       " torch.Size([64]),\n",
       " torch.Size([1289, 4, 2]),\n",
       " torch.Size([1289]),\n",
       " torch.Size([4497]),\n",
       " [],\n",
       " torch.Size([64]),\n",
       " torch.Size([1289, 6, 2]),\n",
       " torch.Size([1289]),\n",
       " torch.Size([7038]),\n",
       " [],\n",
       " torch.Size([1289]),\n",
       " torch.Size([1289]),\n",
       " [],\n",
       " torch.Size([1289, 2]),\n",
       " torch.Size([1289, 2]),\n",
       " (64,))"
      ]
     },
     "execution_count": 8,
     "metadata": {},
     "output_type": "execute_result"
    }
   ],
   "source": [
    "scene_images_pky.shape, log_prior_pky.shape, agent_masks_pky.shape, \\\n",
    "[], \\\n",
    "num_src_trajs_pky.shape, src_trajs_pky.shape, src_lens_pky.shape, src_len_idx_pky.shape, \\\n",
    "[], \\\n",
    "num_tgt_trajs_pky.shape, tgt_trajs_pky.shape, tgt_lens_pky.shape, tgt_len_idx_pky.shape, \\\n",
    "[], \\\n",
    "tgt_two_mask_pky.shape, tgt_three_mask_pky.shape, \\\n",
    "[], \\\n",
    "decode_start_vel_pky.shape, decode_start_pos_pky.shape, scene_id_pky.shape"
   ]
  },
  {
   "cell_type": "code",
   "execution_count": 26,
   "metadata": {},
   "outputs": [
    {
     "data": {
      "text/plain": [
       "(10, 10)"
      ]
     },
     "execution_count": 26,
     "metadata": {},
     "output_type": "execute_result"
    }
   ],
   "source": [
    "len(dataset_cmu[0]), len(dataset[0])"
   ]
  },
  {
   "cell_type": "code",
   "execution_count": null,
   "metadata": {},
   "outputs": [],
   "source": []
  },
  {
   "cell_type": "code",
   "execution_count": null,
   "metadata": {},
   "outputs": [],
   "source": []
  },
  {
   "cell_type": "markdown",
   "metadata": {},
   "source": [
    "## 트레이닝 데이터 저장"
   ]
  },
  {
   "cell_type": "markdown",
   "metadata": {},
   "source": [
    "### 1) original nuscenes (with angle of routine)"
   ]
  },
  {
   "cell_type": "code",
   "execution_count": null,
   "metadata": {},
   "outputs": [],
   "source": []
  },
  {
   "cell_type": "code",
   "execution_count": null,
   "metadata": {},
   "outputs": [],
   "source": []
  },
  {
   "cell_type": "markdown",
   "metadata": {},
   "source": [
    "### 2) Generated via HD Map (with angle of routine)"
   ]
  },
  {
   "cell_type": "code",
   "execution_count": null,
   "metadata": {},
   "outputs": [],
   "source": []
  },
  {
   "cell_type": "code",
   "execution_count": null,
   "metadata": {},
   "outputs": [],
   "source": []
  },
  {
   "cell_type": "markdown",
   "metadata": {},
   "source": [
    "## 데이터 불러와서 비율에 맞게 다시 저장"
   ]
  },
  {
   "cell_type": "markdown",
   "metadata": {},
   "source": [
    "### 1) Generated 데이터만 (10:0, 5:5, 2:1)"
   ]
  },
  {
   "cell_type": "code",
   "execution_count": null,
   "metadata": {},
   "outputs": [],
   "source": [
    "import random\n",
    "\n",
    "ratio = 0.7\n",
    "\n",
    "num_data = len(dataset)\n",
    "print(num_data)\n",
    "\n",
    "shuffled = dataset.copy()\n",
    "random.shuffle(shuffled)\n",
    "\n",
    "split = int(num_data*ratio)\n",
    "\n",
    "train = shuffled[:split]\n",
    "val = shuffled[split:]\n",
    "\n",
    "with open(filename+'_train', 'wb') as f:\n",
    "    pickle.dump(train, f, pickle.HIGHEST_PROTOCOL)\n",
    "    \n",
    "with open(filename+'_val', 'wb') as f:\n",
    "    pickle.dump(val, f, pickle.HIGHEST_PROTOCOL)"
   ]
  },
  {
   "cell_type": "code",
   "execution_count": null,
   "metadata": {},
   "outputs": [],
   "source": []
  },
  {
   "cell_type": "markdown",
   "metadata": {},
   "source": [
    "### 2) Original 데이터만 (10:0, 5:5, 2:1)"
   ]
  },
  {
   "cell_type": "code",
   "execution_count": null,
   "metadata": {},
   "outputs": [],
   "source": []
  },
  {
   "cell_type": "code",
   "execution_count": null,
   "metadata": {},
   "outputs": [],
   "source": []
  },
  {
   "cell_type": "markdown",
   "metadata": {},
   "source": [
    "### 3) 둘이 섞어서 (5:5)"
   ]
  },
  {
   "cell_type": "code",
   "execution_count": null,
   "metadata": {},
   "outputs": [],
   "source": []
  },
  {
   "cell_type": "code",
   "execution_count": null,
   "metadata": {},
   "outputs": [],
   "source": []
  },
  {
   "cell_type": "code",
   "execution_count": null,
   "metadata": {},
   "outputs": [],
   "source": []
  },
  {
   "cell_type": "code",
   "execution_count": null,
   "metadata": {},
   "outputs": [],
   "source": []
  },
  {
   "cell_type": "code",
   "execution_count": null,
   "metadata": {},
   "outputs": [],
   "source": []
  },
  {
   "cell_type": "code",
   "execution_count": null,
   "metadata": {},
   "outputs": [],
   "source": []
  },
  {
   "cell_type": "code",
   "execution_count": 1,
   "metadata": {},
   "outputs": [
    {
     "name": "stdout",
     "output_type": "stream",
     "text": [
      "device: cuda\n",
      "import:\n",
      "pkyutils\n"
     ]
    }
   ],
   "source": [
    "import pkyutils as pky\n",
    "from dataset.nuscenes import NuscenesDataset, nuscenes_collate\n",
    "from torch.utils.data import DataLoader\n",
    "import matplotlib.pyplot as plt\n",
    "\n",
    "import numpy as np\n",
    "import torch\n",
    "import torch.nn.functional as F\n",
    "from torch.utils.data import Dataset\n",
    "from torch.utils.data import DataLoader\n",
    "import cv2\n",
    "\n",
    "import os\n",
    "import pickle\n",
    "from tqdm import tqdm"
   ]
  },
  {
   "cell_type": "code",
   "execution_count": 2,
   "metadata": {},
   "outputs": [
    {
     "name": "stdout",
     "output_type": "stream",
     "text": [
      "Test Examples: 382\n"
     ]
    }
   ],
   "source": [
    "dataset = pky.DatasetQ10(root='../generated/v1.0-mini/gen_None_None/real', data_partition='train')\n",
    "\n",
    "dataloader = DataLoader(dataset, batch_size=1, shuffle=False, pin_memory=True,\n",
    "                                  collate_fn=lambda x: nuscenes_collate(x), num_workers=1)\n",
    "print(f'Test Examples: {len(dataset)}')"
   ]
  },
  {
   "cell_type": "code",
   "execution_count": 3,
   "metadata": {},
   "outputs": [],
   "source": [
    "from Proposed.models import Global_Scene_CAM_NFDecoder\n",
    "from Proposed.utils import ModelTest\n",
    "from R2P2_MA.model_utils import Interpolated_Ploss\n",
    "\n",
    "device = torch.device(\"cuda\" if torch.cuda.is_available() else \"cpu\")\n",
    "scene_channels = 3\n",
    "nfuture = int(3 * 2)\n",
    "crossmodal_attention = False\n",
    "ploss_type = 'map'\n",
    "beta = 0.1\n",
    "\n",
    "model = Global_Scene_CAM_NFDecoder(\n",
    "    device=device, \n",
    "    agent_embed_dim=128, \n",
    "    nfuture=nfuture,\n",
    "    att_dropout=0.1,\n",
    "    velocity_const=0.5,\n",
    "    num_candidates=6,\n",
    "    decoding_steps=nfuture,\n",
    "    att=crossmodal_attention)\n",
    "model = model.to(device)\n",
    "\n",
    "ckpt = 'experiment/trainval1_real_none_none_mini_real_none_none/model100.pth.tar'\n",
    "checkpoint = torch.load(ckpt)\n",
    "model.load_state_dict(checkpoint['model_state'], strict=False)\n",
    "\n",
    "ploss_criterion = Interpolated_Ploss()\n",
    "ploss_criterion = ploss_criterion.to(device)"
   ]
  },
  {
   "cell_type": "code",
   "execution_count": 4,
   "metadata": {},
   "outputs": [],
   "source": [
    "def log_determinant(sigma):\n",
    "    det = sigma[:, :, 0, 0] * sigma[:, :, 1, 1] - sigma[:, :, 0, 1] ** 2\n",
    "    logdet = torch.log(det + 1e-9)\n",
    "\n",
    "    return logdet"
   ]
  },
  {
   "cell_type": "code",
   "execution_count": 177,
   "metadata": {},
   "outputs": [],
   "source": [
    "def predict_path(dataloader, batch_size=1):\n",
    "    \n",
    "    results_idx = []\n",
    "    results_predicted = []\n",
    "    results_ploss = []\n",
    "    results_qloss = []\n",
    "    results_loss = []\n",
    "    results_pose = []\n",
    "    \n",
    "    with torch.no_grad():\n",
    "        H = W = 64\n",
    "        coordinate_2d = np.indices((H, W))\n",
    "        coordinate = np.ravel_multi_index(coordinate_2d, dims=(H, W))\n",
    "        coordinate = torch.FloatTensor(coordinate)\n",
    "        coordinate = coordinate.reshape((1, 1, H, W))\n",
    "\n",
    "        coordinate_std, coordinate_mean = torch.std_mean(coordinate)\n",
    "        coordinate = (coordinate - coordinate_mean) / coordinate_std\n",
    "\n",
    "        distance_2d = coordinate_2d - np.array([(H - 1) / 2, (H - 1) / 2]).reshape((2, 1, 1))\n",
    "        distance = np.sqrt((distance_2d ** 2).sum(axis=0))\n",
    "        distance = torch.FloatTensor(distance)\n",
    "        distance = distance.reshape((1, 1, H, W))\n",
    "\n",
    "        distance_std, distance_mean = torch.std_mean(distance)\n",
    "        distance = (distance - distance_mean) / distance_std\n",
    "\n",
    "        coordinate = coordinate.to(device)\n",
    "        distance = distance.to(device)\n",
    "\n",
    "        c1 = -nfuture * np.log(2 * np.pi)\n",
    "\n",
    "        for b, batch in tqdm(enumerate(dataloader), total=len(dataloader)//batch_size):\n",
    "            scene_images, log_prior, \\\n",
    "                        agent_masks, \\\n",
    "                        num_src_trajs, src_trajs, src_lens, src_len_idx, \\\n",
    "                        num_tgt_trajs, tgt_trajs, tgt_lens, tgt_len_idx, \\\n",
    "                        tgt_two_mask, tgt_three_mask, \\\n",
    "                        decode_start_vel, decode_start_pos, scene_id = batch\n",
    "#             print(batch[-1])\n",
    "\n",
    "            # Detect dynamic batch size)\n",
    "            batch_size = scene_images.size(0)\n",
    "            num_three_agents = torch.sum(tgt_three_mask)\n",
    "            \n",
    "            if num_three_agents == 0:\n",
    "                results_predicted.append(np.empty([0,6,6,2]))\n",
    "                results_ploss.append(np.empty(0))\n",
    "                results_qloss.append(np.empty(0))\n",
    "                results_loss.append(np.empty(0))\n",
    "                \n",
    "                results_idx.append(-1*scene_id)\n",
    "                results_pose.append(np.empty([0,2]))\n",
    "                continue\n",
    "\n",
    "            coordinate_batch = coordinate.repeat(batch_size, 1, 1, 1)\n",
    "            distance_batch = distance.repeat(batch_size, 1, 1, 1)\n",
    "            scene_images = torch.cat((scene_images.to(device), coordinate_batch, distance_batch),\n",
    "                                     dim=1)\n",
    "\n",
    "            src_trajs = src_trajs.to(device)\n",
    "            src_lens = src_lens.to(device)\n",
    "            tgt_trajs = tgt_trajs.to(device)[tgt_three_mask]\n",
    "            tgt_lens = tgt_lens.to(device)[tgt_three_mask]\n",
    "\n",
    "            num_tgt_trajs = num_tgt_trajs.to(device)\n",
    "            episode_idx = torch.arange(batch_size, device=device).repeat_interleave(num_tgt_trajs)[\n",
    "                tgt_three_mask]\n",
    "\n",
    "            agent_masks = agent_masks.to(device)\n",
    "            agent_tgt_three_mask = torch.zeros_like(agent_masks)\n",
    "            agent_masks_idx = torch.arange(len(agent_masks), device=device)[agent_masks][tgt_three_mask]\n",
    "            agent_tgt_three_mask[agent_masks_idx] = True\n",
    "\n",
    "            decode_start_vel = decode_start_vel.to(device)[agent_tgt_three_mask]\n",
    "            decode_start_pos = decode_start_pos.to(device)[agent_tgt_three_mask]\n",
    "\n",
    "            log_prior = log_prior.to(device)\n",
    "\n",
    "            perterb = torch.normal(mean=0.0, std=np.sqrt(0.001), size=tgt_trajs.shape, device=device)\n",
    "\n",
    "            z_, mu_, sigma_, motion_encoding_, scene_encoding_ = \\\n",
    "                model.infer(tgt_trajs + perterb,\n",
    "                              src_trajs, src_lens,\n",
    "                              agent_tgt_three_mask,\n",
    "                              episode_idx,\n",
    "                              decode_start_vel,\n",
    "                              decode_start_pos,\n",
    "                              num_src_trajs,\n",
    "                              scene_images)\n",
    "            z_ = z_.reshape((num_three_agents, -1))  # A X (Td*2)\n",
    "            log_q0 = c1 - 0.5 * ((z_ ** 2).sum(dim=1))\n",
    "            logdet_sigma = log_determinant(sigma_)\n",
    "            log_qpi = log_q0 - logdet_sigma.sum(dim=1)\n",
    "            qloss = -log_qpi\n",
    "            batch_qloss = qloss.mean()\n",
    "\n",
    "            gen_trajs, z, mu, sigma = \\\n",
    "                model(motion_encoding_, src_lens, agent_tgt_three_mask,\n",
    "                         episode_idx, decode_start_vel, decode_start_pos,\n",
    "                         num_src_trajs, scene_encoding_, agent_encoded=True,\n",
    "                         scene_encoded=True)\n",
    "\n",
    "            ploss = ploss_criterion(episode_idx, gen_trajs, log_prior, -15.0)\n",
    "            batch_ploss = ploss.mean()\n",
    "            batch_loss = batch_qloss + beta * batch_ploss\n",
    "\n",
    "            results_idx.append(scene_id)\n",
    "            results_predicted.append(gen_trajs.cpu().numpy())\n",
    "            results_ploss.append(batch_ploss.cpu().numpy())\n",
    "            results_qloss.append(batch_qloss.cpu().numpy())\n",
    "            results_loss.append(batch_loss.cpu().numpy())\n",
    "            results_pose.append(decode_start_pos.cpu().numpy())\n",
    "\n",
    "        return results_idx, results_predicted, results_ploss, results_qloss, results_loss, results_pose"
   ]
  },
  {
   "cell_type": "code",
   "execution_count": 63,
   "metadata": {},
   "outputs": [
    {
     "data": {
      "text/plain": [
       "array([], shape=(0, 7, 2), dtype=float64)"
      ]
     },
     "execution_count": 63,
     "metadata": {},
     "output_type": "execute_result"
    }
   ],
   "source": [
    "np.empty([0,7,2])"
   ]
  },
  {
   "cell_type": "code",
   "execution_count": 65,
   "metadata": {},
   "outputs": [
    {
     "data": {
      "text/plain": [
       "((7, 2), (7, 6, 6, 2), ())"
      ]
     },
     "execution_count": 65,
     "metadata": {},
     "output_type": "execute_result"
    }
   ],
   "source": [
    "start[50].shape, predicted[50].shape, ploss[50].shape"
   ]
  },
  {
   "cell_type": "code",
   "execution_count": 178,
   "metadata": {},
   "outputs": [
    {
     "name": "stderr",
     "output_type": "stream",
     "text": [
      "  0%|          | 0/382 [00:00<?, ?it/s]/home/q10/.pyenv/versions/intelpro/lib/python3.7/site-packages/torch/nn/functional.py:3121: UserWarning: Default upsampling behavior when mode=bilinear is changed to align_corners=False since 0.4.0. Please specify align_corners=True if the old behavior is desired. See the documentation of nn.Upsample for details.\n",
      "  \"See the documentation of nn.Upsample for details.\".format(mode))\n",
      "100%|██████████| 382/382 [00:05<00:00, 66.25it/s]\n"
     ]
    }
   ],
   "source": [
    "scene_ids, predicted, ploss, qloss, loss, start = predict_path(dataloader)"
   ]
  },
  {
   "cell_type": "code",
   "execution_count": 179,
   "metadata": {},
   "outputs": [
    {
     "data": {
      "text/plain": [
       "[array([1]),\n",
       " array([2]),\n",
       " array([3]),\n",
       " array([4]),\n",
       " array([5]),\n",
       " array([6]),\n",
       " array([7]),\n",
       " array([8]),\n",
       " array([9]),\n",
       " array([10]),\n",
       " array([11]),\n",
       " array([12]),\n",
       " array([13]),\n",
       " array([14]),\n",
       " array([15]),\n",
       " array([16]),\n",
       " array([17]),\n",
       " array([18]),\n",
       " array([19]),\n",
       " array([20]),\n",
       " array([21]),\n",
       " array([-22]),\n",
       " array([23]),\n",
       " array([24]),\n",
       " array([25]),\n",
       " array([26]),\n",
       " array([27]),\n",
       " array([28]),\n",
       " array([29]),\n",
       " array([30]),\n",
       " array([31]),\n",
       " array([32]),\n",
       " array([-33]),\n",
       " array([-34]),\n",
       " array([-35]),\n",
       " array([-36]),\n",
       " array([-37]),\n",
       " array([40]),\n",
       " array([41]),\n",
       " array([42]),\n",
       " array([43]),\n",
       " array([44]),\n",
       " array([45]),\n",
       " array([46]),\n",
       " array([47]),\n",
       " array([48]),\n",
       " array([49]),\n",
       " array([50]),\n",
       " array([51]),\n",
       " array([52]),\n",
       " array([53]),\n",
       " array([54]),\n",
       " array([55]),\n",
       " array([56]),\n",
       " array([57]),\n",
       " array([58]),\n",
       " array([59]),\n",
       " array([60]),\n",
       " array([61]),\n",
       " array([62]),\n",
       " array([63]),\n",
       " array([64]),\n",
       " array([65]),\n",
       " array([66]),\n",
       " array([67]),\n",
       " array([68]),\n",
       " array([69]),\n",
       " array([70]),\n",
       " array([71]),\n",
       " array([72]),\n",
       " array([-73]),\n",
       " array([-74]),\n",
       " array([-75]),\n",
       " array([-76]),\n",
       " array([-77]),\n",
       " array([80]),\n",
       " array([81]),\n",
       " array([82]),\n",
       " array([83]),\n",
       " array([84]),\n",
       " array([85]),\n",
       " array([86]),\n",
       " array([87]),\n",
       " array([88]),\n",
       " array([89]),\n",
       " array([90]),\n",
       " array([91]),\n",
       " array([92]),\n",
       " array([93]),\n",
       " array([94]),\n",
       " array([95]),\n",
       " array([96]),\n",
       " array([97]),\n",
       " array([98]),\n",
       " array([99]),\n",
       " array([100]),\n",
       " array([101]),\n",
       " array([102]),\n",
       " array([103]),\n",
       " array([104]),\n",
       " array([105]),\n",
       " array([106]),\n",
       " array([107]),\n",
       " array([108]),\n",
       " array([109]),\n",
       " array([110]),\n",
       " array([111]),\n",
       " array([112]),\n",
       " array([113]),\n",
       " array([-114]),\n",
       " array([-115]),\n",
       " array([-116]),\n",
       " array([-117]),\n",
       " array([-118]),\n",
       " array([121]),\n",
       " array([122]),\n",
       " array([123]),\n",
       " array([124]),\n",
       " array([125]),\n",
       " array([126]),\n",
       " array([127]),\n",
       " array([128]),\n",
       " array([129]),\n",
       " array([130]),\n",
       " array([131]),\n",
       " array([132]),\n",
       " array([133]),\n",
       " array([134]),\n",
       " array([135]),\n",
       " array([136]),\n",
       " array([137]),\n",
       " array([138]),\n",
       " array([139]),\n",
       " array([140]),\n",
       " array([141]),\n",
       " array([142]),\n",
       " array([143]),\n",
       " array([144]),\n",
       " array([145]),\n",
       " array([146]),\n",
       " array([147]),\n",
       " array([148]),\n",
       " array([149]),\n",
       " array([150]),\n",
       " array([151]),\n",
       " array([152]),\n",
       " array([153]),\n",
       " array([154]),\n",
       " array([-155]),\n",
       " array([-156]),\n",
       " array([-157]),\n",
       " array([-158]),\n",
       " array([-159]),\n",
       " array([162]),\n",
       " array([163]),\n",
       " array([164]),\n",
       " array([165]),\n",
       " array([166]),\n",
       " array([167]),\n",
       " array([168]),\n",
       " array([169]),\n",
       " array([170]),\n",
       " array([171]),\n",
       " array([172]),\n",
       " array([173]),\n",
       " array([174]),\n",
       " array([175]),\n",
       " array([176]),\n",
       " array([177]),\n",
       " array([178]),\n",
       " array([179]),\n",
       " array([180]),\n",
       " array([181]),\n",
       " array([182]),\n",
       " array([183]),\n",
       " array([184]),\n",
       " array([185]),\n",
       " array([186]),\n",
       " array([187]),\n",
       " array([188]),\n",
       " array([189]),\n",
       " array([190]),\n",
       " array([191]),\n",
       " array([192]),\n",
       " array([193]),\n",
       " array([194]),\n",
       " array([195]),\n",
       " array([-196]),\n",
       " array([-197]),\n",
       " array([-198]),\n",
       " array([-199]),\n",
       " array([-200]),\n",
       " array([203]),\n",
       " array([204]),\n",
       " array([205]),\n",
       " array([206]),\n",
       " array([207]),\n",
       " array([208]),\n",
       " array([211]),\n",
       " array([212]),\n",
       " array([213]),\n",
       " array([214]),\n",
       " array([215]),\n",
       " array([216]),\n",
       " array([217]),\n",
       " array([218]),\n",
       " array([219]),\n",
       " array([220]),\n",
       " array([221]),\n",
       " array([222]),\n",
       " array([223]),\n",
       " array([224]),\n",
       " array([225]),\n",
       " array([226]),\n",
       " array([227]),\n",
       " array([228]),\n",
       " array([229]),\n",
       " array([230]),\n",
       " array([231]),\n",
       " array([232]),\n",
       " array([233]),\n",
       " array([234]),\n",
       " array([235]),\n",
       " array([-236]),\n",
       " array([-237]),\n",
       " array([-238]),\n",
       " array([-239]),\n",
       " array([-240]),\n",
       " array([243]),\n",
       " array([244]),\n",
       " array([245]),\n",
       " array([246]),\n",
       " array([247]),\n",
       " array([248]),\n",
       " array([249]),\n",
       " array([250]),\n",
       " array([251]),\n",
       " array([252]),\n",
       " array([253]),\n",
       " array([254]),\n",
       " array([255]),\n",
       " array([256]),\n",
       " array([257]),\n",
       " array([258]),\n",
       " array([259]),\n",
       " array([260]),\n",
       " array([261]),\n",
       " array([262]),\n",
       " array([263]),\n",
       " array([264]),\n",
       " array([265]),\n",
       " array([266]),\n",
       " array([267]),\n",
       " array([268]),\n",
       " array([269]),\n",
       " array([270]),\n",
       " array([271]),\n",
       " array([272]),\n",
       " array([273]),\n",
       " array([274]),\n",
       " array([275]),\n",
       " array([276]),\n",
       " array([-277]),\n",
       " array([-278]),\n",
       " array([-279]),\n",
       " array([-280]),\n",
       " array([-281]),\n",
       " array([284]),\n",
       " array([285]),\n",
       " array([286]),\n",
       " array([287]),\n",
       " array([288]),\n",
       " array([289]),\n",
       " array([290]),\n",
       " array([291]),\n",
       " array([292]),\n",
       " array([293]),\n",
       " array([294]),\n",
       " array([295]),\n",
       " array([296]),\n",
       " array([297]),\n",
       " array([298]),\n",
       " array([299]),\n",
       " array([300]),\n",
       " array([301]),\n",
       " array([302]),\n",
       " array([303]),\n",
       " array([304]),\n",
       " array([305]),\n",
       " array([306]),\n",
       " array([307]),\n",
       " array([308]),\n",
       " array([309]),\n",
       " array([310]),\n",
       " array([311]),\n",
       " array([312]),\n",
       " array([313]),\n",
       " array([314]),\n",
       " array([315]),\n",
       " array([316]),\n",
       " array([317]),\n",
       " array([-318]),\n",
       " array([-319]),\n",
       " array([-320]),\n",
       " array([-321]),\n",
       " array([-322]),\n",
       " array([325]),\n",
       " array([326]),\n",
       " array([327]),\n",
       " array([328]),\n",
       " array([329]),\n",
       " array([330]),\n",
       " array([331]),\n",
       " array([332]),\n",
       " array([333]),\n",
       " array([334]),\n",
       " array([335]),\n",
       " array([336]),\n",
       " array([337]),\n",
       " array([338]),\n",
       " array([339]),\n",
       " array([340]),\n",
       " array([341]),\n",
       " array([342]),\n",
       " array([343]),\n",
       " array([344]),\n",
       " array([345]),\n",
       " array([346]),\n",
       " array([347]),\n",
       " array([348]),\n",
       " array([349]),\n",
       " array([350]),\n",
       " array([351]),\n",
       " array([352]),\n",
       " array([353]),\n",
       " array([354]),\n",
       " array([355]),\n",
       " array([356]),\n",
       " array([357]),\n",
       " array([-358]),\n",
       " array([-359]),\n",
       " array([-360]),\n",
       " array([-361]),\n",
       " array([-362]),\n",
       " array([365]),\n",
       " array([366]),\n",
       " array([367]),\n",
       " array([368]),\n",
       " array([369]),\n",
       " array([370]),\n",
       " array([371]),\n",
       " array([372]),\n",
       " array([373]),\n",
       " array([374]),\n",
       " array([375]),\n",
       " array([376]),\n",
       " array([377]),\n",
       " array([378]),\n",
       " array([379]),\n",
       " array([380]),\n",
       " array([381]),\n",
       " array([382]),\n",
       " array([383]),\n",
       " array([384]),\n",
       " array([385]),\n",
       " array([386]),\n",
       " array([387]),\n",
       " array([388]),\n",
       " array([389]),\n",
       " array([390]),\n",
       " array([391]),\n",
       " array([392]),\n",
       " array([393]),\n",
       " array([394]),\n",
       " array([395]),\n",
       " array([396]),\n",
       " array([397]),\n",
       " array([-398]),\n",
       " array([-399]),\n",
       " array([-400]),\n",
       " array([-401]),\n",
       " array([-402])]"
      ]
     },
     "execution_count": 179,
     "metadata": {},
     "output_type": "execute_result"
    }
   ],
   "source": [
    "scene_ids"
   ]
  },
  {
   "cell_type": "code",
   "execution_count": 102,
   "metadata": {},
   "outputs": [],
   "source": [
    "past_agents_traj,\\\n",
    "        past_agents_traj_len,\\\n",
    "        future_agents_traj,\\\n",
    "        future_agents_traj_len,\\\n",
    "        future_agent_masks,\\\n",
    "        decode_start_vel,\\\n",
    "        decode_start_pos,\\\n",
    "        map_image,\\\n",
    "        prior,\\\n",
    "        scene_id = dataset[5]"
   ]
  },
  {
   "cell_type": "code",
   "execution_count": 116,
   "metadata": {},
   "outputs": [
    {
     "data": {
      "text/plain": [
       "(tensor([[[-4.5362, 11.7666],\n",
       "          [-4.5512, 11.8814],\n",
       "          [-4.5526, 11.9500],\n",
       "          [-4.5540, 12.0186],\n",
       "          [-4.5540, 12.0186],\n",
       "          [-4.6226, 12.0172]]], device='cuda:0'),\n",
       " array([[[ 7.64708168, 21.41817473],\n",
       "         [ 7.86461642, 24.41280119],\n",
       "         [ 8.20943056, 27.56063651],\n",
       "         [ 8.5827052 , 30.45610107],\n",
       "         [ 9.27520062, 33.64302248],\n",
       "         [10.18047604, 36.76903679]],\n",
       " \n",
       "        [[-4.63850915, -8.08984051],\n",
       "         [-4.63850915, -8.08984051],\n",
       "         [-4.63850915, -8.08984051],\n",
       "         [-4.63850915, -8.08984051],\n",
       "         [-4.63850915, -8.08984051],\n",
       "         [-4.63741859, -8.02122702]]]))"
      ]
     },
     "execution_count": 116,
     "metadata": {},
     "output_type": "execute_result"
    }
   ],
   "source": [
    "tgt_trajs, future_agents_traj"
   ]
  },
  {
   "cell_type": "code",
   "execution_count": 117,
   "metadata": {},
   "outputs": [
    {
     "data": {
      "text/plain": [
       "((18, 4, 2), (2, 6, 2), (2, 6, 6, 2))"
      ]
     },
     "execution_count": 117,
     "metadata": {},
     "output_type": "execute_result"
    }
   ],
   "source": [
    "past_agents_traj.shape, future_agents_traj.shape, predicted[5].shape"
   ]
  },
  {
   "cell_type": "code",
   "execution_count": 114,
   "metadata": {},
   "outputs": [
    {
     "data": {
      "text/plain": [
       "((2, 6, 2), (2, 6, 6, 2), torch.Size([1, 6, 2]))"
      ]
     },
     "execution_count": 114,
     "metadata": {},
     "output_type": "execute_result"
    }
   ],
   "source": [
    "future_agents_traj.shape, predicted[5].shape, tgt_trajs.shape"
   ]
  },
  {
   "cell_type": "code",
   "execution_count": 136,
   "metadata": {},
   "outputs": [
    {
     "ename": "ValueError",
     "evalue": "operands could not be broadcast together with shapes (18,2) (2,6,2) ",
     "output_type": "error",
     "traceback": [
      "\u001b[0;31m---------------------------------------------------------------------------\u001b[0m",
      "\u001b[0;31mValueError\u001b[0m                                Traceback (most recent call last)",
      "\u001b[0;32m<ipython-input-136-470dd8be0867>\u001b[0m in \u001b[0;36m<module>\u001b[0;34m\u001b[0m\n\u001b[0;32m----> 1\u001b[0;31m \u001b[0mdecode_start_pos\u001b[0m \u001b[0;34m+\u001b[0m \u001b[0mfuture_agents_traj\u001b[0m\u001b[0;34m\u001b[0m\u001b[0;34m\u001b[0m\u001b[0m\n\u001b[0m",
      "\u001b[0;31mValueError\u001b[0m: operands could not be broadcast together with shapes (18,2) (2,6,2) "
     ]
    }
   ],
   "source": [
    "decode_start_pos + future_agents_traj"
   ]
  },
  {
   "cell_type": "code",
   "execution_count": 162,
   "metadata": {},
   "outputs": [],
   "source": [
    "def draw_path(predicted, ax):\n",
    "    for path in predicted:\n",
    "        for p in path:\n",
    "            ax.plot(p[:,0], p[:,1], color='g')"
   ]
  },
  {
   "cell_type": "code",
   "execution_count": 82,
   "metadata": {},
   "outputs": [
    {
     "data": {
      "text/plain": [
       "(2, 6, 6, 2)"
      ]
     },
     "execution_count": 82,
     "metadata": {},
     "output_type": "execute_result"
    }
   ],
   "source": [
    "predicted[5].shape"
   ]
  },
  {
   "cell_type": "code",
   "execution_count": 96,
   "metadata": {
    "scrolled": true
   },
   "outputs": [
    {
     "ename": "ValueError",
     "evalue": "could not broadcast input array from shape (1,2,1,2) into shape (2,6,1,2)",
     "output_type": "error",
     "traceback": [
      "\u001b[0;31m---------------------------------------------------------------------------\u001b[0m",
      "\u001b[0;31mValueError\u001b[0m                                Traceback (most recent call last)",
      "\u001b[0;32m<ipython-input-96-67c7685000d8>\u001b[0m in \u001b[0;36m<module>\u001b[0;34m\u001b[0m\n\u001b[0;32m----> 1\u001b[0;31m \u001b[0mnp\u001b[0m\u001b[0;34m.\u001b[0m\u001b[0minsert\u001b[0m\u001b[0;34m(\u001b[0m\u001b[0mpredicted\u001b[0m\u001b[0;34m[\u001b[0m\u001b[0;36m5\u001b[0m\u001b[0;34m]\u001b[0m\u001b[0;34m,\u001b[0m \u001b[0;36m1\u001b[0m\u001b[0;34m,\u001b[0m \u001b[0mstart\u001b[0m\u001b[0;34m[\u001b[0m\u001b[0;36m5\u001b[0m\u001b[0;34m]\u001b[0m\u001b[0;34m,\u001b[0m \u001b[0maxis\u001b[0m\u001b[0;34m=\u001b[0m\u001b[0;36m2\u001b[0m\u001b[0;34m)\u001b[0m\u001b[0;34m\u001b[0m\u001b[0;34m\u001b[0m\u001b[0m\n\u001b[0m",
      "\u001b[0;32m<__array_function__ internals>\u001b[0m in \u001b[0;36minsert\u001b[0;34m(*args, **kwargs)\u001b[0m\n",
      "\u001b[0;32m~/.pyenv/versions/intelpro/lib/python3.7/site-packages/numpy/lib/function_base.py\u001b[0m in \u001b[0;36minsert\u001b[0;34m(arr, obj, values, axis)\u001b[0m\n\u001b[1;32m   4576\u001b[0m         \u001b[0mnew\u001b[0m\u001b[0;34m[\u001b[0m\u001b[0mtuple\u001b[0m\u001b[0;34m(\u001b[0m\u001b[0mslobj\u001b[0m\u001b[0;34m)\u001b[0m\u001b[0;34m]\u001b[0m \u001b[0;34m=\u001b[0m \u001b[0marr\u001b[0m\u001b[0;34m[\u001b[0m\u001b[0mtuple\u001b[0m\u001b[0;34m(\u001b[0m\u001b[0mslobj\u001b[0m\u001b[0;34m)\u001b[0m\u001b[0;34m]\u001b[0m\u001b[0;34m\u001b[0m\u001b[0;34m\u001b[0m\u001b[0m\n\u001b[1;32m   4577\u001b[0m         \u001b[0mslobj\u001b[0m\u001b[0;34m[\u001b[0m\u001b[0maxis\u001b[0m\u001b[0;34m]\u001b[0m \u001b[0;34m=\u001b[0m \u001b[0mslice\u001b[0m\u001b[0;34m(\u001b[0m\u001b[0mindex\u001b[0m\u001b[0;34m,\u001b[0m \u001b[0mindex\u001b[0m\u001b[0;34m+\u001b[0m\u001b[0mnumnew\u001b[0m\u001b[0;34m)\u001b[0m\u001b[0;34m\u001b[0m\u001b[0;34m\u001b[0m\u001b[0m\n\u001b[0;32m-> 4578\u001b[0;31m         \u001b[0mnew\u001b[0m\u001b[0;34m[\u001b[0m\u001b[0mtuple\u001b[0m\u001b[0;34m(\u001b[0m\u001b[0mslobj\u001b[0m\u001b[0;34m)\u001b[0m\u001b[0;34m]\u001b[0m \u001b[0;34m=\u001b[0m \u001b[0mvalues\u001b[0m\u001b[0;34m\u001b[0m\u001b[0;34m\u001b[0m\u001b[0m\n\u001b[0m\u001b[1;32m   4579\u001b[0m         \u001b[0mslobj\u001b[0m\u001b[0;34m[\u001b[0m\u001b[0maxis\u001b[0m\u001b[0;34m]\u001b[0m \u001b[0;34m=\u001b[0m \u001b[0mslice\u001b[0m\u001b[0;34m(\u001b[0m\u001b[0mindex\u001b[0m\u001b[0;34m+\u001b[0m\u001b[0mnumnew\u001b[0m\u001b[0;34m,\u001b[0m \u001b[0;32mNone\u001b[0m\u001b[0;34m)\u001b[0m\u001b[0;34m\u001b[0m\u001b[0;34m\u001b[0m\u001b[0m\n\u001b[1;32m   4580\u001b[0m         \u001b[0mslobj2\u001b[0m \u001b[0;34m=\u001b[0m \u001b[0;34m[\u001b[0m\u001b[0mslice\u001b[0m\u001b[0;34m(\u001b[0m\u001b[0;32mNone\u001b[0m\u001b[0;34m)\u001b[0m\u001b[0;34m]\u001b[0m \u001b[0;34m*\u001b[0m \u001b[0mndim\u001b[0m\u001b[0;34m\u001b[0m\u001b[0;34m\u001b[0m\u001b[0m\n",
      "\u001b[0;31mValueError\u001b[0m: could not broadcast input array from shape (1,2,1,2) into shape (2,6,1,2)"
     ]
    }
   ],
   "source": [
    "np.insert(predicted[5], 1, start[5], axis=2)"
   ]
  },
  {
   "cell_type": "code",
   "execution_count": 98,
   "metadata": {},
   "outputs": [
    {
     "data": {
      "text/plain": [
       "(6, 6, 2)"
      ]
     },
     "execution_count": 98,
     "metadata": {},
     "output_type": "execute_result"
    }
   ],
   "source": [
    "predicted[55][2].shape"
   ]
  },
  {
   "cell_type": "code",
   "execution_count": 101,
   "metadata": {},
   "outputs": [
    {
     "data": {
      "text/plain": [
       "array([[[-14.429632 ,   7.2863016],\n",
       "        [-14.532649 ,   7.205739 ],\n",
       "        [-14.619736 ,   7.1256866],\n",
       "        [-14.619517 ,   7.059568 ],\n",
       "        [-14.624291 ,   6.97639  ],\n",
       "        [-14.623552 ,   6.8834057]],\n",
       "\n",
       "       [[-14.409732 ,   7.236231 ],\n",
       "        [-14.407837 ,   7.1955   ],\n",
       "        [-14.472232 ,   7.1441436],\n",
       "        [-14.543075 ,   7.1592536],\n",
       "        [-14.579942 ,   7.142264 ],\n",
       "        [-14.6796255,   7.116086 ]],\n",
       "\n",
       "       [[-14.343827 ,   7.2568574],\n",
       "        [-14.306727 ,   7.3152895],\n",
       "        [-14.326636 ,   7.3803563],\n",
       "        [-14.304022 ,   7.4556847],\n",
       "        [-14.268357 ,   7.49052  ],\n",
       "        [-14.231227 ,   7.5190706]],\n",
       "\n",
       "       [[-14.408792 ,   7.271994 ],\n",
       "        [-14.39746  ,   7.229722 ],\n",
       "        [-14.406237 ,   7.1521173],\n",
       "        [-14.428976 ,   7.086971 ],\n",
       "        [-14.427707 ,   7.07122  ],\n",
       "        [-14.424719 ,   7.0690646]],\n",
       "\n",
       "       [[-14.462617 ,   7.320076 ],\n",
       "        [-14.475277 ,   7.330959 ],\n",
       "        [-14.437124 ,   7.3518944],\n",
       "        [-14.407516 ,   7.426133 ],\n",
       "        [-14.345997 ,   7.4867153],\n",
       "        [-14.28844  ,   7.5067453]],\n",
       "\n",
       "       [[-14.405082 ,   7.301947 ],\n",
       "        [-14.396943 ,   7.307312 ],\n",
       "        [-14.390502 ,   7.321166 ],\n",
       "        [-14.35323  ,   7.32891  ],\n",
       "        [-14.302783 ,   7.3909335],\n",
       "        [-14.305587 ,   7.5066266]]], dtype=float32)"
      ]
     },
     "execution_count": 101,
     "metadata": {},
     "output_type": "execute_result"
    }
   ],
   "source": [
    "predicted[55][2]"
   ]
  },
  {
   "cell_type": "code",
   "execution_count": 180,
   "metadata": {},
   "outputs": [],
   "source": [
    "def test_idx(idx):\n",
    "    plt.figure(figsize=(10,10))\n",
    "    \n",
    "    scene_id = scene_ids[idx][0]\n",
    "    \n",
    "    if scene_id < 0:\n",
    "        show_dataset(-scene_id, plt.gca(), dataset)\n",
    "        return\n",
    "    else:\n",
    "        show_dataset(scene_id, plt.gca(), dataset)\n",
    "    \n",
    "    plt.scatter(start[idx][:,0], start[idx][:,1], color='r')\n",
    "\n",
    "    for i in range(len(predicted[idx])):\n",
    "        paths = np.insert(predicted[idx][i], 0, start[idx][i], axis=1)\n",
    "        for path in paths:\n",
    "            plt.plot(path[:,0], path[:,1], color='r')\n",
    "    plt.text(-48, 42, 'ploss: {}\\nqloss: {}'.format(ploss[idx], qloss[idx]), fontsize=15,\\\n",
    "            color='r')"
   ]
  },
  {
   "cell_type": "code",
   "execution_count": 181,
   "metadata": {},
   "outputs": [
    {
     "name": "stderr",
     "output_type": "stream",
     "text": [
      "/home/q10/.pyenv/versions/intelpro/lib/python3.7/site-packages/numpy/core/_asarray.py:83: VisibleDeprecationWarning: Creating an ndarray from ragged nested sequences (which is a list-or-tuple of lists-or-tuples-or ndarrays with different lengths or shapes) is deprecated. If you meant to do this, you must specify 'dtype=object' when creating the ndarray\n",
      "  return array(a, dtype, copy=False, order=order)\n"
     ]
    },
    {
     "data": {
      "image/png": "[encoded data removed]",
      "text/plain": [
       "<Figure size 720x720 with 1 Axes>"
      ]
     },
     "metadata": {},
     "output_type": "display_data"
    }
   ],
   "source": [
    "test_idx(163)"
   ]
  },
  {
   "cell_type": "code",
   "execution_count": 144,
   "metadata": {},
   "outputs": [
    {
     "data": {
      "text/plain": [
       "(6, 6, 2)"
      ]
     },
     "execution_count": 144,
     "metadata": {},
     "output_type": "execute_result"
    }
   ],
   "source": [
    "np.insert(predicted[5][0][0], 0, [0,0], axis=0)\n",
    "np.append(predicted[5][0][0], [[0,0]], axis=0)\n",
    "predicted[5][0].shape"
   ]
  },
  {
   "cell_type": "code",
   "execution_count": 145,
   "metadata": {},
   "outputs": [
    {
     "name": "stderr",
     "output_type": "stream",
     "text": [
      "/home/q10/.pyenv/versions/intelpro/lib/python3.7/site-packages/numpy/core/_asarray.py:83: VisibleDeprecationWarning: Creating an ndarray from ragged nested sequences (which is a list-or-tuple of lists-or-tuples-or ndarrays with different lengths or shapes) is deprecated. If you meant to do this, you must specify 'dtype=object' when creating the ndarray\n",
      "  return array(a, dtype, copy=False, order=order)\n"
     ]
    }
   ],
   "source": [
    "map_masks, map_img, agent_mask, xy_local, _, _, idx = \\\n",
    "        dataset[55]"
   ]
  },
  {
   "cell_type": "code",
   "execution_count": 159,
   "metadata": {},
   "outputs": [
    {
     "data": {
      "text/plain": [
       "array([[ 0.        ,  0.        ],\n",
       "       [16.25965448, 47.31198416],\n",
       "       [16.25965448, 47.31198416],\n",
       "       [16.25965448, 47.31198416],\n",
       "       [16.25965448, 47.31198416],\n",
       "       [16.25965448, 47.31198416],\n",
       "       [16.25965448, 47.31198416]])"
      ]
     },
     "execution_count": 159,
     "metadata": {},
     "output_type": "execute_result"
    }
   ],
   "source": [
    "np.append([[0,0]], xy_local[0][4], axis=0)"
   ]
  },
  {
   "cell_type": "code",
   "execution_count": 167,
   "metadata": {},
   "outputs": [
    {
     "data": {
      "text/plain": [
       "array([[ 0.        ,  0.        ],\n",
       "       [-8.54293386, 31.43542246],\n",
       "       [-8.54397725, 31.42415696],\n",
       "       [-8.54661218, 31.38037275],\n",
       "       [-8.54924712, 31.33658854],\n",
       "       [-8.55188206, 31.29280433],\n",
       "       [-8.55344714, 31.27590609]])"
      ]
     },
     "execution_count": 167,
     "metadata": {},
     "output_type": "execute_result"
    }
   ],
   "source": [
    "np.append([[0,0]], future[i][:6], axis=0)"
   ]
  },
  {
   "cell_type": "code",
   "execution_count": 165,
   "metadata": {},
   "outputs": [
    {
     "data": {
      "text/plain": [
       "array([[-8.54161639, 31.45731456],\n",
       "       [-8.54161639, 31.45731456],\n",
       "       [-8.53938596, 31.48906397],\n",
       "       [-8.5370251 , 31.52222157],\n",
       "       [ 0.        ,  0.        ]])"
      ]
     },
     "execution_count": 165,
     "metadata": {},
     "output_type": "execute_result"
    }
   ],
   "source": [
    "np.append(past[i][-6:], [[0,0]], axis=0)"
   ]
  },
  {
   "cell_type": "code",
   "execution_count": 170,
   "metadata": {},
   "outputs": [
    {
     "data": {
      "text/plain": [
       "(2,)"
      ]
     },
     "execution_count": 170,
     "metadata": {},
     "output_type": "execute_result"
    }
   ],
   "source": [
    "translation[0].shape"
   ]
  },
  {
   "cell_type": "code",
   "execution_count": 164,
   "metadata": {},
   "outputs": [
    {
     "data": {
      "image/png": "[encoded data removed]",
      "text/plain": [
       "<Figure size 432x288 with 1 Axes>"
      ]
     },
     "metadata": {},
     "output_type": "display_data"
    }
   ],
   "source": [
    "past = xy_local[0]\n",
    "future = xy_local[1]\n",
    "translation = xy_local[2]\n",
    "for i in range(len(past)):\n",
    "    if len(past[i]) != 0:\n",
    "        path = np.append(past[i][-6:], [[0,0]], axis=0)\n",
    "        plt.plot(path[:,0], path[:,1], color='steelblue', linewidth=6, alpha=0.3)\n",
    "    if len(future[i]) != 0:\n",
    "        path = np.append([[0,0]], future[i][:6], axis=0)\n",
    "        plt.plot(path[:,0], path[:,1], color='salmon', linewidth=6, alpha=0.3)"
   ]
  },
  {
   "cell_type": "code",
   "execution_count": 171,
   "metadata": {},
   "outputs": [
    {
     "name": "stdout",
     "output_type": "stream",
     "text": [
      "======\n",
      "Loading NuScenes tables for version v1.0-mini...\n",
      "23 category,\n",
      "8 attribute,\n",
      "4 visibility,\n",
      "911 instance,\n",
      "12 sensor,\n",
      "120 calibrated_sensor,\n",
      "31206 ego_pose,\n",
      "8 log,\n",
      "10 scene,\n",
      "404 sample,\n",
      "31206 sample_data,\n",
      "18538 sample_annotation,\n",
      "4 map,\n",
      "Done loading in 0.663 seconds.\n",
      "======\n",
      "Reverse indexing ...\n",
      "Done reverse indexing in 0.1 seconds.\n",
      "======\n"
     ]
    }
   ],
   "source": [
    "from rasterization_q10.generator_dev import NusLoaderQ10\n",
    "from nuscenes.prediction.input_representation.combinators import Rasterizer\n",
    "combinator = Rasterizer()\n",
    "\n",
    "DATAROOT='/datasets/nuscene/v1.0-mini'\n",
    "\n",
    "sampling_time = 3\n",
    "agent_time = 0 # zero for static mask, non-zero for overlap\n",
    "\n",
    "layer_names = ['drivable_area', 'road_segment', 'road_block',\n",
    "               'lane', 'ped_crossing', 'walkway', 'stop_line',\n",
    "               'carpark_area', 'road_divider', 'lane_divider']\n",
    "colors = [(255, 255, 255), (100, 255, 255), (255, 100, 255),\n",
    "          (255, 255, 100), (100, 100, 255), (100, 255, 100), (255, 100, 100),\n",
    "          (100, 100, 100), (50, 100, 50), (200, 50, 50),]\n",
    "\n",
    "dataset = NusLoaderQ10(\n",
    "    root=DATAROOT, \n",
    "    sampling_time=sampling_time, \n",
    "    agent_time=agent_time, \n",
    "    layer_names=layer_names, \n",
    "    colors=colors,\n",
    "    resolution=0.1,\n",
    "    meters_ahead=50,\n",
    "    meters_behind=50,\n",
    "    meters_left=50,\n",
    "    meters_right=50)\n",
    "\n",
    "def show_dataset(idx, ax, dataset=dataset):\n",
    "    def draw_paths(ax, local_paths):\n",
    "        past = local_paths[0]\n",
    "        future = local_paths[1]\n",
    "        translation = local_paths[2]\n",
    "        for i in range(len(past)):\n",
    "            if len(past[i]) != 0:\n",
    "                path = np.append(past[i][-6:], [translation[i]], axis=0)\n",
    "                ax.plot(path[:,0], path[:,1], color='steelblue', linewidth=6, alpha=0.3)\n",
    "            if len(future[i]) != 0:\n",
    "                path = np.append([translation[i]], future[i][:6], axis=0)\n",
    "                ax.plot(path[:,0], path[:,1], color='salmon', linewidth=6, alpha=0.3)\n",
    "    \n",
    "    map_masks, map_img, agent_mask, xy_local, _, _, idx = \\\n",
    "        dataset[idx]\n",
    "    \n",
    "    agent_past = xy_local[0]\n",
    "    agent_future = xy_local[1]\n",
    "    agent_translation = xy_local[2]\n",
    "    \n",
    "    agents_combined = combinator.combine(\n",
    "        np.append(map_masks[[0,5,8,9]], agent_mask[np.newaxis,...], axis=0))\n",
    "    \n",
    "    ax.set_title(\"original\")\n",
    "    ax.imshow(agents_combined, extent=[-50,50,-50,50], alpha=0.3)\n",
    "    if len(xy_local[0]) != 0:\n",
    "        draw_paths(ax, xy_local)\n",
    "        ax.scatter(agent_translation[:,0], agent_translation[:,1], c='b', alpha=0.3)\n",
    "    ax.set_xlim(-50, 50)\n",
    "    ax.set_ylim(-50, 50)"
   ]
  },
  {
   "cell_type": "code",
   "execution_count": 200,
   "metadata": {},
   "outputs": [
    {
     "name": "stderr",
     "output_type": "stream",
     "text": [
      "/home/q10/.pyenv/versions/intelpro/lib/python3.7/site-packages/numpy/core/_asarray.py:83: VisibleDeprecationWarning: Creating an ndarray from ragged nested sequences (which is a list-or-tuple of lists-or-tuples-or ndarrays with different lengths or shapes) is deprecated. If you meant to do this, you must specify 'dtype=object' when creating the ndarray\n",
      "  return array(a, dtype, copy=False, order=order)\n"
     ]
    },
    {
     "data": {
      "image/png": "[encoded data removed]",
      "text/plain": [
       "<Figure size 720x720 with 1 Axes>"
      ]
     },
     "metadata": {},
     "output_type": "display_data"
    }
   ],
   "source": [
    "test_idx(27)"
   ]
  },
  {
   "cell_type": "code",
   "execution_count": 160,
   "metadata": {},
   "outputs": [
    {
     "name": "stderr",
     "output_type": "stream",
     "text": [
      "/home/q10/.pyenv/versions/intelpro/lib/python3.7/site-packages/numpy/core/_asarray.py:83: VisibleDeprecationWarning: Creating an ndarray from ragged nested sequences (which is a list-or-tuple of lists-or-tuples-or ndarrays with different lengths or shapes) is deprecated. If you meant to do this, you must specify 'dtype=object' when creating the ndarray\n",
      "  return array(a, dtype, copy=False, order=order)\n"
     ]
    },
    {
     "data": {
      "image/png": "[encoded data removed]",
      "text/plain": [
       "<Figure size 432x288 with 1 Axes>"
      ]
     },
     "metadata": {},
     "output_type": "display_data"
    }
   ],
   "source": [
    "show_dataset(70, plt.gca(), dataset)"
   ]
  },
  {
   "cell_type": "code",
   "execution_count": 122,
   "metadata": {},
   "outputs": [
    {
     "data": {
      "text/plain": [
       "array([[ 39.2840054 ,  39.02719166],\n",
       "       [ 20.57533074,  36.24566734],\n",
       "       [-28.13589828,  59.68382111],\n",
       "       [-18.16832137,  36.76733215],\n",
       "       [  7.32088571,  18.43489445],\n",
       "       [ -4.56989566,  -8.09093106],\n",
       "       [ -5.78815766,  54.17052417],\n",
       "       [ 31.48907181,  40.05915838],\n",
       "       [-10.17145445,  46.59525327],\n",
       "       [ 39.97291379,  45.56733006],\n",
       "       [  9.97216535,  34.3675873 ],\n",
       "       [ -2.15825011,  27.96985005],\n",
       "       [ 10.40479497,  76.0106562 ],\n",
       "       [-16.81598331,  58.57507357],\n",
       "       [ 48.26692345,  45.1271235 ],\n",
       "       [ -7.87104181,  57.52665015],\n",
       "       [-15.70604024,  54.8962858 ],\n",
       "       [ 30.33359323,  46.59670856]])"
      ]
     },
     "execution_count": 122,
     "metadata": {},
     "output_type": "execute_result"
    }
   ],
   "source": [
    "decode_start_pos"
   ]
  },
  {
   "cell_type": "code",
   "execution_count": 129,
   "metadata": {},
   "outputs": [
    {
     "data": {
      "text/plain": [
       "[<matplotlib.lines.Line2D at 0x7f3716347590>]"
      ]
     },
     "execution_count": 129,
     "metadata": {},
     "output_type": "execute_result"
    },
    {
     "data": {
      "image/png": "[encoded data removed]",
      "text/plain": [
       "<Figure size 432x288 with 1 Axes>"
      ]
     },
     "metadata": {},
     "output_type": "display_data"
    }
   ],
   "source": [
    "# plt.scatter(decode_start_pos[:,0], decode_start_pos[:,1], 'go')\n",
    "\n",
    "plt.plot(decode_start_pos[:,0], \n",
    "            decode_start_pos[:,1], \n",
    "            marker='o', \n",
    "            linestyle='',\n",
    "            label='asdf', linewidth=15, color='orange')"
   ]
  },
  {
   "cell_type": "code",
   "execution_count": null,
   "metadata": {},
   "outputs": [],
   "source": []
  },
  {
   "cell_type": "code",
   "execution_count": null,
   "metadata": {},
   "outputs": [],
   "source": []
  },
  {
   "cell_type": "code",
   "execution_count": null,
   "metadata": {},
   "outputs": [],
   "source": []
  },
  {
   "cell_type": "code",
   "execution_count": null,
   "metadata": {},
   "outputs": [],
   "source": []
  },
  {
   "cell_type": "code",
   "execution_count": null,
   "metadata": {},
   "outputs": [],
   "source": []
  },
  {
   "cell_type": "code",
   "execution_count": null,
   "metadata": {},
   "outputs": [],
   "source": []
  },
  {
   "cell_type": "code",
   "execution_count": null,
   "metadata": {},
   "outputs": [],
   "source": []
  },
  {
   "cell_type": "code",
   "execution_count": null,
   "metadata": {},
   "outputs": [],
   "source": []
  },
  {
   "cell_type": "code",
   "execution_count": null,
   "metadata": {},
   "outputs": [],
   "source": []
  },
  {
   "cell_type": "code",
   "execution_count": null,
   "metadata": {},
   "outputs": [],
   "source": []
  },
  {
   "cell_type": "code",
   "execution_count": null,
   "metadata": {},
   "outputs": [],
   "source": []
  },
  {
   "cell_type": "code",
   "execution_count": null,
   "metadata": {},
   "outputs": [],
   "source": []
  },
  {
   "cell_type": "code",
   "execution_count": null,
   "metadata": {},
   "outputs": [],
   "source": []
  },
  {
   "cell_type": "code",
   "execution_count": null,
   "metadata": {},
   "outputs": [],
   "source": []
  },
  {
   "cell_type": "code",
   "execution_count": null,
   "metadata": {},
   "outputs": [],
   "source": []
  },
  {
   "cell_type": "code",
   "execution_count": 62,
   "metadata": {},
   "outputs": [
    {
     "data": {
      "text/plain": [
       "(torch.Size([12, 6, 2]), torch.Size([]), torch.Size([]))"
      ]
     },
     "execution_count": 62,
     "metadata": {},
     "output_type": "execute_result"
    }
   ],
   "source": [
    "gen_trajs[0].shape, batch_ploss.shape, batch_loss.shape"
   ]
  },
  {
   "cell_type": "code",
   "execution_count": null,
   "metadata": {},
   "outputs": [],
   "source": [
    "model.eval()\n",
    "\n",
    "for b, batch in enumerate(loader_real):\n",
    "    gen_trajs, [z, mu, sigma], [minade3, minfde3]= \\\n",
    "        ModelTest.q10testsingle(model, batch, device)\n",
    "    \n",
    "    \n",
    "    path = gen_trajs[0]\n",
    "    n = len(path)\n",
    "\n",
    "    plt.imshow(batch[0][0][0], extent=(-25,25,-25,25))\n",
    "    for i in range(n):\n",
    "        a = path[i]\n",
    "        plt.plot(a[:,0], a[:,1], color='g')\n",
    "\n",
    "    mask = batch[2]\n",
    "    real = batch[4][mask]\n",
    "    n_real = len(real)\n",
    "    for i in range(n_real):\n",
    "        a = real[i]\n",
    "        plt.plot(a[:,0]/10, a[:,1]/10, color='b')\n",
    "\n",
    "    plt.pause(0.02)"
   ]
  },
  {
   "cell_type": "code",
   "execution_count": null,
   "metadata": {},
   "outputs": [],
   "source": []
  },
  {
   "cell_type": "code",
   "execution_count": null,
   "metadata": {},
   "outputs": [],
   "source": []
  },
  {
   "cell_type": "code",
   "execution_count": null,
   "metadata": {},
   "outputs": [],
   "source": []
  },
  {
   "cell_type": "code",
   "execution_count": null,
   "metadata": {},
   "outputs": [],
   "source": []
  },
  {
   "cell_type": "code",
   "execution_count": null,
   "metadata": {},
   "outputs": [],
   "source": []
  },
  {
   "cell_type": "code",
   "execution_count": null,
   "metadata": {},
   "outputs": [],
   "source": []
  },
  {
   "cell_type": "code",
   "execution_count": 1,
   "metadata": {},
   "outputs": [
    {
     "name": "stdout",
     "output_type": "stream",
     "text": [
      "device: cuda\n",
      "import:\n",
      "pkyutils\n"
     ]
    }
   ],
   "source": [
    "import pkyutils as pky\n",
    "from dataset.nuscenes import NuscenesDataset, nuscenes_collate\n",
    "from torch.utils.data import DataLoader\n",
    "import matplotlib.pyplot as plt\n",
    "\n",
    "import numpy as np\n",
    "import torch\n",
    "import torch.nn.functional as F\n",
    "from torch.utils.data import Dataset\n",
    "from torch.utils.data import DataLoader\n",
    "import cv2\n",
    "\n",
    "import os\n",
    "import pickle\n",
    "from tqdm import tqdm"
   ]
  },
  {
   "cell_type": "code",
   "execution_count": 2,
   "metadata": {},
   "outputs": [
    {
     "name": "stdout",
     "output_type": "stream",
     "text": [
      "Test Examples: 382\n"
     ]
    }
   ],
   "source": [
    "dataset_real = pky.DatasetQ10(root='../generated/mini/gen_None_None/real', data_partition='train')\n",
    "dataset_fake = pky.DatasetQ10(root='../generated/mini/gen_None_None/fake', data_partition='train')\n",
    "\n",
    "loader_real = DataLoader(dataset_real, batch_size=1, shuffle=False, pin_memory=True,\n",
    "                                  collate_fn=lambda x: nuscenes_collate(x), num_workers=1)\n",
    "loader_fake = DataLoader(dataset_fake, batch_size=1, shuffle=False, pin_memory=True,\n",
    "                                  collate_fn=lambda x: nuscenes_collate(x), num_workers=1)\n",
    "print(f'Test Examples: {len(dataset_real)}')"
   ]
  },
  {
   "cell_type": "code",
   "execution_count": 20,
   "metadata": {},
   "outputs": [],
   "source": [
    "from Proposed.models import Global_Scene_CAM_NFDecoder\n",
    "from Proposed.utils import ModelTest\n",
    "from R2P2_MA.model_utils import Interpolated_Ploss\n",
    "\n",
    "device = torch.device(\"cuda\" if torch.cuda.is_available() else \"cpu\")\n",
    "scene_channels = 3\n",
    "nfuture = int(3 * 2)\n",
    "crossmodal_attention = False\n",
    "ploss_type = 'map'\n",
    "\n",
    "model = Global_Scene_CAM_NFDecoder(\n",
    "    device=device, \n",
    "    agent_embed_dim=128, \n",
    "    nfuture=nfuture,\n",
    "    att_dropout=0.1,\n",
    "    velocity_const=0.5,\n",
    "    num_candidates=12,\n",
    "    decoding_steps=nfuture,\n",
    "    att=crossmodal_attention)\n",
    "model = model.to(device)\n",
    "\n",
    "ckpt = 'experiment/trainval1_real_none_none_mini_real_none_none/model100.pth.tar'\n",
    "checkpoint = torch.load(ckpt)\n",
    "model.load_state_dict(checkpoint['model_state'], strict=False)\n",
    "\n",
    "ploss_criterion = Interpolated_Ploss()\n",
    "ploss_criterion = ploss_criterion.to(device)\n",
    "\n",
    "# tester = ModelTest(model, loader_real, args, device, ploss_criterion)"
   ]
  },
  {
   "cell_type": "code",
   "execution_count": 43,
   "metadata": {},
   "outputs": [
    {
     "name": "stdout",
     "output_type": "stream",
     "text": [
      "Starting model test.....\n"
     ]
    },
    {
     "name": "stderr",
     "output_type": "stream",
     "text": [
      "/home/q10/.pyenv/versions/intelpro/lib/python3.7/site-packages/torch/nn/functional.py:3121: UserWarning: Default upsampling behavior when mode=bilinear is changed to align_corners=False since 0.4.0. Please specify align_corners=True if the old behavior is desired. See the documentation of nn.Upsample for details.\n",
      "  \"See the documentation of nn.Upsample for details.\".format(mode))\n"
     ]
    },
    {
     "data": {
      "image/png": "[encoded data removed]",
      "text/plain": [
       "<Figure size 432x288 with 1 Axes>"
      ]
     },
     "metadata": {},
     "output_type": "display_data"
    },
    {
     "name": "stdout",
     "output_type": "stream",
     "text": [
      "Starting model test.....\n"
     ]
    },
    {
     "name": "stderr",
     "output_type": "stream",
     "text": [
      "/home/q10/.pyenv/versions/intelpro/lib/python3.7/site-packages/torch/nn/functional.py:3121: UserWarning: Default upsampling behavior when mode=bilinear is changed to align_corners=False since 0.4.0. Please specify align_corners=True if the old behavior is desired. See the documentation of nn.Upsample for details.\n",
      "  \"See the documentation of nn.Upsample for details.\".format(mode))\n"
     ]
    },
    {
     "data": {
      "image/png": "[encoded data removed]",
      "text/plain": [
       "<Figure size 432x288 with 1 Axes>"
      ]
     },
     "metadata": {},
     "output_type": "display_data"
    },
    {
     "name": "stdout",
     "output_type": "stream",
     "text": [
      "Starting model test.....\n"
     ]
    },
    {
     "name": "stderr",
     "output_type": "stream",
     "text": [
      "/home/q10/.pyenv/versions/intelpro/lib/python3.7/site-packages/torch/nn/functional.py:3121: UserWarning: Default upsampling behavior when mode=bilinear is changed to align_corners=False since 0.4.0. Please specify align_corners=True if the old behavior is desired. See the documentation of nn.Upsample for details.\n",
      "  \"See the documentation of nn.Upsample for details.\".format(mode))\n"
     ]
    },
    {
     "data": {
      "image/png": "[encoded data removed]",
      "text/plain": [
       "<Figure size 432x288 with 1 Axes>"
      ]
     },
     "metadata": {},
     "output_type": "display_data"
    },
    {
     "name": "stdout",
     "output_type": "stream",
     "text": [
      "Starting model test.....\n"
     ]
    },
    {
     "name": "stderr",
     "output_type": "stream",
     "text": [
      "/home/q10/.pyenv/versions/intelpro/lib/python3.7/site-packages/torch/nn/functional.py:3121: UserWarning: Default upsampling behavior when mode=bilinear is changed to align_corners=False since 0.4.0. Please specify align_corners=True if the old behavior is desired. See the documentation of nn.Upsample for details.\n",
      "  \"See the documentation of nn.Upsample for details.\".format(mode))\n"
     ]
    },
    {
     "data": {
      "image/png": "[encoded data removed]",
      "text/plain": [
       "<Figure size 432x288 with 1 Axes>"
      ]
     },
     "metadata": {},
     "output_type": "display_data"
    },
    {
     "name": "stdout",
     "output_type": "stream",
     "text": [
      "Starting model test.....\n"
     ]
    },
    {
     "name": "stderr",
     "output_type": "stream",
     "text": [
      "/home/q10/.pyenv/versions/intelpro/lib/python3.7/site-packages/torch/nn/functional.py:3121: UserWarning: Default upsampling behavior when mode=bilinear is changed to align_corners=False since 0.4.0. Please specify align_corners=True if the old behavior is desired. See the documentation of nn.Upsample for details.\n",
      "  \"See the documentation of nn.Upsample for details.\".format(mode))\n"
     ]
    },
    {
     "data": {
      "image/png": "[encoded data removed]",
      "text/plain": [
       "<Figure size 432x288 with 1 Axes>"
      ]
     },
     "metadata": {},
     "output_type": "display_data"
    },
    {
     "name": "stdout",
     "output_type": "stream",
     "text": [
      "Starting model test.....\n"
     ]
    },
    {
     "name": "stderr",
     "output_type": "stream",
     "text": [
      "/home/q10/.pyenv/versions/intelpro/lib/python3.7/site-packages/torch/nn/functional.py:3121: UserWarning: Default upsampling behavior when mode=bilinear is changed to align_corners=False since 0.4.0. Please specify align_corners=True if the old behavior is desired. See the documentation of nn.Upsample for details.\n",
      "  \"See the documentation of nn.Upsample for details.\".format(mode))\n"
     ]
    },
    {
     "data": {
      "image/png": "[encoded data removed]",
      "text/plain": [
       "<Figure size 432x288 with 1 Axes>"
      ]
     },
     "metadata": {},
     "output_type": "display_data"
    },
    {
     "name": "stdout",
     "output_type": "stream",
     "text": [
      "Starting model test.....\n"
     ]
    },
    {
     "name": "stderr",
     "output_type": "stream",
     "text": [
      "/home/q10/.pyenv/versions/intelpro/lib/python3.7/site-packages/torch/nn/functional.py:3121: UserWarning: Default upsampling behavior when mode=bilinear is changed to align_corners=False since 0.4.0. Please specify align_corners=True if the old behavior is desired. See the documentation of nn.Upsample for details.\n",
      "  \"See the documentation of nn.Upsample for details.\".format(mode))\n"
     ]
    },
    {
     "data": {
      "image/png": "[encoded data removed]",
      "text/plain": [
       "<Figure size 432x288 with 1 Axes>"
      ]
     },
     "metadata": {},
     "output_type": "display_data"
    },
    {
     "name": "stdout",
     "output_type": "stream",
     "text": [
      "Starting model test.....\n"
     ]
    },
    {
     "name": "stderr",
     "output_type": "stream",
     "text": [
      "/home/q10/.pyenv/versions/intelpro/lib/python3.7/site-packages/torch/nn/functional.py:3121: UserWarning: Default upsampling behavior when mode=bilinear is changed to align_corners=False since 0.4.0. Please specify align_corners=True if the old behavior is desired. See the documentation of nn.Upsample for details.\n",
      "  \"See the documentation of nn.Upsample for details.\".format(mode))\n"
     ]
    },
    {
     "data": {
      "image/png": "[encoded data removed]",
      "text/plain": [
       "<Figure size 432x288 with 1 Axes>"
      ]
     },
     "metadata": {},
     "output_type": "display_data"
    },
    {
     "name": "stdout",
     "output_type": "stream",
     "text": [
      "Starting model test.....\n"
     ]
    },
    {
     "name": "stderr",
     "output_type": "stream",
     "text": [
      "/home/q10/.pyenv/versions/intelpro/lib/python3.7/site-packages/torch/nn/functional.py:3121: UserWarning: Default upsampling behavior when mode=bilinear is changed to align_corners=False since 0.4.0. Please specify align_corners=True if the old behavior is desired. See the documentation of nn.Upsample for details.\n",
      "  \"See the documentation of nn.Upsample for details.\".format(mode))\n"
     ]
    },
    {
     "data": {
      "image/png": "[encoded data removed]",
      "text/plain": [
       "<Figure size 432x288 with 1 Axes>"
      ]
     },
     "metadata": {},
     "output_type": "display_data"
    },
    {
     "name": "stdout",
     "output_type": "stream",
     "text": [
      "Starting model test.....\n"
     ]
    },
    {
     "name": "stderr",
     "output_type": "stream",
     "text": [
      "/home/q10/.pyenv/versions/intelpro/lib/python3.7/site-packages/torch/nn/functional.py:3121: UserWarning: Default upsampling behavior when mode=bilinear is changed to align_corners=False since 0.4.0. Please specify align_corners=True if the old behavior is desired. See the documentation of nn.Upsample for details.\n",
      "  \"See the documentation of nn.Upsample for details.\".format(mode))\n"
     ]
    },
    {
     "data": {
      "image/png": "[encoded data removed]",
      "text/plain": [
       "<Figure size 432x288 with 1 Axes>"
      ]
     },
     "metadata": {},
     "output_type": "display_data"
    },
    {
     "name": "stdout",
     "output_type": "stream",
     "text": [
      "Starting model test.....\n"
     ]
    },
    {
     "name": "stderr",
     "output_type": "stream",
     "text": [
      "/home/q10/.pyenv/versions/intelpro/lib/python3.7/site-packages/torch/nn/functional.py:3121: UserWarning: Default upsampling behavior when mode=bilinear is changed to align_corners=False since 0.4.0. Please specify align_corners=True if the old behavior is desired. See the documentation of nn.Upsample for details.\n",
      "  \"See the documentation of nn.Upsample for details.\".format(mode))\n"
     ]
    },
    {
     "data": {
      "image/png": "[encoded data removed]",
      "text/plain": [
       "<Figure size 432x288 with 1 Axes>"
      ]
     },
     "metadata": {},
     "output_type": "display_data"
    },
    {
     "name": "stdout",
     "output_type": "stream",
     "text": [
      "Starting model test.....\n"
     ]
    },
    {
     "name": "stderr",
     "output_type": "stream",
     "text": [
      "/home/q10/.pyenv/versions/intelpro/lib/python3.7/site-packages/torch/nn/functional.py:3121: UserWarning: Default upsampling behavior when mode=bilinear is changed to align_corners=False since 0.4.0. Please specify align_corners=True if the old behavior is desired. See the documentation of nn.Upsample for details.\n",
      "  \"See the documentation of nn.Upsample for details.\".format(mode))\n"
     ]
    },
    {
     "data": {
      "image/png": "[encoded data removed]",
      "text/plain": [
       "<Figure size 432x288 with 1 Axes>"
      ]
     },
     "metadata": {},
     "output_type": "display_data"
    },
    {
     "name": "stdout",
     "output_type": "stream",
     "text": [
      "Starting model test.....\n"
     ]
    },
    {
     "name": "stderr",
     "output_type": "stream",
     "text": [
      "/home/q10/.pyenv/versions/intelpro/lib/python3.7/site-packages/torch/nn/functional.py:3121: UserWarning: Default upsampling behavior when mode=bilinear is changed to align_corners=False since 0.4.0. Please specify align_corners=True if the old behavior is desired. See the documentation of nn.Upsample for details.\n",
      "  \"See the documentation of nn.Upsample for details.\".format(mode))\n"
     ]
    },
    {
     "data": {
      "image/png": "[encoded data removed]",
      "text/plain": [
       "<Figure size 432x288 with 1 Axes>"
      ]
     },
     "metadata": {},
     "output_type": "display_data"
    },
    {
     "name": "stdout",
     "output_type": "stream",
     "text": [
      "Starting model test.....\n"
     ]
    },
    {
     "name": "stderr",
     "output_type": "stream",
     "text": [
      "/home/q10/.pyenv/versions/intelpro/lib/python3.7/site-packages/torch/nn/functional.py:3121: UserWarning: Default upsampling behavior when mode=bilinear is changed to align_corners=False since 0.4.0. Please specify align_corners=True if the old behavior is desired. See the documentation of nn.Upsample for details.\n",
      "  \"See the documentation of nn.Upsample for details.\".format(mode))\n"
     ]
    },
    {
     "data": {
      "image/png": "[encoded data removed]",
      "text/plain": [
       "<Figure size 432x288 with 1 Axes>"
      ]
     },
     "metadata": {},
     "output_type": "display_data"
    },
    {
     "name": "stdout",
     "output_type": "stream",
     "text": [
      "Starting model test.....\n"
     ]
    },
    {
     "name": "stderr",
     "output_type": "stream",
     "text": [
      "/home/q10/.pyenv/versions/intelpro/lib/python3.7/site-packages/torch/nn/functional.py:3121: UserWarning: Default upsampling behavior when mode=bilinear is changed to align_corners=False since 0.4.0. Please specify align_corners=True if the old behavior is desired. See the documentation of nn.Upsample for details.\n",
      "  \"See the documentation of nn.Upsample for details.\".format(mode))\n"
     ]
    },
    {
     "data": {
      "image/png": "[encoded data removed]",
      "text/plain": [
       "<Figure size 432x288 with 1 Axes>"
      ]
     },
     "metadata": {},
     "output_type": "display_data"
    },
    {
     "name": "stdout",
     "output_type": "stream",
     "text": [
      "Starting model test.....\n"
     ]
    },
    {
     "name": "stderr",
     "output_type": "stream",
     "text": [
      "/home/q10/.pyenv/versions/intelpro/lib/python3.7/site-packages/torch/nn/functional.py:3121: UserWarning: Default upsampling behavior when mode=bilinear is changed to align_corners=False since 0.4.0. Please specify align_corners=True if the old behavior is desired. See the documentation of nn.Upsample for details.\n",
      "  \"See the documentation of nn.Upsample for details.\".format(mode))\n"
     ]
    },
    {
     "data": {
      "image/png": "[encoded data removed]",
      "text/plain": [
       "<Figure size 432x288 with 1 Axes>"
      ]
     },
     "metadata": {},
     "output_type": "display_data"
    },
    {
     "name": "stdout",
     "output_type": "stream",
     "text": [
      "Starting model test.....\n"
     ]
    },
    {
     "name": "stderr",
     "output_type": "stream",
     "text": [
      "/home/q10/.pyenv/versions/intelpro/lib/python3.7/site-packages/torch/nn/functional.py:3121: UserWarning: Default upsampling behavior when mode=bilinear is changed to align_corners=False since 0.4.0. Please specify align_corners=True if the old behavior is desired. See the documentation of nn.Upsample for details.\n",
      "  \"See the documentation of nn.Upsample for details.\".format(mode))\n"
     ]
    },
    {
     "data": {
      "image/png": "[encoded data removed]",
      "text/plain": [
       "<Figure size 432x288 with 1 Axes>"
      ]
     },
     "metadata": {},
     "output_type": "display_data"
    },
    {
     "name": "stdout",
     "output_type": "stream",
     "text": [
      "Starting model test.....\n"
     ]
    },
    {
     "name": "stderr",
     "output_type": "stream",
     "text": [
      "/home/q10/.pyenv/versions/intelpro/lib/python3.7/site-packages/torch/nn/functional.py:3121: UserWarning: Default upsampling behavior when mode=bilinear is changed to align_corners=False since 0.4.0. Please specify align_corners=True if the old behavior is desired. See the documentation of nn.Upsample for details.\n",
      "  \"See the documentation of nn.Upsample for details.\".format(mode))\n"
     ]
    },
    {
     "data": {
      "image/png": "[encoded data removed]",
      "text/plain": [
       "<Figure size 432x288 with 1 Axes>"
      ]
     },
     "metadata": {},
     "output_type": "display_data"
    },
    {
     "name": "stdout",
     "output_type": "stream",
     "text": [
      "Starting model test.....\n"
     ]
    },
    {
     "name": "stderr",
     "output_type": "stream",
     "text": [
      "/home/q10/.pyenv/versions/intelpro/lib/python3.7/site-packages/torch/nn/functional.py:3121: UserWarning: Default upsampling behavior when mode=bilinear is changed to align_corners=False since 0.4.0. Please specify align_corners=True if the old behavior is desired. See the documentation of nn.Upsample for details.\n",
      "  \"See the documentation of nn.Upsample for details.\".format(mode))\n"
     ]
    },
    {
     "data": {
      "image/png": "[encoded data removed]",
      "text/plain": [
       "<Figure size 432x288 with 1 Axes>"
      ]
     },
     "metadata": {},
     "output_type": "display_data"
    },
    {
     "name": "stdout",
     "output_type": "stream",
     "text": [
      "Starting model test.....\n"
     ]
    },
    {
     "name": "stderr",
     "output_type": "stream",
     "text": [
      "/home/q10/.pyenv/versions/intelpro/lib/python3.7/site-packages/torch/nn/functional.py:3121: UserWarning: Default upsampling behavior when mode=bilinear is changed to align_corners=False since 0.4.0. Please specify align_corners=True if the old behavior is desired. See the documentation of nn.Upsample for details.\n",
      "  \"See the documentation of nn.Upsample for details.\".format(mode))\n"
     ]
    },
    {
     "data": {
      "image/png": "[encoded data removed]",
      "text/plain": [
       "<Figure size 432x288 with 1 Axes>"
      ]
     },
     "metadata": {},
     "output_type": "display_data"
    },
    {
     "name": "stdout",
     "output_type": "stream",
     "text": [
      "Starting model test.....\n"
     ]
    },
    {
     "name": "stderr",
     "output_type": "stream",
     "text": [
      "/home/q10/.pyenv/versions/intelpro/lib/python3.7/site-packages/torch/nn/functional.py:3121: UserWarning: Default upsampling behavior when mode=bilinear is changed to align_corners=False since 0.4.0. Please specify align_corners=True if the old behavior is desired. See the documentation of nn.Upsample for details.\n",
      "  \"See the documentation of nn.Upsample for details.\".format(mode))\n"
     ]
    },
    {
     "data": {
      "image/png": "[encoded data removed]",
      "text/plain": [
       "<Figure size 432x288 with 1 Axes>"
      ]
     },
     "metadata": {},
     "output_type": "display_data"
    },
    {
     "name": "stdout",
     "output_type": "stream",
     "text": [
      "Starting model test.....\n"
     ]
    },
    {
     "name": "stderr",
     "output_type": "stream",
     "text": [
      "/home/q10/.pyenv/versions/intelpro/lib/python3.7/site-packages/torch/nn/functional.py:3121: UserWarning: Default upsampling behavior when mode=bilinear is changed to align_corners=False since 0.4.0. Please specify align_corners=True if the old behavior is desired. See the documentation of nn.Upsample for details.\n",
      "  \"See the documentation of nn.Upsample for details.\".format(mode))\n"
     ]
    },
    {
     "ename": "RuntimeError",
     "evalue": "cannot reshape tensor of 0 elements into shape [0, 6, -1] because the unspecified dimension size -1 can be any value and is ambiguous",
     "output_type": "error",
     "traceback": [
      "\u001b[0;31m---------------------------------------------------------------------------\u001b[0m",
      "\u001b[0;31mRuntimeError\u001b[0m                              Traceback (most recent call last)",
      "\u001b[0;32m<ipython-input-43-204498697676>\u001b[0m in \u001b[0;36m<module>\u001b[0;34m\u001b[0m\n\u001b[1;32m      1\u001b[0m \u001b[0;32mfor\u001b[0m \u001b[0mb\u001b[0m\u001b[0;34m,\u001b[0m \u001b[0mbatch\u001b[0m \u001b[0;32min\u001b[0m \u001b[0menumerate\u001b[0m\u001b[0;34m(\u001b[0m\u001b[0mloader_real\u001b[0m\u001b[0;34m)\u001b[0m\u001b[0;34m:\u001b[0m\u001b[0;34m\u001b[0m\u001b[0;34m\u001b[0m\u001b[0m\n\u001b[1;32m      2\u001b[0m     \u001b[0mgen_trajs\u001b[0m\u001b[0;34m,\u001b[0m \u001b[0;34m[\u001b[0m\u001b[0mz\u001b[0m\u001b[0;34m,\u001b[0m \u001b[0mmu\u001b[0m\u001b[0;34m,\u001b[0m \u001b[0msigma\u001b[0m\u001b[0;34m]\u001b[0m\u001b[0;34m,\u001b[0m \u001b[0;34m[\u001b[0m\u001b[0mminade3\u001b[0m\u001b[0;34m,\u001b[0m \u001b[0mminfde3\u001b[0m\u001b[0;34m]\u001b[0m\u001b[0;34m=\u001b[0m\u001b[0;31m \u001b[0m\u001b[0;31m\\\u001b[0m\u001b[0;34m\u001b[0m\u001b[0;34m\u001b[0m\u001b[0m\n\u001b[0;32m----> 3\u001b[0;31m         \u001b[0mModelTest\u001b[0m\u001b[0;34m.\u001b[0m\u001b[0mq10testsingle\u001b[0m\u001b[0;34m(\u001b[0m\u001b[0mmodel\u001b[0m\u001b[0;34m,\u001b[0m \u001b[0mbatch\u001b[0m\u001b[0;34m,\u001b[0m \u001b[0mdevice\u001b[0m\u001b[0;34m)\u001b[0m\u001b[0;34m\u001b[0m\u001b[0;34m\u001b[0m\u001b[0m\n\u001b[0m\u001b[1;32m      4\u001b[0m \u001b[0;34m\u001b[0m\u001b[0m\n\u001b[1;32m      5\u001b[0m \u001b[0;34m\u001b[0m\u001b[0m\n",
      "\u001b[0;32m~/ws/repos/naverlabs2020/nuscene_parser/Proposed/utils.py\u001b[0m in \u001b[0;36mq10testsingle\u001b[0;34m(model, batch, device)\u001b[0m\n\u001b[1;32m   1301\u001b[0m                                                                                   \u001b[0mdecode_start_pos\u001b[0m\u001b[0;34m,\u001b[0m\u001b[0;34m\u001b[0m\u001b[0;34m\u001b[0m\u001b[0m\n\u001b[1;32m   1302\u001b[0m                                                                                   \u001b[0mnum_src_trajs\u001b[0m\u001b[0;34m,\u001b[0m\u001b[0;34m\u001b[0m\u001b[0;34m\u001b[0m\u001b[0m\n\u001b[0;32m-> 1303\u001b[0;31m                                                                                   scene_images)\n\u001b[0m\u001b[1;32m   1304\u001b[0m             gen_trajs, z, mu, sigma = model(motion_encoding_, src_lens, agent_tgt_three_mask,\n\u001b[1;32m   1305\u001b[0m                                                  \u001b[0mepisode_idx\u001b[0m\u001b[0;34m,\u001b[0m \u001b[0mdecode_start_vel\u001b[0m\u001b[0;34m,\u001b[0m \u001b[0mdecode_start_pos\u001b[0m\u001b[0;34m,\u001b[0m\u001b[0;34m\u001b[0m\u001b[0;34m\u001b[0m\u001b[0m\n",
      "\u001b[0;32m~/ws/repos/naverlabs2020/nuscene_parser/Proposed/models.py\u001b[0m in \u001b[0;36minfer\u001b[0;34m(self, tgt_trajs, src_trajs, src_lens, future_agent_masks, episode_idx, decode_start_vel, decode_start_pos, num_past_agents, scene)\u001b[0m\n\u001b[1;32m    418\u001b[0m         \u001b[0mprev_locs\u001b[0m \u001b[0;34m=\u001b[0m \u001b[0mtgt_trajs\u001b[0m\u001b[0;34m[\u001b[0m\u001b[0;34m:\u001b[0m\u001b[0;34m,\u001b[0m \u001b[0;34m:\u001b[0m\u001b[0;34m-\u001b[0m\u001b[0;36m1\u001b[0m\u001b[0;34m,\u001b[0m \u001b[0;34m:\u001b[0m\u001b[0;34m]\u001b[0m \u001b[0;31m# [A X (Td -1) X 2] Unrolling positions\u001b[0m\u001b[0;34m\u001b[0m\u001b[0;34m\u001b[0m\u001b[0m\n\u001b[1;32m    419\u001b[0m         \u001b[0minterp_locs\u001b[0m \u001b[0;34m=\u001b[0m \u001b[0mtorch\u001b[0m\u001b[0;34m.\u001b[0m\u001b[0mcat\u001b[0m\u001b[0;34m(\u001b[0m\u001b[0;34m(\u001b[0m\u001b[0minit_loc\u001b[0m\u001b[0;34m,\u001b[0m \u001b[0mprev_locs\u001b[0m\u001b[0;34m)\u001b[0m\u001b[0;34m,\u001b[0m \u001b[0mdim\u001b[0m\u001b[0;34m=\u001b[0m\u001b[0;36m1\u001b[0m\u001b[0;34m)\u001b[0m \u001b[0;31m# [A X Td X 2]\u001b[0m\u001b[0;34m\u001b[0m\u001b[0;34m\u001b[0m\u001b[0m\n\u001b[0;32m--> 420\u001b[0;31m         \u001b[0minterpolated_feature\u001b[0m\u001b[0;34m,\u001b[0m \u001b[0m_\u001b[0m \u001b[0;34m=\u001b[0m \u001b[0mself\u001b[0m\u001b[0;34m.\u001b[0m\u001b[0minterpolator\u001b[0m\u001b[0;34m(\u001b[0m\u001b[0mepisode_idx\u001b[0m\u001b[0;34m,\u001b[0m \u001b[0minterp_locs\u001b[0m\u001b[0;34m,\u001b[0m \u001b[0mlocal_scene_encoding_\u001b[0m\u001b[0;34m,\u001b[0m \u001b[0;36m0.0\u001b[0m\u001b[0;34m)\u001b[0m \u001b[0;31m# [A X Td X Ce]\u001b[0m\u001b[0;34m\u001b[0m\u001b[0;34m\u001b[0m\u001b[0m\n\u001b[0m\u001b[1;32m    421\u001b[0m \u001b[0;34m\u001b[0m\u001b[0m\n\u001b[1;32m    422\u001b[0m         \u001b[0;31m# Repeat motion encdoing for unrollig time\u001b[0m\u001b[0;34m\u001b[0m\u001b[0;34m\u001b[0m\u001b[0;34m\u001b[0m\u001b[0m\n",
      "\u001b[0;32m~/.pyenv/versions/intelpro/lib/python3.7/site-packages/torch/nn/modules/module.py\u001b[0m in \u001b[0;36m_call_impl\u001b[0;34m(self, *input, **kwargs)\u001b[0m\n\u001b[1;32m    720\u001b[0m             \u001b[0mresult\u001b[0m \u001b[0;34m=\u001b[0m \u001b[0mself\u001b[0m\u001b[0;34m.\u001b[0m\u001b[0m_slow_forward\u001b[0m\u001b[0;34m(\u001b[0m\u001b[0;34m*\u001b[0m\u001b[0minput\u001b[0m\u001b[0;34m,\u001b[0m \u001b[0;34m**\u001b[0m\u001b[0mkwargs\u001b[0m\u001b[0;34m)\u001b[0m\u001b[0;34m\u001b[0m\u001b[0;34m\u001b[0m\u001b[0m\n\u001b[1;32m    721\u001b[0m         \u001b[0;32melse\u001b[0m\u001b[0;34m:\u001b[0m\u001b[0;34m\u001b[0m\u001b[0;34m\u001b[0m\u001b[0m\n\u001b[0;32m--> 722\u001b[0;31m             \u001b[0mresult\u001b[0m \u001b[0;34m=\u001b[0m \u001b[0mself\u001b[0m\u001b[0;34m.\u001b[0m\u001b[0mforward\u001b[0m\u001b[0;34m(\u001b[0m\u001b[0;34m*\u001b[0m\u001b[0minput\u001b[0m\u001b[0;34m,\u001b[0m \u001b[0;34m**\u001b[0m\u001b[0mkwargs\u001b[0m\u001b[0;34m)\u001b[0m\u001b[0;34m\u001b[0m\u001b[0;34m\u001b[0m\u001b[0m\n\u001b[0m\u001b[1;32m    723\u001b[0m         for hook in itertools.chain(\n\u001b[1;32m    724\u001b[0m                 \u001b[0m_global_forward_hooks\u001b[0m\u001b[0;34m.\u001b[0m\u001b[0mvalues\u001b[0m\u001b[0;34m(\u001b[0m\u001b[0;34m)\u001b[0m\u001b[0;34m,\u001b[0m\u001b[0;34m\u001b[0m\u001b[0;34m\u001b[0m\u001b[0m\n",
      "\u001b[0;32m~/ws/repos/naverlabs2020/nuscene_parser/Proposed/model_utils.py\u001b[0m in \u001b[0;36mforward\u001b[0;34m(self, episode_idx, sequence, feature_map, oom_val)\u001b[0m\n\u001b[1;32m    216\u001b[0m                               ) # (A*Td) X Ce\n\u001b[1;32m    217\u001b[0m \u001b[0;34m\u001b[0m\u001b[0m\n\u001b[0;32m--> 218\u001b[0;31m         \u001b[0mlocal_featrue_bt\u001b[0m \u001b[0;34m=\u001b[0m \u001b[0mlocal_featrue_flat\u001b[0m\u001b[0;34m.\u001b[0m\u001b[0mreshape\u001b[0m\u001b[0;34m(\u001b[0m\u001b[0;34m(\u001b[0m\u001b[0mtotal_agents\u001b[0m\u001b[0;34m,\u001b[0m \u001b[0mseq_len\u001b[0m\u001b[0;34m,\u001b[0m \u001b[0;34m-\u001b[0m\u001b[0;36m1\u001b[0m\u001b[0;34m)\u001b[0m\u001b[0;34m)\u001b[0m\u001b[0;34m\u001b[0m\u001b[0;34m\u001b[0m\u001b[0m\n\u001b[0m\u001b[1;32m    219\u001b[0m \u001b[0;34m\u001b[0m\u001b[0m\n\u001b[1;32m    220\u001b[0m         \u001b[0;32mreturn\u001b[0m \u001b[0mlocal_featrue_bt\u001b[0m\u001b[0;34m,\u001b[0m \u001b[0msequence_mapCS\u001b[0m\u001b[0;34m\u001b[0m\u001b[0;34m\u001b[0m\u001b[0m\n",
      "\u001b[0;31mRuntimeError\u001b[0m: cannot reshape tensor of 0 elements into shape [0, 6, -1] because the unspecified dimension size -1 can be any value and is ambiguous"
     ]
    }
   ],
   "source": [
    "for b, batch in enumerate(loader_real):\n",
    "    gen_trajs, [z, mu, sigma], [minade3, minfde3]= \\\n",
    "        ModelTest.q10testsingle(model, batch, device)\n",
    "    \n",
    "    \n",
    "    path = gen_trajs[0]\n",
    "    n = len(path)\n",
    "\n",
    "    plt.imshow(batch[0][0][0], extent=(-25,25,-25,25))\n",
    "    for i in range(n):\n",
    "        a = path[i]\n",
    "        plt.plot(a[:,0], a[:,1], color='g')\n",
    "\n",
    "    mask = batch[2]\n",
    "    real = batch[4][mask]\n",
    "    n_real = len(real)\n",
    "    for i in range(n_real):\n",
    "        a = real[i]\n",
    "        plt.plot(a[:,0]/10, a[:,1]/10, color='b')\n",
    "\n",
    "    plt.pause(0.02)\n",
    "    \n",
    "    \n",
    "#     print(gen_trajs, [z, mu, sigma], [minade3, minfde3])\n",
    "#     if b == 5:\n",
    "#         break"
   ]
  },
  {
   "cell_type": "code",
   "execution_count": 40,
   "metadata": {},
   "outputs": [
    {
     "data": {
      "text/plain": [
       "torch.Size([18])"
      ]
     },
     "execution_count": 40,
     "metadata": {},
     "output_type": "execute_result"
    }
   ],
   "source": [
    "batch[2].shape"
   ]
  },
  {
   "cell_type": "code",
   "execution_count": 42,
   "metadata": {},
   "outputs": [
    {
     "data": {
      "image/png": "[encoded data removed]",
      "text/plain": [
       "<Figure size 432x288 with 1 Axes>"
      ]
     },
     "metadata": {},
     "output_type": "display_data"
    }
   ],
   "source": [
    "path = gen_trajs[0]\n",
    "n = len(path)\n",
    "\n",
    "plt.imshow(batch[0][0][0], extent=(-25,25,-25,25))\n",
    "for i in range(n):\n",
    "    a = path[i]\n",
    "    plt.plot(a[:,0], a[:,1], color='g')\n",
    "\n",
    "mask = batch[2]\n",
    "real = batch[4][mask]\n",
    "n_real = len(real)\n",
    "for i in range(n_real):\n",
    "    a = real[i]\n",
    "    plt.plot(a[:,0]/10, a[:,1]/10, color='b')\n",
    "\n",
    "plt.show()"
   ]
  },
  {
   "cell_type": "code",
   "execution_count": 23,
   "metadata": {},
   "outputs": [
    {
     "data": {
      "text/plain": [
       "<matplotlib.image.AxesImage at 0x7ff1885e3d10>"
      ]
     },
     "execution_count": 23,
     "metadata": {},
     "output_type": "execute_result"
    },
    {
     "data": {
      "image/png": "[encoded data removed]",
      "text/plain": [
       "<Figure size 432x288 with 1 Axes>"
      ]
     },
     "metadata": {},
     "output_type": "display_data"
    }
   ],
   "source": [
    "plt.imshow(batch[0][0][0])"
   ]
  },
  {
   "cell_type": "code",
   "execution_count": 10,
   "metadata": {},
   "outputs": [
    {
     "data": {
      "text/plain": [
       "(1, 12, 6, 2)"
      ]
     },
     "execution_count": 10,
     "metadata": {},
     "output_type": "execute_result"
    }
   ],
   "source": [
    "gen_trajs.shape"
   ]
  },
  {
   "cell_type": "markdown",
   "metadata": {},
   "source": [
    "scene_images.shape, log_prior.shape, agent_masks.shape, \\\n",
    "num_src_trajs.shape, src_trajs.shape, src_lens.shape, src_len_idx.shape, \\\n",
    "num_tgt_trajs.shape, tgt_trajs.shape, tgt_lens.shape, tgt_len_idx.shape, \\\n",
    "tgt_two_mask.shape, tgt_three_mask.shape, \\\n",
    "decode_start_vel.shape, decode_start_pos.shape, scene_id.shape"
   ]
  },
  {
   "cell_type": "code",
   "execution_count": 12,
   "metadata": {},
   "outputs": [
    {
     "data": {
      "text/plain": [
       "tensor([False, False, False, False,  True, False, False, False, False, False,\n",
       "        False, False, False, False, False, False])"
      ]
     },
     "execution_count": 12,
     "metadata": {},
     "output_type": "execute_result"
    }
   ],
   "source": [
    "batch[2]"
   ]
  },
  {
   "cell_type": "code",
   "execution_count": 11,
   "metadata": {},
   "outputs": [
    {
     "data": {
      "text/plain": [
       "(torch.Size([16, 4, 2]), torch.Size([1, 6, 2]))"
      ]
     },
     "execution_count": 11,
     "metadata": {},
     "output_type": "execute_result"
    }
   ],
   "source": [
    "batch[4].shape, batch[8].shape"
   ]
  },
  {
   "cell_type": "code",
   "execution_count": null,
   "metadata": {},
   "outputs": [],
   "source": []
  },
  {
   "cell_type": "code",
   "execution_count": 37,
   "metadata": {},
   "outputs": [
    {
     "data": {
      "text/plain": [
       "torch.Size([16, 4, 2])"
      ]
     },
     "execution_count": 37,
     "metadata": {},
     "output_type": "execute_result"
    }
   ],
   "source": [
    "batch[4].shape"
   ]
  },
  {
   "cell_type": "code",
   "execution_count": 45,
   "metadata": {},
   "outputs": [
    {
     "data": {
      "text/plain": [
       "array([2])"
      ]
     },
     "execution_count": 45,
     "metadata": {},
     "output_type": "execute_result"
    }
   ],
   "source": [
    "batch[-1]"
   ]
  },
  {
   "cell_type": "code",
   "execution_count": 2,
   "metadata": {},
   "outputs": [],
   "source": [
    "import matplotlib.pyplot as plt"
   ]
  },
  {
   "cell_type": "code",
   "execution_count": 3,
   "metadata": {},
   "outputs": [
    {
     "data": {
      "image/png": "[encoded data removed]",
      "text/plain": [
       "<Figure size 720x720 with 1 Axes>"
      ]
     },
     "metadata": {
      "needs_background": "light"
     },
     "output_type": "display_data"
    }
   ],
   "source": [
    "fig, ax = plt.subplots(1,1,figsize=(10,10))"
   ]
  },
  {
   "cell_type": "code",
   "execution_count": 8,
   "metadata": {},
   "outputs": [
    {
     "data": {
      "text/plain": [
       "[<matplotlib.lines.Line2D at 0x7f24942c7350>]"
      ]
     },
     "execution_count": 8,
     "metadata": {},
     "output_type": "execute_result"
    }
   ],
   "source": [
    "ax.plot([0,1], [1,0])"
   ]
  },
  {
   "cell_type": "code",
   "execution_count": 11,
   "metadata": {},
   "outputs": [
    {
     "data": {
      "text/plain": [
       "matplotlib.figure.Figure"
      ]
     },
     "execution_count": 11,
     "metadata": {},
     "output_type": "execute_result"
    }
   ],
   "source": [
    "type(fig)"
   ]
  },
  {
   "cell_type": "code",
   "execution_count": 12,
   "metadata": {},
   "outputs": [
    {
     "data": {
      "image/png": "[encoded data removed]",
      "text/plain": [
       "<Figure size 720x720 with 1 Axes>"
      ]
     },
     "metadata": {
      "needs_background": "light"
     },
     "output_type": "display_data"
    }
   ],
   "source": [
    "fig2, ax2 = plt.subplots(1,1,figsize=(10,10))"
   ]
  },
  {
   "cell_type": "code",
   "execution_count": 13,
   "metadata": {},
   "outputs": [],
   "source": [
    "fig2 = fig"
   ]
  },
  {
   "cell_type": "code",
   "execution_count": 16,
   "metadata": {},
   "outputs": [
    {
     "data": {
      "image/png": "[encoded data removed]",
      "text/plain": [
       "<Figure size 720x720 with 1 Axes>"
      ]
     },
     "execution_count": 16,
     "metadata": {},
     "output_type": "execute_result"
    }
   ],
   "source": [
    "fig2"
   ]
  },
  {
   "cell_type": "code",
   "execution_count": 17,
   "metadata": {},
   "outputs": [],
   "source": [
    "plt.pause(0.002)"
   ]
  },
  {
   "cell_type": "code",
   "execution_count": null,
   "metadata": {},
   "outputs": [],
   "source": []
  },
  {
   "cell_type": "code",
   "execution_count": null,
   "metadata": {},
   "outputs": [],
   "source": []
  },
  {
   "cell_type": "code",
   "execution_count": 18,
   "metadata": {},
   "outputs": [
    {
     "data": {
      "text/plain": [
       "True"
      ]
     },
     "execution_count": 18,
     "metadata": {},
     "output_type": "execute_result"
    }
   ],
   "source": [
    "import os\n",
    "\n",
    "os.path.isdir('.')"
   ]
  },
  {
   "cell_type": "code",
   "execution_count": 25,
   "metadata": {},
   "outputs": [
    {
     "data": {
      "text/plain": [
       "0"
      ]
     },
     "execution_count": 25,
     "metadata": {},
     "output_type": "execute_result"
    }
   ],
   "source": [
    "len(os.listdir('results'))"
   ]
  },
  {
   "cell_type": "code",
   "execution_count": 4,
   "metadata": {},
   "outputs": [],
   "source": [
    "import cv2\n",
    "import matplotlib.pyplot as plt\n",
    "from tqdm import tqdm"
   ]
  },
  {
   "cell_type": "code",
   "execution_count": 23,
   "metadata": {},
   "outputs": [
    {
     "data": {
      "text/plain": [
       "3000"
      ]
     },
     "execution_count": 23,
     "metadata": {},
     "output_type": "execute_result"
    }
   ],
   "source": [
    "width"
   ]
  },
  {
   "cell_type": "code",
   "execution_count": null,
   "metadata": {},
   "outputs": [],
   "source": []
  },
  {
   "cell_type": "code",
   "execution_count": 25,
   "metadata": {},
   "outputs": [],
   "source": [
    "# num_data = 10\n",
    "# results_idx = 4\n",
    "# results_dir = 'results/{}'.format(results_idx)\n",
    "\n",
    "# img0 = cv2.imread(results_dir + '/0.png')\n",
    "# image_size = (img0.shape[0], img0.shape[1])\n",
    "# print(image_size)\n",
    "# fourcc = cv2.VideoWriter_fourcc(*'DIVX')\n",
    "# out = cv2.VideoWriter('results/{}rww.avi'.format(results_idx), \n",
    "#                       0, 2, (500,500))\n",
    "# # out = cv2.VideoWriter('results/{}.avi'.format(results_idx), 0, 0, image_size)\n",
    "\n",
    "\n",
    "\n",
    "img_name = str(0)+'.png'\n",
    "frame = cv2.imread(os.path.join(results_dir, img_name))\n",
    "height, width, layers = frame.shape\n",
    "\n",
    "video_name = 'video2.avi'\n",
    "video = cv2.VideoWriter(video_name, 0, 1, (width,height))\n",
    "\n",
    "for i in tqdm(range(num_data), desc='video processing'):\n",
    "    img_name = str(i)+'.png'\n",
    "    video.write(cv2.imread(os.path.join(results_dir, img_name)))\n",
    "cv2.destroyAllWindows()\n",
    "video.release()\n",
    "\n"
   ]
  },
  {
   "cell_type": "code",
   "execution_count": 14,
   "metadata": {},
   "outputs": [],
   "source": [
    "import glob\n",
    "frameSize = (500, 500)\n",
    "\n",
    "out = cv2.VideoWriter('output2.avi',cv2.VideoWriter_fourcc(*'DIVX'), 60, frameSize)\n",
    "\n",
    "for filename in glob.glob('results/8/*.png'):\n",
    "    img = cv2.imread(filename)\n",
    "    out.write(img)\n",
    "\n",
    "out.release()"
   ]
  },
  {
   "cell_type": "code",
   "execution_count": 47,
   "metadata": {},
   "outputs": [
    {
     "data": {
      "text/plain": [
       "('11.png', '0.png')"
      ]
     },
     "execution_count": 47,
     "metadata": {},
     "output_type": "execute_result"
    }
   ],
   "source": [
    "os.listdir(image_folder)[0], images[0]"
   ]
  },
  {
   "cell_type": "code",
   "execution_count": 49,
   "metadata": {},
   "outputs": [
    {
     "name": "stdout",
     "output_type": "stream",
     "text": [
      "results/4/0.png\n",
      "results/4/1.png\n",
      "results/4/2.png\n",
      "results/4/3.png\n",
      "results/4/4.png\n",
      "results/4/5.png\n",
      "results/4/6.png\n",
      "results/4/7.png\n",
      "results/4/8.png\n",
      "results/4/9.png\n"
     ]
    }
   ],
   "source": [
    "for image in images:\n",
    "    print(os.path.join(image_folder, image))"
   ]
  },
  {
   "cell_type": "code",
   "execution_count": 51,
   "metadata": {},
   "outputs": [
    {
     "name": "stdout",
     "output_type": "stream",
     "text": [
      "results/4/11.png\n",
      "results/4/19.png\n",
      "results/4/4.png\n",
      "results/4/17.png\n",
      "results/4/6.png\n",
      "results/4/12.png\n",
      "results/4/3.png\n",
      "results/4/18.png\n",
      "results/4/5.png\n",
      "results/4/14.png\n",
      "results/4/1.png\n",
      "results/4/16.png\n",
      "results/4/15.png\n",
      "results/4/0.png\n",
      "results/4/2.png\n",
      "results/4/13.png\n",
      "results/4/10.png\n",
      "results/4/7.png\n",
      "results/4/8.png\n",
      "results/4/9.png\n"
     ]
    }
   ],
   "source": [
    "for image in images:\n",
    "    print(os.path.join(image_folder, image))"
   ]
  },
  {
   "cell_type": "code",
   "execution_count": 55,
   "metadata": {},
   "outputs": [
    {
     "data": {
      "text/plain": [
       "['0.png',\n",
       " '1.png',\n",
       " '2.png',\n",
       " '3.png',\n",
       " '4.png',\n",
       " '5.png',\n",
       " '6.png',\n",
       " '7.png',\n",
       " '8.png',\n",
       " '9.png',\n",
       " '10.png',\n",
       " '11.png',\n",
       " '12.png',\n",
       " '13.png',\n",
       " '14.png',\n",
       " '15.png',\n",
       " '16.png',\n",
       " '17.png',\n",
       " '18.png',\n",
       " '19.png']"
      ]
     },
     "execution_count": 55,
     "metadata": {},
     "output_type": "execute_result"
    }
   ],
   "source": [
    "natsort.natsorted(images)"
   ]
  },
  {
   "cell_type": "code",
   "execution_count": 57,
   "metadata": {},
   "outputs": [
    {
     "data": {
      "text/plain": [
       "['0.png',\n",
       " '1.png',\n",
       " '2.png',\n",
       " '3.png',\n",
       " '4.png',\n",
       " '5.png',\n",
       " '6.png',\n",
       " '7.png',\n",
       " '8.png',\n",
       " '9.png',\n",
       " '10.png',\n",
       " '11.png',\n",
       " '12.png',\n",
       " '13.png',\n",
       " '14.png',\n",
       " '15.png',\n",
       " '16.png',\n",
       " '17.png',\n",
       " '18.png',\n",
       " '19.png']"
      ]
     },
     "execution_count": 57,
     "metadata": {},
     "output_type": "execute_result"
    }
   ],
   "source": [
    "images"
   ]
  },
  {
   "cell_type": "code",
   "execution_count": null,
   "metadata": {},
   "outputs": [],
   "source": [
    "for image in images:\n",
    "    video.write(cv2.imread(os.path.join(image_folder, image)))"
   ]
  },
  {
   "cell_type": "code",
   "execution_count": 62,
   "metadata": {},
   "outputs": [
    {
     "data": {
      "text/plain": [
       "'11.png'"
      ]
     },
     "execution_count": 62,
     "metadata": {},
     "output_type": "execute_result"
    }
   ],
   "source": [
    "images = [img for img in os.listdir(image_folder) if img.endswith(\".png\")]\n",
    "images[0]"
   ]
  },
  {
   "cell_type": "code",
   "execution_count": 63,
   "metadata": {},
   "outputs": [],
   "source": [
    "import cv2\n",
    "import os\n",
    "import natsort\n",
    "\n",
    "image_folder = 'results/4'\n",
    "video_name = 'video.avi'\n",
    "\n",
    "images = [img for img in os.listdir(image_folder) if img.endswith(\".png\")]\n",
    "images = natsort.natsorted(images)\n",
    "# images = natsort.natsorted(images)\n",
    "# images2 = []\n",
    "# for i in range(num_data):\n",
    "#     images2.append('{}.png'.format(str(i)))\n",
    "\n",
    "\n",
    "frame = cv2.imread(os.path.join(image_folder, images[5]))\n",
    "height, width, layers = frame.shape\n",
    "\n",
    "video = cv2.VideoWriter(video_name, 0, 2, (width,height))\n",
    "\n",
    "# images = natsort.natsorted(images)\n",
    "for image in images:\n",
    "    video.write(cv2.imread(os.path.join(image_folder, image)))\n",
    "\n",
    "cv2.destroyAllWindows()\n",
    "video.release()"
   ]
  },
  {
   "cell_type": "code",
   "execution_count": 31,
   "metadata": {},
   "outputs": [],
   "source": [
    "import numpy as np\n",
    "images = np.asarray(images)"
   ]
  },
  {
   "cell_type": "code",
   "execution_count": 40,
   "metadata": {},
   "outputs": [
    {
     "data": {
      "text/plain": [
       "['11.png',\n",
       " '19.png',\n",
       " '4.png',\n",
       " '17.png',\n",
       " '6.png',\n",
       " '12.png',\n",
       " '3.png',\n",
       " '18.png',\n",
       " '5.png',\n",
       " '14.png',\n",
       " '1.png',\n",
       " '16.png',\n",
       " '15.png',\n",
       " '0.png',\n",
       " '2.png',\n",
       " '13.png',\n",
       " '10.png',\n",
       " '7.png',\n",
       " '8.png',\n",
       " '9.png']"
      ]
     },
     "execution_count": 40,
     "metadata": {},
     "output_type": "execute_result"
    }
   ],
   "source": [
    "images"
   ]
  },
  {
   "cell_type": "code",
   "execution_count": 37,
   "metadata": {},
   "outputs": [],
   "source": [
    "num_data=20\n",
    "\n",
    "image_folder = 'results/4'\n",
    "video_name = 'video3.avi'\n",
    "\n",
    "images = []\n",
    "for i in range(num_data):\n",
    "    images.append(str(i)+'.png')\n",
    "    \n",
    "frame = cv2.imread(os.path.join(image_folder, images[0]))\n",
    "height, width, layers = frame.shape\n",
    "\n",
    "video = cv2.VideoWriter(video_name, 0, 1, (width,height))\n",
    "\n",
    "for image in images:\n",
    "    video.write(cv2.imread(os.path.join(image_folder, image)))\n",
    "\n",
    "cv2.destroyAllWindows()\n",
    "video.release()\n"
   ]
  },
  {
   "cell_type": "code",
   "execution_count": 36,
   "metadata": {},
   "outputs": [
    {
     "data": {
      "text/plain": [
       "['0.png',\n",
       " '1.png',\n",
       " '2.png',\n",
       " '3.png',\n",
       " '4.png',\n",
       " '5.png',\n",
       " '6.png',\n",
       " '7.png',\n",
       " '8.png',\n",
       " '9.png']"
      ]
     },
     "execution_count": 36,
     "metadata": {},
     "output_type": "execute_result"
    }
   ],
   "source": [
    "images"
   ]
  }
 ],
 "metadata": {
  "kernelspec": {
   "display_name": "intelpro",
   "language": "python",
   "name": "intelpro"
  },
  "language_info": {
   "codemirror_mode": {
    "name": "ipython",
    "version": 3
   },
   "file_extension": ".py",
   "mimetype": "text/x-python",
   "name": "python",
   "nbconvert_exporter": "python",
   "pygments_lexer": "ipython3",
   "version": "3.7.9"
  }
 },
 "nbformat": 4,
 "nbformat_minor": 4
}
